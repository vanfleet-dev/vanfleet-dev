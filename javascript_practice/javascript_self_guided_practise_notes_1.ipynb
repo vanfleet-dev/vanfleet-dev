{
 "cells": [
  {
   "cell_type": "markdown",
   "metadata": {},
   "source": [
    "////////////////////////////////////////////////////\n",
    "\n",
    "self guided practise. \n",
    "\n",
    "///////////////////////////////////////////////////"
   ]
  },
  {
   "cell_type": "markdown",
   "metadata": {},
   "source": [
    "template literals:\n",
    "\n",
    "must use `` for the string.\n",
    "\n",
    "use ${...} inside of the string. whats inside will be treaded as javascript "
   ]
  },
  {
   "cell_type": "code",
   "execution_count": null,
   "metadata": {},
   "outputs": [],
   "source": [
    "let num1 = 3;\n",
    "let num2 = 4;\n",
    "\n",
    "`number count: ${num1 + num2}`"
   ]
  },
  {
   "cell_type": "code",
   "execution_count": null,
   "metadata": {},
   "outputs": [],
   "source": [
    "let uppercaseWord = 'word';\n",
    "\n",
    "`the last word in this scentence will be uppercase ${uppercaseWord.toUpperCase()}`"
   ]
  },
  {
   "cell_type": "markdown",
   "metadata": {},
   "source": [
    "variable:\n",
    "\n",
    "switch values of the two vars below. \n",
    "\n",
    "cannot redeclare\n",
    "cant type numbers"
   ]
  },
  {
   "cell_type": "code",
   "execution_count": null,
   "metadata": {},
   "outputs": [],
   "source": [
    "function test(inputOne, inputTwo) {\n",
    "    a = inputOne;\n",
    "    b = inputTwo;\n",
    "\n",
    "    console.log(`a is ${a}`);\n",
    "    console.log(`b is ${b}`);\n",
    "\n",
    "}\n",
    "\n",
    "test(3, 8)"
   ]
  },
  {
   "cell_type": "code",
   "execution_count": null,
   "metadata": {},
   "outputs": [],
   "source": [
    "function test(inputOne, inputTwo) {\n",
    "    a = inputOne;\n",
    "    b = inputTwo;\n",
    "    \n",
    "    aTemp = a\n",
    "    bTemp = b\n",
    "\n",
    "    a = bTemp\n",
    "    b = aTemp\n",
    "\n",
    "    console.log(`a is ${a}`);\n",
    "    console.log(`b is ${b}`);\n",
    "\n",
    "}\n",
    "\n",
    "test(3, 8)"
   ]
  },
  {
   "cell_type": "markdown",
   "metadata": {},
   "source": [
    "concatenation & .length:\n",
    "\n",
    "result should be \"you have writtine X1 number of chars and have X2 number of chars left.\n",
    "\n",
    "where X1 is based on # of chars given in a string & X2 is based on a limit of 140 chars."
   ]
  },
  {
   "cell_type": "code",
   "execution_count": null,
   "metadata": {},
   "outputs": [],
   "source": [
    "function test(inputString) {\n",
    "  stringLength = inputString.length;\n",
    "  remainingChars = 140 - stringLength;\n",
    "  console.log(`${stringLength} chars written. ${remainingChars} remaining.`);\n",
    "  \n",
    "}\n",
    "\n",
    "test(\"I take the skin off chicken...sir\")"
   ]
  },
  {
   "cell_type": "markdown",
   "metadata": {},
   "source": [
    "methods, .slice: \n",
    "\n",
    "variableName.slice(startPosition, endPosition)\n",
    "\n",
    "start position count begins with 0, end position is not included in the slice. 0, 5 returns 0,1,2,3,4"
   ]
  },
  {
   "cell_type": "code",
   "execution_count": null,
   "metadata": {},
   "outputs": [],
   "source": [
    "function test(inputString) {\n",
    "    stringLength = inputString.length;\n",
    "    remainingChars = 140 - stringLength;\n",
    "    console.log(`${stringLength} chars written. ${remainingChars} remaining.`);\n",
    "    if (stringLength >= 140) {\n",
    "      inputString.slice(0,140);\n",
    "      console.log(`Your string was reduced to 140, you were warned. Here's your new string: ${inputString}`)\n",
    "    }\n",
    "    \n",
    "  }\n",
    "\n",
    "  test(\"I take the skin off chicken...sir I take the skin off chicken...sir I take the skin off chicken...sir I take the skin off chicken...sir I take the skin off chicken...sir\")"
   ]
  },
  {
   "cell_type": "markdown",
   "metadata": {},
   "source": [
    "methods, .toUpperCase:\n",
    "\n",
    "word as input\n",
    "\n",
    "make 1st letter of the input is caps.\n",
    "\n",
    "output should be: \n",
    "\n",
    "SomeText Input  "
   ]
  },
  {
   "cell_type": "code",
   "execution_count": null,
   "metadata": {},
   "outputs": [],
   "source": [
    "function test(inputString) {\n",
    "   firstChar = inputString.slice(0,1);\n",
    "   firstChar = firstChar.toUpperCase();\n",
    "   remainingChars = inputString.slice(1);\n",
    "   console.log(`I love ${firstChar}${remainingChars}`);\n",
    "}\n",
    "\n",
    "test(\"lamp\")"
   ]
  },
  {
   "cell_type": "markdown",
   "metadata": {},
   "source": [
    "dog to human age converter:\n",
    "\n",
    "dog age to human age converter\n",
    "\n",
    "formulaAge = (dogAge - 2) * 4 + 21"
   ]
  },
  {
   "cell_type": "code",
   "execution_count": null,
   "metadata": {},
   "outputs": [],
   "source": [
    "function test(inputNumber) {\n",
    "    humanAgeResult = (((inputNumber - 2) * 4) + 21);\n",
    "    console.log(humanAgeResult);\n",
    "}\n",
    "\n",
    "test(333)"
   ]
  },
  {
   "cell_type": "markdown",
   "metadata": {},
   "source": [
    "math.floor, modulo:\n",
    "\n",
    "two numbers are passed, the quotient of number 1 divided by number 2 is rounded down to an integer and logged.\n",
    "\n",
    "the modulo (remainder) of the two inputs is returned and saved to a variable, variable is logged."
   ]
  },
  {
   "cell_type": "code",
   "execution_count": null,
   "metadata": {},
   "outputs": [],
   "source": [
    "function test(inputNumberOne, inputNumberTwo) {\n",
    "    let quotient = Math.floor(inputNumberOne / inputNumberTwo);\n",
    "    console.log(quotient);\n",
    "    return inputNumberOne % inputNumberTwo;\n",
    "}\n",
    "\n",
    "modulo = test(15, 4);\n",
    "console.log(modulo);"
   ]
  }
 ],
 "metadata": {
  "kernelspec": {
   "display_name": "JavaScript (Node.js)",
   "language": "javascript",
   "name": "javascript"
  },
  "language_info": {
   "file_extension": ".js",
   "mimetype": "application/javascript",
   "name": "javascript",
   "version": "16.17.0"
  },
  "orig_nbformat": 4
 },
 "nbformat": 4,
 "nbformat_minor": 2
}
