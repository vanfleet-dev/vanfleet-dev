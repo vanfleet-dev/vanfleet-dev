{
 "cells": [
  {
   "cell_type": "markdown",
   "metadata": {},
   "source": [
    "////////////////////////////////////////////////////\n",
    "\n",
    "self guided practise. \n",
    "\n",
    "///////////////////////////////////////////////////"
   ]
  },
  {
   "cell_type": "markdown",
   "metadata": {},
   "source": [
    "template literals:\n",
    "\n",
    "must use `` for the string.\n",
    "\n",
    "use ${...} inside of the string. whats inside will be treaded as javascript "
   ]
  },
  {
   "cell_type": "code",
   "execution_count": null,
   "metadata": {},
   "outputs": [],
   "source": [
    "let num1 = 3;\n",
    "let num2 = 4;\n",
    "\n",
    "`number count: ${num1 + num2}`"
   ]
  },
  {
   "cell_type": "code",
   "execution_count": null,
   "metadata": {},
   "outputs": [],
   "source": [
    "let uppercaseWord = 'word';\n",
    "\n",
    "`the last word in this scentence will be uppercase ${uppercaseWord.toUpperCase()}`"
   ]
  },
  {
   "cell_type": "markdown",
   "metadata": {},
   "source": [
    "variable:\n",
    "\n",
    "switch values of the two vars below. \n",
    "\n",
    "cannot redeclare\n",
    "cant type numbers"
   ]
  },
  {
   "cell_type": "code",
   "execution_count": null,
   "metadata": {},
   "outputs": [],
   "source": [
    "function test(inputOne, inputTwo) {\n",
    "    a = inputOne;\n",
    "    b = inputTwo;\n",
    "\n",
    "    console.log(`a is ${a}`);\n",
    "    console.log(`b is ${b}`);\n",
    "\n",
    "}\n",
    "\n",
    "test(3, 8)"
   ]
  },
  {
   "cell_type": "code",
   "execution_count": null,
   "metadata": {},
   "outputs": [],
   "source": [
    "function test(inputOne, inputTwo) {\n",
    "    a = inputOne;\n",
    "    b = inputTwo;\n",
    "    \n",
    "    aTemp = a\n",
    "    bTemp = b\n",
    "\n",
    "    a = bTemp\n",
    "    b = aTemp\n",
    "\n",
    "    console.log(`a is ${a}`);\n",
    "    console.log(`b is ${b}`);\n",
    "\n",
    "}\n",
    "\n",
    "test(3, 8)"
   ]
  },
  {
   "cell_type": "markdown",
   "metadata": {},
   "source": [
    "concatenation & .length:\n",
    "\n",
    "result should be \"you have writtine X1 number of chars and have X2 number of chars left.\n",
    "\n",
    "where X1 is based on # of chars given in a string & X2 is based on a limit of 140 chars."
   ]
  },
  {
   "cell_type": "code",
   "execution_count": null,
   "metadata": {},
   "outputs": [],
   "source": [
    "function test(inputString) {\n",
    "  stringLength = inputString.length;\n",
    "  remainingChars = 140 - stringLength;\n",
    "  console.log(`${stringLength} chars written. ${remainingChars} remaining.`);\n",
    "  \n",
    "}\n",
    "\n",
    "test(\"I take the skin off chicken...sir\")"
   ]
  },
  {
   "cell_type": "markdown",
   "metadata": {},
   "source": [
    "methods, .slice: \n",
    "\n",
    "variableName.slice(startPosition, endPosition)\n",
    "\n",
    "start position count begins with 0, end position is not included in the slice. 0, 5 returns 0,1,2,3,4"
   ]
  },
  {
   "cell_type": "code",
   "execution_count": null,
   "metadata": {},
   "outputs": [],
   "source": [
    "function test(inputString) {\n",
    "    stringLength = inputString.length;\n",
    "    remainingChars = 140 - stringLength;\n",
    "    console.log(`${stringLength} chars written. ${remainingChars} remaining.`);\n",
    "    if (stringLength >= 140) {\n",
    "      inputString.slice(0,140);\n",
    "      console.log(`Your string was reduced to 140, you were warned. Here's your new string: ${inputString}`)\n",
    "    }\n",
    "    \n",
    "  }\n",
    "\n",
    "  test(\"I take the skin off chicken...sir I take the skin off chicken...sir I take the skin off chicken...sir I take the skin off chicken...sir I take the skin off chicken...sir\")"
   ]
  },
  {
   "cell_type": "markdown",
   "metadata": {},
   "source": [
    "methods, .toUpperCase:\n",
    "\n",
    "word as input\n",
    "\n",
    "make 1st letter of the input is caps.\n",
    "\n",
    "output should be: \n",
    "\n",
    "SomeText Input  "
   ]
  },
  {
   "cell_type": "code",
   "execution_count": null,
   "metadata": {},
   "outputs": [],
   "source": [
    "function test(inputString) {\n",
    "   firstChar = inputString.slice(0,1);\n",
    "   firstChar = firstChar.toUpperCase();\n",
    "   remainingChars = inputString.slice(1);\n",
    "   console.log(`I love ${firstChar}${remainingChars}`);\n",
    "}\n",
    "\n",
    "test(\"lamp\")"
   ]
  },
  {
   "cell_type": "markdown",
   "metadata": {},
   "source": [
    "dog to human age converter:\n",
    "\n",
    "dog age to human age converter\n",
    "\n",
    "formulaAge = (dogAge - 2) * 4 + 21"
   ]
  },
  {
   "cell_type": "code",
   "execution_count": null,
   "metadata": {},
   "outputs": [],
   "source": [
    "function test(inputNumber) {\n",
    "    humanAgeResult = (((inputNumber - 2) * 4) + 21);\n",
    "    console.log(humanAgeResult);\n",
    "}\n",
    "\n",
    "test(333)"
   ]
  },
  {
   "cell_type": "markdown",
   "metadata": {},
   "source": [
    "math.floor, modulo:\n",
    "\n",
    "two numbers are passed, the quotient of number 1 divided by number 2 is rounded down to an integer and logged.\n",
    "\n",
    "the modulo (remainder) of the two inputs is returned and saved to a variable, variable is logged."
   ]
  },
  {
   "cell_type": "code",
   "execution_count": null,
   "metadata": {},
   "outputs": [],
   "source": [
    "function test(inputNumberOne, inputNumberTwo) {\n",
    "    let quotient = Math.floor(inputNumberOne / inputNumberTwo);\n",
    "    console.log(quotient);\n",
    "    return inputNumberOne % inputNumberTwo;\n",
    "}\n",
    "\n",
    "modulo = test(15, 4);\n",
    "console.log(modulo);"
   ]
  },
  {
   "cell_type": "markdown",
   "metadata": {},
   "source": [
    "functions inside of functions:\n",
    "\n",
    "call a function inside another function and use the parents arguments as arguments for the child function."
   ]
  },
  {
   "cell_type": "code",
   "execution_count": null,
   "metadata": {},
   "outputs": [],
   "source": [
    "// parent\n",
    "function transaction(money, cost) {\n",
    "    console.log(`You can purchase ${calcMaxPurchase(money, cost)} of these with $${money}, you will have $${calcChange(money, cost)} left.`);\n",
    "}\n",
    "\n",
    "// children\n",
    "function calcMaxPurchase(moneyProvided, itemCost) {\n",
    "    let  maxPurchase = Math.floor(moneyProvided / itemCost);\n",
    "    return maxPurchase;\n",
    "}\n",
    "\n",
    "function calcChange(moneyProvided, itemCost) {\n",
    "    let change = moneyProvided % itemCost;\n",
    "    return change;\n",
    "}\n",
    "\n",
    "transaction(11, 6.50);"
   ]
  },
  {
   "cell_type": "markdown",
   "metadata": {},
   "source": [
    "countdown to death:\n",
    "\n",
    "return format:\n",
    "\n",
    "you have x days, y weeks, z months left\n",
    "\n",
    "input number one is current age. input number two is dead age."
   ]
  },
  {
   "cell_type": "code",
   "execution_count": null,
   "metadata": {},
   "outputs": [],
   "source": [
    "function lifeCalc(currentAge, deadAge) {\n",
    "    let yearsLeft = Math.floor(deadAge - currentAge);\n",
    "    let days = yearsLeft * 365;\n",
    "    let weeks = yearsLeft * 52;\n",
    "    let months = yearsLeft * 12;\n",
    "    console.log(`This is how much time you have left: ${days} days, ${weeks} weeks, ${months} months.`);\n",
    "}\n",
    "\n",
    "lifeCalc(35, 90);"
   ]
  },
  {
   "cell_type": "markdown",
   "metadata": {},
   "source": [
    "bmi calc:\n",
    "\n",
    "weight / heightSquared\n",
    "\n",
    "when calling weight must be 1st argument."
   ]
  },
  {
   "cell_type": "code",
   "execution_count": null,
   "metadata": {},
   "outputs": [],
   "source": [
    "function bmiCalc(weight, height) {\n",
    "    let calculatedBmi = weight / (height * height);\n",
    "    console.log(`Your BMI is: ${calculatedBmi.toFixed(2)}`);\n",
    "}\n",
    "\n",
    "var bmi =  bmiCalc(185, 6)"
   ]
  },
  {
   "cell_type": "markdown",
   "metadata": {},
   "source": [
    "8 ball:\n",
    "\n",
    "use math.random and if statements to return strings asigned to a range of numbers. "
   ]
  },
  {
   "cell_type": "code",
   "execution_count": null,
   "metadata": {},
   "outputs": [],
   "source": [
    "function eightBall() {\n",
    "    let num = Math.random();\n",
    "    num = num * 9;\n",
    "    num = Math.floor(num) + 1;\n",
    "    if (num <= 3) {\n",
    "        return \"I dont think so\";\n",
    "    }\n",
    "    else if (num >= 4 && num <= 6) {\n",
    "        return \"Signs point to yes\";\n",
    "    }\n",
    "    else {\n",
    "        return \"Its unclear\";\n",
    "    }\n",
    "}\n",
    "\n",
    "console.log(eightBall());"
   ]
  },
  {
   "cell_type": "markdown",
   "metadata": {},
   "source": [
    "leap year:\n",
    "\n",
    "one every year that is evenly divisible by 4\n",
    "\n",
    "except every year that is evenly divisible by 100\n",
    "\n",
    "unless the year is also evenly divisible by 400"
   ]
  },
  {
   "cell_type": "code",
   "execution_count": null,
   "metadata": {},
   "outputs": [],
   "source": [
    "function checkLeapYear(inputYear) {\n",
    "    let test1 = inputYear / 4;\n",
    "    if (test1 % 1 === 0) {\n",
    "        let test2 = inputYear / 400; \n",
    "        let test3 = inputYear / 100;\n",
    "        if (test2 % 1 === 0 || test3 % 1 !== 0) {\n",
    "            return \"it's a leap year\";\n",
    "        } else {\n",
    "            return \"nope not a leap year\";\n",
    "        } \n",
    "    } else {\n",
    "        return \"nope not a leap year\";\n",
    "    }\n",
    "}\n",
    "\n",
    "console.log(checkLeapYear(2096));"
   ]
  },
  {
   "cell_type": "code",
   "execution_count": null,
   "metadata": {},
   "outputs": [],
   "source": [
    "function checkLeapYear(inputYear) {\n",
    "    if (inputYear % 4 === 0) {\n",
    "        if (inputYear % 400 === 0 || inputYear % 100 !== 0) {\n",
    "            return \"it's a leap year\";\n",
    "        } else {\n",
    "            return \"nope not a leap year\";\n",
    "        } \n",
    "    } else {\n",
    "        return \"nope not a leap year\";\n",
    "    }\n",
    "}\n",
    "\n",
    "console.log(checkLeapYear(1821));"
   ]
  },
  {
   "cell_type": "code",
   "execution_count": null,
   "metadata": {},
   "outputs": [],
   "source": [
    "function checkLeapYear(inputYears) {\n",
    "    for (let i = 0; i < inputYears.length; i++) {\n",
    "        if (inputYears[i] % 4 === 0) {\n",
    "            if (inputYears[i] % 400 === 0 || inputYears[i] % 100 !== 0) {\n",
    "                console.log(\"it's a leap year\");\n",
    "            } else {\n",
    "                console.log(\"nope not a leap year\");\n",
    "            } \n",
    "        } else {\n",
    "            console.log(\"nope not a leap year\");\n",
    "        }\n",
    "    } \n",
    "}\n",
    "\n",
    "const inputYears = [1804, 1808, 1812, 1816, 1820, 1824, 1828, 1832, 1836, 1840, 1844, 1848, 1852, 1856, 1860, 1864, 1868, 1872, 1876, 1880, 1884, 1888, 1892, 1896, 1904, 1908, 1912, 1916, 1920, 1924, 1928, 1932, 1936, 1940, 1944, 1948, 1952, 1956, 1960, 1964, 1968, 1972, 1976, 1980, 1984, 1988, 1992, 1996, 2000, 2004, 2008, 2012, 2016, 2020];\n",
    "console.log(checkLeapYear(inputYears));"
   ]
  }
 ],
 "metadata": {
  "kernelspec": {
   "display_name": "JavaScript (Node.js)",
   "language": "javascript",
   "name": "javascript"
  },
  "language_info": {
   "file_extension": ".js",
   "mimetype": "application/javascript",
   "name": "javascript",
   "version": "16.17.0"
  },
  "orig_nbformat": 4
 },
 "nbformat": 4,
 "nbformat_minor": 2
}
