{
 "cells": [
  {
   "cell_type": "markdown",
   "metadata": {},
   "source": [
    "////////////////////////////////////////////////////\n",
    "\n",
    "self guided practise. \n",
    "\n",
    "///////////////////////////////////////////////////"
   ]
  },
  {
   "cell_type": "markdown",
   "metadata": {},
   "source": [
    "template literals:\n",
    "\n",
    "must use `` for the string.\n",
    "\n",
    "use ${...} inside of the string. whats inside will be treaded as javascript "
   ]
  },
  {
   "cell_type": "code",
   "execution_count": null,
   "metadata": {},
   "outputs": [],
   "source": [
    "let num1 = 3;\n",
    "let num2 = 4;\n",
    "\n",
    "`number count: ${num1 + num2}`"
   ]
  },
  {
   "cell_type": "code",
   "execution_count": null,
   "metadata": {},
   "outputs": [],
   "source": [
    "let uppercaseWord = 'word';\n",
    "\n",
    "`the last word in this scentence will be uppercase ${uppercaseWord.toUpperCase()}`"
   ]
  },
  {
   "cell_type": "markdown",
   "metadata": {},
   "source": [
    "variable:\n",
    "\n",
    "switch values of the two vars below. \n",
    "\n",
    "cannot redeclare\n",
    "cant type numbers"
   ]
  },
  {
   "cell_type": "code",
   "execution_count": null,
   "metadata": {},
   "outputs": [],
   "source": [
    "function test(inputOne, inputTwo) {\n",
    "    a = inputOne;\n",
    "    b = inputTwo;\n",
    "\n",
    "    console.log(`a is ${a}`);\n",
    "    console.log(`b is ${b}`);\n",
    "\n",
    "}\n",
    "\n",
    "test(3, 8)"
   ]
  },
  {
   "cell_type": "code",
   "execution_count": null,
   "metadata": {},
   "outputs": [],
   "source": [
    "function test(inputOne, inputTwo) {\n",
    "    a = inputOne;\n",
    "    b = inputTwo;\n",
    "    \n",
    "    aTemp = a\n",
    "    bTemp = b\n",
    "\n",
    "    a = bTemp\n",
    "    b = aTemp\n",
    "\n",
    "    console.log(`a is ${a}`);\n",
    "    console.log(`b is ${b}`);\n",
    "\n",
    "}\n",
    "\n",
    "test(3, 8)"
   ]
  },
  {
   "cell_type": "markdown",
   "metadata": {},
   "source": [
    "concatenation & .length:\n",
    "\n",
    "result should be \"you have writtine X1 number of chars and have X2 number of chars left.\n",
    "\n",
    "where X1 is based on # of chars given in a string & X2 is based on a limit of 140 chars."
   ]
  },
  {
   "cell_type": "code",
   "execution_count": null,
   "metadata": {},
   "outputs": [],
   "source": [
    "function test(inputString) {\n",
    "  stringLength = inputString.length;\n",
    "  remainingChars = 140 - stringLength;\n",
    "  console.log(`${stringLength} chars written. ${remainingChars} remaining.`);\n",
    "  \n",
    "}\n",
    "\n",
    "test(\"I take the skin off chicken...sir\")"
   ]
  },
  {
   "cell_type": "markdown",
   "metadata": {},
   "source": [
    "methods, .slice: \n",
    "\n",
    "variableName.slice(startPosition, endPosition)\n",
    "\n",
    "start position count begins with 0, end position is not included in the slice. 0, 5 returns 0,1,2,3,4"
   ]
  },
  {
   "cell_type": "code",
   "execution_count": null,
   "metadata": {},
   "outputs": [],
   "source": [
    "function test(inputString) {\n",
    "    stringLength = inputString.length;\n",
    "    remainingChars = 140 - stringLength;\n",
    "    console.log(`${stringLength} chars written. ${remainingChars} remaining.`);\n",
    "    if (stringLength >= 140) {\n",
    "      inputString.slice(0,140);\n",
    "      console.log(`Your string was reduced to 140, you were warned. Here's your new string: ${inputString}`)\n",
    "    }\n",
    "    \n",
    "  }\n",
    "\n",
    "  test(\"I take the skin off chicken...sir I take the skin off chicken...sir I take the skin off chicken...sir I take the skin off chicken...sir I take the skin off chicken...sir\")"
   ]
  },
  {
   "cell_type": "markdown",
   "metadata": {},
   "source": [
    "methods, .toUpperCase:\n",
    "\n",
    "word as input\n",
    "\n",
    "make 1st letter of the input is caps.\n",
    "\n",
    "output should be: \n",
    "\n",
    "SomeText Input  "
   ]
  },
  {
   "cell_type": "code",
   "execution_count": null,
   "metadata": {},
   "outputs": [],
   "source": [
    "function test(inputString) {\n",
    "   firstChar = inputString.slice(0,1);\n",
    "   firstChar = firstChar.toUpperCase();\n",
    "   remainingChars = inputString.slice(1);\n",
    "   console.log(`I love ${firstChar}${remainingChars}`);\n",
    "}\n",
    "\n",
    "test(\"lamp\")"
   ]
  },
  {
   "cell_type": "markdown",
   "metadata": {},
   "source": [
    "dog to human age converter:\n",
    "\n",
    "dog age to human age converter\n",
    "\n",
    "formulaAge = (dogAge - 2) * 4 + 21"
   ]
  },
  {
   "cell_type": "code",
   "execution_count": null,
   "metadata": {},
   "outputs": [],
   "source": [
    "function test(inputNumber) {\n",
    "    humanAgeResult = (((inputNumber - 2) * 4) + 21);\n",
    "    console.log(humanAgeResult);\n",
    "}\n",
    "\n",
    "test(333)"
   ]
  },
  {
   "cell_type": "markdown",
   "metadata": {},
   "source": [
    "math.floor, modulo:\n",
    "\n",
    "two numbers are passed, the quotient of number 1 divided by number 2 is rounded down to an integer and logged.\n",
    "\n",
    "the modulo (remainder) of the two inputs is returned and saved to a variable, variable is logged."
   ]
  },
  {
   "cell_type": "code",
   "execution_count": null,
   "metadata": {},
   "outputs": [],
   "source": [
    "function test(inputNumberOne, inputNumberTwo) {\n",
    "    let quotient = Math.floor(inputNumberOne / inputNumberTwo);\n",
    "    console.log(quotient);\n",
    "    return inputNumberOne % inputNumberTwo;\n",
    "}\n",
    "\n",
    "modulo = test(15, 4);\n",
    "console.log(modulo);"
   ]
  },
  {
   "cell_type": "markdown",
   "metadata": {},
   "source": [
    "functions inside of functions:\n",
    "\n",
    "call a function inside another function and use the parents arguments as arguments for the child function."
   ]
  },
  {
   "cell_type": "code",
   "execution_count": null,
   "metadata": {},
   "outputs": [],
   "source": [
    "// parent\n",
    "function transaction(money, cost) {\n",
    "    console.log(`You can purchase ${calcMaxPurchase(money, cost)} of these with $${money}, you will have $${calcChange(money, cost)} left.`);\n",
    "}\n",
    "\n",
    "// children\n",
    "function calcMaxPurchase(moneyProvided, itemCost) {\n",
    "    let  maxPurchase = Math.floor(moneyProvided / itemCost);\n",
    "    return maxPurchase;\n",
    "}\n",
    "\n",
    "function calcChange(moneyProvided, itemCost) {\n",
    "    let change = moneyProvided % itemCost;\n",
    "    return change;\n",
    "}\n",
    "\n",
    "transaction(11, 6.50);"
   ]
  },
  {
   "cell_type": "markdown",
   "metadata": {},
   "source": [
    "countdown to death:\n",
    "\n",
    "return format:\n",
    "\n",
    "you have x days, y weeks, z months left\n",
    "\n",
    "input number one is current age. input number two is dead age."
   ]
  },
  {
   "cell_type": "code",
   "execution_count": null,
   "metadata": {},
   "outputs": [],
   "source": [
    "function lifeCalc(currentAge, deadAge) {\n",
    "    let yearsLeft = Math.floor(deadAge - currentAge);\n",
    "    let days = yearsLeft * 365;\n",
    "    let weeks = yearsLeft * 52;\n",
    "    let months = yearsLeft * 12;\n",
    "    console.log(`This is how much time you have left: ${days} days, ${weeks} weeks, ${months} months.`);\n",
    "}\n",
    "\n",
    "lifeCalc(35, 90);"
   ]
  },
  {
   "cell_type": "markdown",
   "metadata": {},
   "source": [
    "bmi calc:\n",
    "\n",
    "weight / heightSquared\n",
    "\n",
    "when calling weight must be 1st argument."
   ]
  },
  {
   "cell_type": "code",
   "execution_count": null,
   "metadata": {},
   "outputs": [],
   "source": [
    "function bmiCalc(weight, height) {\n",
    "    let calculatedBmi = weight / (height * height);\n",
    "    console.log(`Your BMI is: ${calculatedBmi.toFixed(2)}`);\n",
    "}\n",
    "\n",
    "var bmi =  bmiCalc(185, 6)"
   ]
  },
  {
   "cell_type": "markdown",
   "metadata": {},
   "source": [
    "8 ball:\n",
    "\n",
    "use math.random and if statements to return strings asigned to a range of numbers. "
   ]
  },
  {
   "cell_type": "code",
   "execution_count": null,
   "metadata": {},
   "outputs": [],
   "source": [
    "function eightBall() {\n",
    "    let num = Math.random();\n",
    "    num = num * 9;\n",
    "    num = Math.floor(num) + 1;\n",
    "    if (num <= 3) {\n",
    "        return \"I dont think so\";\n",
    "    }\n",
    "    else if (num >= 4 && num <= 6) {\n",
    "        return \"Signs point to yes\";\n",
    "    }\n",
    "    else {\n",
    "        return \"Its unclear\";\n",
    "    }\n",
    "}\n",
    "\n",
    "console.log(eightBall());"
   ]
  },
  {
   "cell_type": "markdown",
   "metadata": {},
   "source": [
    "leap year:\n",
    "\n",
    "one every year that is evenly divisible by 4\n",
    "\n",
    "except every year that is evenly divisible by 100\n",
    "\n",
    "unless the year is also evenly divisible by 400"
   ]
  },
  {
   "cell_type": "code",
   "execution_count": null,
   "metadata": {},
   "outputs": [],
   "source": [
    "function checkLeapYear(inputYear) {\n",
    "    let test1 = inputYear / 4;\n",
    "    if (test1 % 1 === 0) {\n",
    "        let test2 = inputYear / 400; \n",
    "        let test3 = inputYear / 100;\n",
    "        if (test2 % 1 === 0 || test3 % 1 !== 0) {\n",
    "            return \"it's a leap year\";\n",
    "        } else {\n",
    "            return \"nope not a leap year\";\n",
    "        } \n",
    "    } else {\n",
    "        return \"nope not a leap year\";\n",
    "    }\n",
    "}\n",
    "\n",
    "console.log(checkLeapYear(2096));"
   ]
  },
  {
   "cell_type": "code",
   "execution_count": null,
   "metadata": {},
   "outputs": [],
   "source": [
    "function checkLeapYear(inputYear) {\n",
    "    if (inputYear % 4 === 0) {\n",
    "        if (inputYear % 400 === 0 || inputYear % 100 !== 0) {\n",
    "            return \"it's a leap year\";\n",
    "        } else {\n",
    "            return \"nope not a leap year\";\n",
    "        } \n",
    "    } else {\n",
    "        return \"nope not a leap year\";\n",
    "    }\n",
    "}\n",
    "\n",
    "console.log(checkLeapYear(1821));"
   ]
  },
  {
   "cell_type": "code",
   "execution_count": null,
   "metadata": {},
   "outputs": [],
   "source": [
    "function checkLeapYear(inputYears) {\n",
    "    for (let i = 0; i < inputYears.length; i++) {\n",
    "        if (inputYears[i] % 4 === 0) {\n",
    "            if (inputYears[i] % 400 === 0 || inputYears[i] % 100 !== 0) {\n",
    "                console.log(\"it's a leap year\");\n",
    "            } else {\n",
    "                console.log(\"nope not a leap year\");\n",
    "            } \n",
    "        } else {\n",
    "            console.log(\"nope not a leap year\");\n",
    "        }\n",
    "    } \n",
    "}\n",
    "\n",
    "const inputYears = [1804, 1808, 1812, 1816, 1820, 1824, 1828, 1832, 1836, 1840, 1844, 1848, 1852, 1856, 1860, 1864, 1868, 1872, 1876, 1880, 1884, 1888, 1892, 1896, 1904, 1908, 1912, 1916, 1920, 1924, 1928, 1932, 1936, 1940, 1944, 1948, 1952, 1956, 1960, 1964, 1968, 1972, 1976, 1980, 1984, 1988, 1992, 1996, 2000, 2004, 2008, 2012, 2016, 2020];\n",
    "console.log(checkLeapYear(inputYears));"
   ]
  },
  {
   "cell_type": "markdown",
   "metadata": {},
   "source": [
    "check array for value:\n",
    "\n",
    "use .includes to check an array for a value\n",
    "\n",
    "return true or false."
   ]
  },
  {
   "cell_type": "code",
   "execution_count": null,
   "metadata": {},
   "outputs": [],
   "source": [
    "function test(numCheck) {\n",
    "    if (array.includes(numCheck)) {\n",
    "        return \"true\";\n",
    "    } else {\n",
    "        return \"false\";\n",
    "    }\n",
    "}\n",
    "\n",
    "const array = [1234, 2345, 3456];\n",
    "test(2245);"
   ]
  },
  {
   "cell_type": "markdown",
   "metadata": {},
   "source": [
    "fizzbuzz\n",
    "\n",
    "print numbers 1 to 100. for multiples of 3 replace the number with \"Fizz\", for multiples of 5 replace the number with \"Buzz\", for numbers that are multiples of both replace with \"FizzBuzz\"."
   ]
  },
  {
   "cell_type": "code",
   "execution_count": null,
   "metadata": {},
   "outputs": [],
   "source": [
    "function fizzerBuzzer() {\n",
    "    for (let i = 1; i < 101; i++) {\n",
    "        if (i % 3 === 0 && i % 5 === 0) {\n",
    "            fizzerBuzzerArr.push(\"FizzBuzz\");\n",
    "        } else if ((i % 3 === 0)) {\n",
    "            fizzerBuzzerArr.push(\"Fizz\");\n",
    "        } else if ((i % 5 === 0)) {\n",
    "            fizzerBuzzerArr.push(\"Buzz\");\n",
    "        } else {\n",
    "            fizzerBuzzerArr.push(i);\n",
    "        }\n",
    "    }\n",
    "}\n",
    "\n",
    "const fizzerBuzzerArr = [];\n",
    "\n",
    "fizzerBuzzer()\n",
    "console.log(fizzerBuzzerArr);"
   ]
  },
  {
   "cell_type": "markdown",
   "metadata": {},
   "source": [
    "99 bottles of beer\n",
    "\n",
    "print the lyrics of the song to an array, including the 1st lyric one more time at the end."
   ]
  },
  {
   "cell_type": "code",
   "execution_count": null,
   "metadata": {},
   "outputs": [],
   "source": [
    "function bottlesOfBeer () {\n",
    "    let numBottles = 99;\n",
    "    let lastLine = 99;\n",
    "    while (numBottles > 0) {\n",
    "        bottlesOfBeerArr.push(`${numBottles} bottles of beer on the wall, ${numBottles} bottles of beer, take one down and pass it around...`);\n",
    "        if (numBottles === 1) {\n",
    "            bottlesOfBeerArr.push(`${lastLine} bottles of beer on the wall, ${lastLine} bottles of beer, take one down and pass it around...`);\n",
    "        }\n",
    "        numBottles--;\n",
    "    }\n",
    "}\n",
    "\n",
    "const bottlesOfBeerArr = [];\n",
    "\n",
    "bottlesOfBeer()\n",
    "console.log(bottlesOfBeerArr);"
   ]
  },
  {
   "cell_type": "markdown",
   "metadata": {},
   "source": [
    "Pick a random array value"
   ]
  },
  {
   "cell_type": "code",
   "execution_count": null,
   "metadata": {},
   "outputs": [],
   "source": [
    "function randomPick () {\n",
    "    let num = Math.random();\n",
    "    num = num * 4;\n",
    "    num = Math.floor(num) + 1;\n",
    "    console.log(possiblePicks[num]);\n",
    "}\n",
    "\n",
    "let possiblePicks = [\"tripple\", \"lunar\", \"ship\", \"vast\", \"turnip\"];\n",
    "randomPick();"
   ]
  },
  {
   "cell_type": "markdown",
   "metadata": {},
   "source": [
    "fibonacci\n",
    "\n",
    "0, 1, 1, 2, 3, 5, 8, 13, 21, 34, 55, 89, 144\n",
    "\n",
    "every number is the sum of the previous two numbers"
   ]
  },
  {
   "cell_type": "code",
   "execution_count": null,
   "metadata": {},
   "outputs": [],
   "source": [
    "function fibonacci (input) {\n",
    "    let sum = 0;\n",
    "    let firstPrevious = 0;\n",
    "    let secondPrevious = 1;\n",
    "    fibArr.push(firstPrevious);\n",
    "    fibArr.push(secondPrevious);\n",
    "    while (sum < input) {\n",
    "        sum = firstPrevious + secondPrevious;\n",
    "        fibArr.push(sum);\n",
    "        firstPrevious = secondPrevious;\n",
    "        secondPrevious = sum;\n",
    "    }\n",
    "}\n",
    "\n",
    "let fibArr = [];\n",
    "\n",
    "fibonacci(200);\n",
    "\n",
    "console.log(fibArr);"
   ]
  },
  {
   "cell_type": "markdown",
   "metadata": {},
   "source": [
    "3 ways to add javascript to html\n",
    "\n",
    "1: inline example\n",
    "\n",
    "2: internal example\n",
    "\n",
    "3: external example"
   ]
  },
  {
   "cell_type": "code",
   "execution_count": null,
   "metadata": {},
   "outputs": [],
   "source": [
    "// example 1\n",
    "\n",
    "<body onload = \"let num1 = 3;\">\n",
    "    <div>\n",
    "\n",
    "    </div>\n",
    "</body>"
   ]
  },
  {
   "cell_type": "code",
   "execution_count": null,
   "metadata": {},
   "outputs": [],
   "source": [
    "// example 2\n",
    "\n",
    "<body>\n",
    "    <div>\n",
    "        <script type=\"text/javascript\">\n",
    "        let num1 = 3;\n",
    "        </script>\n",
    "    </div>\n",
    "</body>"
   ]
  },
  {
   "cell_type": "code",
   "execution_count": null,
   "metadata": {},
   "outputs": [],
   "source": [
    "// example 3\n",
    "\n",
    "<body>\n",
    "    <div>\n",
    "        <script src=\"./scripts/index.js\" charset=\"utf-8\"></script>\n",
    "    </div>\n",
    "</body>"
   ]
  },
  {
   "cell_type": "markdown",
   "metadata": {},
   "source": [
    "DOM\n",
    "\n",
    "see ./javascript_practise/javascript_dom_practise/index.js for DOM examples of concepts and notes.\n",
    "\n"
   ]
  },
  {
   "cell_type": "markdown",
   "metadata": {},
   "source": [
    "higher order functions & passing functions as arguments:\n",
    "\n",
    "the return of the last function (calculator) passes its arguments to the matching function (multiply, add, ect), the data is processed in the matching funciton, then the solution is returned to the calculator function and the solution is returned. "
   ]
  },
  {
   "cell_type": "code",
   "execution_count": null,
   "metadata": {},
   "outputs": [],
   "source": [
    "function add(num1, num2) {\n",
    "    return num1 + num2;\n",
    "}\n",
    "\n",
    "function subtract(num1, num2) {\n",
    "    return num1 - num2;\n",
    "}\n",
    "\n",
    "function multiply(num1, num2) {\n",
    "    return num1 * num2;\n",
    "}\n",
    "\n",
    "function divide(num1, num2) {\n",
    "    return num1 / num2;\n",
    "}\n",
    "\n",
    "function modulus(num1, num2) {\n",
    "    return num1 % num2;\n",
    "}\n",
    "\n",
    "\n",
    "function calculator(num1, num2, operator) {\n",
    "    return operator(num1, num2);\n",
    "}\n",
    "\n",
    "//calculator(1, 1, add);\n",
    "calculator(3.14, 32, multiply);"
   ]
  },
  {
   "cell_type": "markdown",
   "metadata": {},
   "source": [
    "objects"
   ]
  },
  {
   "cell_type": "code",
   "execution_count": null,
   "metadata": {},
   "outputs": [],
   "source": [
    "const playerOne = {\n",
    "    userName: \"lintclepto\",\n",
    "    characterType: \"mage\",\n",
    "    expPoints: 3217,\n",
    "    inventory: [\"staff\", \"strongest potions\", \"point hat\"]\n",
    "}\n",
    "\n",
    "console.log(playerOne.userName);"
   ]
  },
  {
   "cell_type": "markdown",
   "metadata": {},
   "source": [
    "object methods\n",
    "\n",
    "a function can be added to an object and then called as a method.\n",
    "\n",
    "1st exmaple, the function uses two key value pairs to determine attack strength and returns the determined value.\n",
    "\n",
    "2nd exmaple, the function is also a contructor and is making a new array with data from an existing array inside of the object."
   ]
  },
  {
   "cell_type": "code",
   "execution_count": null,
   "metadata": {},
   "outputs": [],
   "source": [
    "const playerTwo = {\n",
    "    userName: \"lintfarm\",\n",
    "    characterType: \"thief\",\n",
    "    expPoints: 4723,\n",
    "    inventory: [\"dagger\", \"poison\", \"lockpick\"],\n",
    "    attackPoints: 32,\n",
    "    attack: function () {\n",
    "        attackVal = this.expPoints / this.attackPoints;\n",
    "        return attackVal;  \n",
    "    }\n",
    "}\n",
    "\n",
    "playerTwo.attack();\n",
    "\n",
    "console.log(`${playerTwo.userName.toUpperCase()} ATTACKS FOR ${Math.floor(playerTwo.attack())}`);"
   ]
  },
  {
   "cell_type": "code",
   "execution_count": null,
   "metadata": {},
   "outputs": [],
   "source": [
    "const playerTwo = {\n",
    "    userName: \"lintfarm\",\n",
    "    characterType: \"thief\",\n",
    "    expPoints: 4723,\n",
    "    inventory: [\"dagger\", \"poison\", \"lockpick\"],\n",
    "    Equip: function () {\n",
    "        this.equipped = this.inventory; \n",
    "    }\n",
    "}\n",
    "\n",
    "playerTwo.Equip()\n",
    "\n",
    "console.log(playerTwo.equipped);\n",
    "console.log(playerTwo);"
   ]
  }
 ],
 "metadata": {
  "kernelspec": {
   "display_name": "JavaScript (Node.js)",
   "language": "javascript",
   "name": "javascript"
  },
  "language_info": {
   "file_extension": ".js",
   "mimetype": "application/javascript",
   "name": "javascript",
   "version": "16.17.0"
  },
  "orig_nbformat": 4
 },
 "nbformat": 4,
 "nbformat_minor": 2
}
