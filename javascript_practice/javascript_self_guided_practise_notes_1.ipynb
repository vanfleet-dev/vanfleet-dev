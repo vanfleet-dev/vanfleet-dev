{
 "cells": [
  {
   "cell_type": "markdown",
   "metadata": {},
   "source": [
    "////////////////////////////////////////////////////\n",
    "\n",
    "self guided practise. \n",
    "\n",
    "///////////////////////////////////////////////////"
   ]
  },
  {
   "cell_type": "markdown",
   "metadata": {},
   "source": [
    "template literals:\n",
    "\n",
    "must use `` for the string.\n",
    "\n",
    "use ${...} inside of the string. whats inside will be treaded as javascript "
   ]
  },
  {
   "cell_type": "code",
   "execution_count": null,
   "metadata": {},
   "outputs": [],
   "source": [
    "let num1 = 3;\n",
    "let num2 = 4;\n",
    "\n",
    "`number count: ${num1 + num2}`"
   ]
  },
  {
   "cell_type": "code",
   "execution_count": null,
   "metadata": {},
   "outputs": [],
   "source": [
    "let uppercaseWord = 'word';\n",
    "\n",
    "`the last word in this scentence will be uppercase ${uppercaseWord.toUpperCase()}`"
   ]
  },
  {
   "cell_type": "markdown",
   "metadata": {},
   "source": [
    "variable:\n",
    "\n",
    "switch values of the two vars below. \n",
    "\n",
    "cannot redeclare\n",
    "cant type numbers"
   ]
  },
  {
   "cell_type": "code",
   "execution_count": null,
   "metadata": {},
   "outputs": [],
   "source": [
    "function test(inputOne, inputTwo) {\n",
    "    a = inputOne;\n",
    "    b = inputTwo;\n",
    "\n",
    "    console.log(`a is ${a}`);\n",
    "    console.log(`b is ${b}`);\n",
    "\n",
    "}\n",
    "\n",
    "test(3, 8)"
   ]
  },
  {
   "cell_type": "code",
   "execution_count": null,
   "metadata": {},
   "outputs": [],
   "source": [
    "function test(inputOne, inputTwo) {\n",
    "    a = inputOne;\n",
    "    b = inputTwo;\n",
    "    \n",
    "    aTemp = a\n",
    "    bTemp = b\n",
    "\n",
    "    a = bTemp\n",
    "    b = aTemp\n",
    "\n",
    "    console.log(`a is ${a}`);\n",
    "    console.log(`b is ${b}`);\n",
    "\n",
    "}\n",
    "\n",
    "test(3, 8)"
   ]
  },
  {
   "cell_type": "markdown",
   "metadata": {},
   "source": [
    "concatenation & .length:\n",
    "\n",
    "result should be \"you have writtine X1 number of chars and have X2 number of chars left.\n",
    "\n",
    "where X1 is based on # of chars given in a string & X2 is based on a limit of 140 chars."
   ]
  },
  {
   "cell_type": "code",
   "execution_count": null,
   "metadata": {},
   "outputs": [],
   "source": [
    "function test(inputString) {\n",
    "  stringLength = inputString.length;\n",
    "  remainingChars = 140 - stringLength;\n",
    "  console.log(`${stringLength} chars written. ${remainingChars} remaining.`);\n",
    "  \n",
    "}\n",
    "\n",
    "test(\"I take the skin off chicken...sir\")"
   ]
  }
 ],
 "metadata": {
  "kernelspec": {
   "display_name": "JavaScript (Node.js)",
   "language": "javascript",
   "name": "javascript"
  },
  "language_info": {
   "file_extension": ".js",
   "mimetype": "application/javascript",
   "name": "javascript",
   "version": "16.17.0"
  },
  "orig_nbformat": 4
 },
 "nbformat": 4,
 "nbformat_minor": 2
}
