{
 "cells": [
  {
   "cell_type": "markdown",
   "metadata": {},
   "source": [
    "1 Comment Your JavaScript Code"
   ]
  },
  {
   "cell_type": "code",
   "execution_count": 1,
   "metadata": {},
   "outputs": [],
   "source": [
    "// This is an inline comment in JavaScript\n",
    "\n",
    "/* This is a multi-line comment in JavaScript*/"
   ]
  },
  {
   "cell_type": "markdown",
   "metadata": {},
   "source": [
    "2 Declare JavaScript Variables\n",
    "\n",
    "In computer science, data is anything that is meaningful to the computer. JavaScript provides eight different data types which are undefined, null, boolean, string, symbol, bigint, number, and object.\n",
    "\n",
    "For example, computers distinguish between numbers, such as the number 12, and strings, such as \"12\", \"dog\", or \"123 cats\", which are collections of characters. Computers can perform mathematical operations on a number, but not on a string.\n",
    "\n",
    "Variables allow computers to store and manipulate data in a dynamic fashion. They do this by using a \"label\" to point to the data rather than using the data itself. Any of the eight data types may be stored in a variable.\n",
    "\n",
    "Variables are similar to the x and y variables you use in mathematics, which means they're a simple name to represent the data we want to refer to. Computer variables differ from mathematical variables in that they can store different values at different times.\n",
    "\n",
    "We tell JavaScript to create or declare a variable by putting the keyword var in front of it, like so:\n"
   ]
  },
  {
   "cell_type": "code",
   "execution_count": null,
   "metadata": {},
   "outputs": [],
   "source": [
    "var ourName;"
   ]
  },
  {
   "cell_type": "markdown",
   "metadata": {},
   "source": [
    "creates a variable called ourName. In JavaScript we end statements with semicolons. Variable names can be made up of numbers, letters, and $ or _, but may not contain spaces or start with a number.\n",
    "\n",
    "Use the var keyword to create a variable called myName."
   ]
  },
  {
   "cell_type": "code",
   "execution_count": null,
   "metadata": {},
   "outputs": [],
   "source": [
    "var myName;"
   ]
  },
  {
   "cell_type": "markdown",
   "metadata": {},
   "source": [
    "3 Storing Values with the Assignment Operator\n",
    "\n",
    "In JavaScript, you can store a value in a variable with the assignment operator (=).\n"
   ]
  },
  {
   "cell_type": "code",
   "execution_count": null,
   "metadata": {},
   "outputs": [],
   "source": [
    "myVariable = 5;"
   ]
  },
  {
   "cell_type": "markdown",
   "metadata": {},
   "source": [
    "This assigns the Number value 5 to myVariable.\n",
    "\n",
    "If there are any calculations to the right of the = operator, those are performed before the value is assigned to the variable on the left of the operator."
   ]
  },
  {
   "cell_type": "code",
   "execution_count": null,
   "metadata": {},
   "outputs": [],
   "source": [
    "var myVar;\n",
    "myVar = 5;"
   ]
  },
  {
   "cell_type": "markdown",
   "metadata": {},
   "source": [
    "First, this code creates a variable named myVar. Then, the code assigns 5 to myVar. Now, if myVar appears again in the code, the program will treat it as if it is 5.\n",
    "\n",
    "Assign the value 7 to variable a."
   ]
  },
  {
   "cell_type": "code",
   "execution_count": null,
   "metadata": {},
   "outputs": [],
   "source": [
    "// Setup\n",
    "var a;\n",
    "\n",
    "// Only change code below this line\n",
    "a = 7;"
   ]
  },
  {
   "cell_type": "markdown",
   "metadata": {},
   "source": [
    "4 Assigning the Value of One Variable to Another\n",
    "\n",
    "After a value is assigned to a variable using the assignment operator, you can assign the value of that variable to another variable using the assignment operator."
   ]
  },
  {
   "cell_type": "code",
   "execution_count": null,
   "metadata": {},
   "outputs": [],
   "source": [
    "var myVar;\n",
    "myVar = 5;\n",
    "var myNum;\n",
    "myNum = myVar;"
   ]
  },
  {
   "cell_type": "markdown",
   "metadata": {},
   "source": [
    "The above declares a myVar variable with no value, then assigns it the value 5. Next, a variable named myNum is declared with no value. \n",
    "\n",
    "Then, the contents of myVar (which is 5) is assigned to the variable myNum. Now, myNum also has the value of 5.\n",
    "\n",
    "Assign the contents of a to variable b."
   ]
  },
  {
   "cell_type": "code",
   "execution_count": null,
   "metadata": {},
   "outputs": [],
   "source": [
    "// Setup\n",
    "var a;\n",
    "a = 7;\n",
    "var b;\n",
    "\n",
    "// Only change code below this line\n",
    "b = a;"
   ]
  },
  {
   "cell_type": "markdown",
   "metadata": {},
   "source": [
    "5 Initializing Variables with the Assignment Operator \n",
    "\n",
    "It is common to initialize a variable to an initial value in the same line as it is declared."
   ]
  },
  {
   "cell_type": "code",
   "execution_count": null,
   "metadata": {},
   "outputs": [],
   "source": [
    "var myVar = 0;"
   ]
  },
  {
   "cell_type": "markdown",
   "metadata": {},
   "source": [
    "Creates a new variable called myVar and assigns it an initial value of 0.\n",
    "\n",
    "Define a variable a with var and initialize it to a value of 9."
   ]
  },
  {
   "cell_type": "code",
   "execution_count": null,
   "metadata": {},
   "outputs": [],
   "source": [
    "var a = 9;"
   ]
  },
  {
   "cell_type": "markdown",
   "metadata": {},
   "source": [
    "6 Declare String Variables\n",
    "\n",
    "Previously you used the following code to declare a variable:"
   ]
  },
  {
   "cell_type": "code",
   "execution_count": null,
   "metadata": {},
   "outputs": [],
   "source": [
    "var myName;"
   ]
  },
  {
   "cell_type": "markdown",
   "metadata": {},
   "source": [
    "But you can also declare a string variable like this:"
   ]
  },
  {
   "cell_type": "code",
   "execution_count": null,
   "metadata": {},
   "outputs": [],
   "source": [
    "var myName = \"your name\";"
   ]
  },
  {
   "cell_type": "markdown",
   "metadata": {},
   "source": [
    "\"your name\" is called a string literal. A string literal, or string, is a series of zero or more characters enclosed in single or double quotes.\n",
    "\n",
    "Create two new string variables: myFirstName and myLastName and assign them the values of your first and last name, respectively.\n"
   ]
  },
  {
   "cell_type": "code",
   "execution_count": null,
   "metadata": {},
   "outputs": [],
   "source": [
    "var myFirstName = \"justin\";\n",
    "var myLastName = \"vanfleet\";"
   ]
  },
  {
   "cell_type": "markdown",
   "metadata": {},
   "source": [
    "7 Understanding Uninitialized Variables\n",
    "\n",
    "When JavaScript variables are declared, they have an initial value of undefined. If you do a mathematical operation on an undefined variable your result will be NaN which means \"Not a Number\". If you concatenate a string with an undefined variable, you will get a string of undefined.\n",
    "\n",
    "Initialize the three variables a, b, and c with 5, 10, and \"I am a\" respectively so that they will not be undefined.\n"
   ]
  },
  {
   "cell_type": "code",
   "execution_count": null,
   "metadata": {},
   "outputs": [],
   "source": [
    "// Only change code below this line\n",
    "var a = 5;\n",
    "var b = 10;\n",
    "var c = \"I am a\";\n",
    "// Only change code above this line\n",
    "\n",
    "a = a + 1;\n",
    "b = b + 5;\n",
    "c = c + \" String!\";"
   ]
  },
  {
   "cell_type": "markdown",
   "metadata": {},
   "source": [
    "8 Understanding Case Sensitivity in Variables \n",
    "\n",
    "In JavaScript all variables and function names are case sensitive. This means that capitalization matters.\n",
    "\n",
    "MYVAR is not the same as MyVar nor myvar. It is possible to have multiple distinct variables with the same name but different casing. It is strongly recommended that for the sake of clarity, you do not use this language feature.\n",
    "\n",
    "Best Practice\n",
    "\n",
    "Write variable names in JavaScript in camelCase. In camelCase, multi-word variable names have the first word in lowercase and the first letter of each subsequent word is capitalized.\n",
    "\n",
    "Examples:"
   ]
  },
  {
   "cell_type": "code",
   "execution_count": null,
   "metadata": {},
   "outputs": [],
   "source": [
    "var someVariable;\n",
    "var anotherVariableName;\n",
    "var thisVariableNameIsSoLong;"
   ]
  },
  {
   "cell_type": "markdown",
   "metadata": {},
   "source": [
    "Modify the existing declarations and assignments so their names use camelCase.\n",
    "\n",
    "Do not create any new variables."
   ]
  },
  {
   "cell_type": "code",
   "execution_count": null,
   "metadata": {},
   "outputs": [],
   "source": [
    "// Variable declarations\n",
    "var StUdLyCapVaR;\n",
    "var properCamelCase;\n",
    "var TitleCaseOver;\n",
    "\n",
    "// Variable assignments\n",
    "STUDLYCAPVAR = 10;\n",
    "PRoperCAmelCAse = \"A String\";\n",
    "tITLEcASEoVER = 9000;"
   ]
  },
  {
   "cell_type": "code",
   "execution_count": null,
   "metadata": {},
   "outputs": [],
   "source": [
    "var studlyCapVar;\n",
    "var properCamelCase;\n",
    "var titleCaseOver;\n",
    "\n",
    "studlyCapVar = 10;\n",
    "properCamelCase= \"A String\";\n",
    "titleCaseOver = 9000;"
   ]
  },
  {
   "cell_type": "markdown",
   "metadata": {},
   "source": [
    "9 Explore Differences Between the var and let Keywords\n",
    "\n",
    "One of the biggest problems with declaring variables with the var keyword is that you can easily overwrite variable declarations:\n"
   ]
  },
  {
   "cell_type": "code",
   "execution_count": null,
   "metadata": {},
   "outputs": [],
   "source": [
    "var camper = \"James\";\n",
    "var camper = \"David\";\n",
    "console.log(camper);"
   ]
  },
  {
   "cell_type": "markdown",
   "metadata": {},
   "source": [
    "In the code above, the camper variable is originally declared as James, and is then overridden to be David. The console then displays the string David.\n",
    "\n",
    "In a small application, you might not run into this type of problem. But as your codebase becomes larger, you might accidentally overwrite a variable that you did not intend to. Because this behavior does not throw an error, searching for and fixing bugs becomes more difficult.\n",
    "\n",
    "A keyword called let was introduced in ES6, a major update to JavaScript, to solve this potential issue with the var keyword. You'll learn about other ES6 features in later challenges.\n",
    "\n",
    "If you replace var with let in the code above, it results in an error:\n"
   ]
  },
  {
   "cell_type": "code",
   "execution_count": null,
   "metadata": {},
   "outputs": [],
   "source": [
    "let camper = \"James\";\n",
    "let camper = \"David\";"
   ]
  },
  {
   "cell_type": "markdown",
   "metadata": {},
   "source": [
    "The error can be seen in your browser console.\n",
    "\n",
    "So unlike var, when you use let, a variable with the same name can only be declared once.\n",
    "\n",
    "Update the code so it only uses the let keyword."
   ]
  },
  {
   "cell_type": "code",
   "execution_count": null,
   "metadata": {},
   "outputs": [],
   "source": [
    "let catName = \"Oliver\";\n",
    "let catSound = \"Meow!\";"
   ]
  },
  {
   "cell_type": "markdown",
   "metadata": {},
   "source": [
    "10 Declare a Read-Only Variable with the const Keyword\n",
    "\n",
    "The keyword let is not the only new way to declare variables. In ES6, you can also declare variables using the const keyword.\n",
    "\n",
    "const has all the awesome features that let has, with the added bonus that variables declared using const are read-only. They are a constant value, which means that once a variable is assigned with const, it cannot be reassigned:\n"
   ]
  },
  {
   "cell_type": "code",
   "execution_count": null,
   "metadata": {},
   "outputs": [],
   "source": [
    "const FAV_PET = \"Cats\";\n",
    "FAV_PET = \"Dogs\";"
   ]
  },
  {
   "cell_type": "markdown",
   "metadata": {},
   "source": [
    "The console will display an error due to reassigning the value of FAV_PET.\n",
    "\n",
    "You should always name variables you don't want to reassign using the const keyword. This helps when you accidentally attempt to reassign a variable that is meant to stay constant.\n",
    "\n",
    "Note: It is common for developers to use uppercase variable identifiers for immutable values and lowercase or camelCase for mutable values (objects and arrays). You will learn more about objects, arrays, and immutable and mutable values in later challenges. Also in later challenges, you will see examples of uppercase, lowercase, or camelCase variable identifiers.\n",
    "\n",
    "Change the code so that all variables are declared using let or const. Use let when you want the variable to change, and const when you want the variable to remain constant. Also, rename variables declared with const to conform to common practices. Do not change the strings assigned to the variables."
   ]
  },
  {
   "cell_type": "code",
   "execution_count": null,
   "metadata": {},
   "outputs": [],
   "source": [
    "var fCC = \"freeCodeCamp\"; // Change this line\n",
    "var fact = \"is cool!\"; // Change this line\n",
    "fact = \"is awesome!\";\n",
    "console.log(fCC, fact); // Change this line"
   ]
  },
  {
   "cell_type": "code",
   "execution_count": null,
   "metadata": {},
   "outputs": [],
   "source": [
    "const FCC = \"freeCodeCamp\"; \n",
    "let fact = \"is cool!\"; \n",
    "fact = \"is awesome!\";\n",
    "console.log(FCC, fact);"
   ]
  },
  {
   "cell_type": "markdown",
   "metadata": {},
   "source": [
    "10 Add Two Numbers with JavaScript\n",
    "\n",
    "Number is a data type in JavaScript which represents numeric data.\n",
    "\n",
    "Now let's try to add two numbers using JavaScript.\n",
    "\n",
    "JavaScript uses the + symbol as an addition operator when placed between two numbers.\n",
    "\n",
    "Example:"
   ]
  },
  {
   "cell_type": "code",
   "execution_count": null,
   "metadata": {},
   "outputs": [],
   "source": [
    "const myVar = 5 + 10;"
   ]
  },
  {
   "cell_type": "markdown",
   "metadata": {},
   "source": [
    "myVar now has the value 15.\n",
    "\n",
    "Change the 0 so that sum will equal 20."
   ]
  },
  {
   "cell_type": "code",
   "execution_count": null,
   "metadata": {},
   "outputs": [],
   "source": [
    "const sum = 10 + 0;"
   ]
  },
  {
   "cell_type": "code",
   "execution_count": null,
   "metadata": {},
   "outputs": [],
   "source": [
    "const sum = 10 + 10;"
   ]
  },
  {
   "cell_type": "markdown",
   "metadata": {},
   "source": [
    "11 Subtract One Number from Another with JavaScript\n",
    "\n",
    "We can also subtract one number from another.\n",
    "\n",
    "JavaScript uses the - symbol for subtraction.\n",
    "\n",
    "Example"
   ]
  },
  {
   "cell_type": "code",
   "execution_count": null,
   "metadata": {},
   "outputs": [],
   "source": [
    "const myVar = 12 - 6;"
   ]
  },
  {
   "cell_type": "markdown",
   "metadata": {},
   "source": [
    "myVar would have the value 6.\n",
    "\n",
    "Change the 0 so the difference is 12."
   ]
  },
  {
   "cell_type": "code",
   "execution_count": null,
   "metadata": {},
   "outputs": [],
   "source": [
    "const difference = 45 - 0;"
   ]
  },
  {
   "cell_type": "code",
   "execution_count": null,
   "metadata": {},
   "outputs": [],
   "source": [
    "const difference = 45 - 33;"
   ]
  },
  {
   "cell_type": "markdown",
   "metadata": {},
   "source": [
    "12 Multiply Two Numbers with JavaScript\n",
    "\n",
    "We can also multiply one number by another.\n",
    "\n",
    "JavaScript uses the * symbol for multiplication of two numbers.\n",
    "\n",
    "Example"
   ]
  },
  {
   "cell_type": "code",
   "execution_count": null,
   "metadata": {},
   "outputs": [],
   "source": [
    "const myVar = 13 * 13;"
   ]
  },
  {
   "cell_type": "markdown",
   "metadata": {},
   "source": [
    "myVar would have the value 169.\n",
    "\n",
    "Change the 0 so that product will equal 80."
   ]
  },
  {
   "cell_type": "code",
   "execution_count": null,
   "metadata": {},
   "outputs": [],
   "source": [
    "const product = 8 * 0;"
   ]
  },
  {
   "cell_type": "code",
   "execution_count": null,
   "metadata": {},
   "outputs": [],
   "source": [
    "const product = 8 * 10;"
   ]
  },
  {
   "cell_type": "markdown",
   "metadata": {},
   "source": [
    "13 Divide One Number by Another with JavaScript\n",
    "\n",
    "We can also divide one number by another.\n",
    "\n",
    "JavaScript uses the / symbol for division.\n",
    "\n",
    "Example"
   ]
  },
  {
   "cell_type": "code",
   "execution_count": null,
   "metadata": {},
   "outputs": [],
   "source": [
    "const myVar = 16 / 2;"
   ]
  },
  {
   "cell_type": "markdown",
   "metadata": {},
   "source": [
    "myVar now has the value 8.\n",
    "\n",
    "Change the 0 so that the quotient is equal to 2."
   ]
  },
  {
   "cell_type": "code",
   "execution_count": null,
   "metadata": {},
   "outputs": [],
   "source": [
    "const quotient = 66 / 0;"
   ]
  },
  {
   "cell_type": "code",
   "execution_count": null,
   "metadata": {},
   "outputs": [],
   "source": [
    "const quotient = 66 / 33;"
   ]
  },
  {
   "cell_type": "markdown",
   "metadata": {},
   "source": [
    "14 Increment a Number with JavaScript\n",
    "\n",
    "You can easily increment or add one to a variable with the ++ operator."
   ]
  },
  {
   "cell_type": "code",
   "execution_count": null,
   "metadata": {},
   "outputs": [],
   "source": [
    "i++;"
   ]
  },
  {
   "cell_type": "markdown",
   "metadata": {},
   "source": [
    "is the equivalent of"
   ]
  },
  {
   "cell_type": "code",
   "execution_count": null,
   "metadata": {},
   "outputs": [],
   "source": [
    "i = i + 1;"
   ]
  },
  {
   "cell_type": "markdown",
   "metadata": {},
   "source": [
    "Note: The entire line becomes i++;, eliminating the need for the equal sign.\n",
    "\n",
    "Change the code to use the ++ operator on myVar."
   ]
  },
  {
   "cell_type": "code",
   "execution_count": null,
   "metadata": {},
   "outputs": [],
   "source": [
    "let myVar = 87;\n",
    "\n",
    "// Only change code below this line\n",
    "myVar = myVar + 1;"
   ]
  },
  {
   "cell_type": "code",
   "execution_count": null,
   "metadata": {},
   "outputs": [],
   "source": [
    "let myVar = 87;\n",
    "\n",
    "// Only change code below this line\n",
    "myVar++;"
   ]
  },
  {
   "cell_type": "markdown",
   "metadata": {},
   "source": [
    "15 Decrement a Number with JavaScript\n",
    "\n",
    "You can easily decrement or decrease a variable by one with the -- operator."
   ]
  },
  {
   "cell_type": "code",
   "execution_count": null,
   "metadata": {},
   "outputs": [],
   "source": [
    "i--;"
   ]
  },
  {
   "cell_type": "markdown",
   "metadata": {},
   "source": [
    "is the equivalent of"
   ]
  },
  {
   "cell_type": "code",
   "execution_count": null,
   "metadata": {},
   "outputs": [],
   "source": [
    "i = i - 1;"
   ]
  },
  {
   "cell_type": "markdown",
   "metadata": {},
   "source": [
    "\n",
    "Note: The entire line becomes i--;, eliminating the need for the equal sign.\n",
    "\n",
    "Change the code to use the -- operator on myVar."
   ]
  },
  {
   "cell_type": "code",
   "execution_count": null,
   "metadata": {},
   "outputs": [],
   "source": [
    "let myVar = 11;\n",
    "\n",
    "// Only change code below this line\n",
    "myVar = myVar - 1;"
   ]
  },
  {
   "cell_type": "code",
   "execution_count": null,
   "metadata": {},
   "outputs": [],
   "source": [
    "let myVar = 11;\n",
    "\n",
    "// Only change code below this line\n",
    "myVar--;"
   ]
  },
  {
   "cell_type": "markdown",
   "metadata": {},
   "source": [
    "16 Create Decimal Numbers with JavaScript\n",
    "\n",
    "We can store decimal numbers in variables too. Decimal numbers are sometimes referred to as floating point numbers or floats.\n",
    "\n",
    "Note: when you compute numbers, they are computed with finite precision. Operations using floating points may lead to different results than the desired outcome. If you are getting one of these results, open a topic on the freeCodeCamp forum.\n",
    "\n",
    "Create a variable myDecimal and give it a decimal value with a fractional part (e.g. 5.7).\n"
   ]
  },
  {
   "cell_type": "code",
   "execution_count": null,
   "metadata": {},
   "outputs": [],
   "source": [
    "const ourDecimal = 5.7;\n",
    "\n",
    "// Only change code below this line\n"
   ]
  },
  {
   "cell_type": "code",
   "execution_count": null,
   "metadata": {},
   "outputs": [],
   "source": [
    "const ourDecimal = 5.7;\n",
    "\n",
    "// Only change code below this line\n",
    "\n",
    "const myDecimal = 5.7;"
   ]
  },
  {
   "cell_type": "markdown",
   "metadata": {},
   "source": [
    "17 Multiply Two Decimals with JavaScript\n",
    "\n",
    "In JavaScript, you can also perform calculations with decimal numbers, just like whole numbers.\n",
    "\n",
    "Let's multiply two decimals together to get their product.\n",
    "\n",
    "Change the 0.0 so that product will equal 5.0."
   ]
  },
  {
   "cell_type": "code",
   "execution_count": null,
   "metadata": {},
   "outputs": [],
   "source": [
    "const product = 2.0 * 0.0;"
   ]
  },
  {
   "cell_type": "code",
   "execution_count": null,
   "metadata": {},
   "outputs": [],
   "source": [
    "const product = 2.0 * 2.5;"
   ]
  },
  {
   "cell_type": "markdown",
   "metadata": {},
   "source": [
    "18 Divide One Decimal by Another with JavaScript\n",
    "\n",
    "Now let's divide one decimal by another.\n",
    "\n",
    "Change the 0.0 so that quotient will equal to 2.2."
   ]
  },
  {
   "cell_type": "code",
   "execution_count": null,
   "metadata": {},
   "outputs": [],
   "source": [
    "const quotient = 0.0 / 2.0; // Change this line"
   ]
  },
  {
   "cell_type": "code",
   "execution_count": null,
   "metadata": {},
   "outputs": [],
   "source": [
    "const quotient = 4.4 / 2.0; // Change this line"
   ]
  },
  {
   "cell_type": "markdown",
   "metadata": {},
   "source": [
    "19 The remainder operator % gives the remainder of the division of two numbers.\n",
    "\n",
    "\n",
    "Example"
   ]
  },
  {
   "cell_type": "code",
   "execution_count": null,
   "metadata": {},
   "outputs": [],
   "source": [
    "// 5 % 2 = 1 because\n",
    "// Math.floor(5 / 2) = 2 (Quotient)\n",
    "// 2 * 2 = 4\n",
    "// 5 - 4 = 1 (Remainder)"
   ]
  },
  {
   "cell_type": "markdown",
   "metadata": {},
   "source": [
    "Usage\n",
    "In mathematics, a number can be checked to be even or odd by checking the remainder of the division of the number by 2."
   ]
  },
  {
   "cell_type": "code",
   "execution_count": null,
   "metadata": {},
   "outputs": [],
   "source": [
    "// 17 % 2 = 1 (17 is Odd)\n",
    "// 48 % 2 = 0 (48 is Even)"
   ]
  },
  {
   "cell_type": "markdown",
   "metadata": {},
   "source": [
    "Note: The remainder operator is sometimes incorrectly referred to as the modulus operator. It is very similar to modulus, but does not work properly with negative numbers.\n",
    "\n",
    "Set remainder equal to the remainder of 11 divided by 3 using the remainder (%) operator."
   ]
  },
  {
   "cell_type": "code",
   "execution_count": null,
   "metadata": {},
   "outputs": [],
   "source": [
    "const remainder = 0;"
   ]
  },
  {
   "cell_type": "code",
   "execution_count": null,
   "metadata": {},
   "outputs": [],
   "source": [
    "const remainder = 11 % 3;"
   ]
  }
 ],
 "metadata": {
  "kernelspec": {
   "display_name": "JavaScript (Node.js)",
   "language": "javascript",
   "name": "javascript"
  },
  "language_info": {
   "file_extension": ".js",
   "mimetype": "application/javascript",
   "name": "javascript",
   "version": "16.16.0"
  },
  "orig_nbformat": 4,
  "vscode": {
   "interpreter": {
    "hash": "916dbcbb3f70747c44a77c7bcd40155683ae19c65e1c03b4aa3499c5328201f1"
   }
  }
 },
 "nbformat": 4,
 "nbformat_minor": 2
}
