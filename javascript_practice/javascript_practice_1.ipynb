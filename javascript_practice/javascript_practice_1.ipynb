{
 "cells": [
  {
   "cell_type": "markdown",
   "metadata": {},
   "source": [
    "1 Comment Your JavaScript Code"
   ]
  },
  {
   "cell_type": "code",
   "execution_count": null,
   "metadata": {},
   "outputs": [],
   "source": [
    "// This is an inline comment in JavaScript\n",
    "\n",
    "/* This is a multi-line comment in JavaScript*/"
   ]
  },
  {
   "cell_type": "markdown",
   "metadata": {},
   "source": [
    "2 Declare JavaScript Variables\n",
    "\n",
    "In computer science, data is anything that is meaningful to the computer. JavaScript provides eight different data types which are undefined, null, boolean, string, symbol, bigint, number, and object.\n",
    "\n",
    "For example, computers distinguish between numbers, such as the number 12, and strings, such as \"12\", \"dog\", or \"123 cats\", which are collections of characters. Computers can perform mathematical operations on a number, but not on a string.\n",
    "\n",
    "Variables allow computers to store and manipulate data in a dynamic fashion. They do this by using a \"label\" to point to the data rather than using the data itself. Any of the eight data types may be stored in a variable.\n",
    "\n",
    "Variables are similar to the x and y variables you use in mathematics, which means they're a simple name to represent the data we want to refer to. Computer variables differ from mathematical variables in that they can store different values at different times.\n",
    "\n",
    "We tell JavaScript to create or declare a variable by putting the keyword var in front of it, like so:\n"
   ]
  },
  {
   "cell_type": "code",
   "execution_count": null,
   "metadata": {},
   "outputs": [],
   "source": [
    "var ourName;"
   ]
  },
  {
   "cell_type": "markdown",
   "metadata": {},
   "source": [
    "creates a variable called ourName. In JavaScript we end statements with semicolons. Variable names can be made up of numbers, letters, and $ or _, but may not contain spaces or start with a number.\n",
    "\n",
    "Use the var keyword to create a variable called myName."
   ]
  },
  {
   "cell_type": "code",
   "execution_count": null,
   "metadata": {},
   "outputs": [],
   "source": [
    "var myName;"
   ]
  },
  {
   "cell_type": "markdown",
   "metadata": {},
   "source": [
    "3 Storing Values with the Assignment Operator\n",
    "\n",
    "In JavaScript, you can store a value in a variable with the assignment operator (=).\n"
   ]
  },
  {
   "cell_type": "code",
   "execution_count": null,
   "metadata": {},
   "outputs": [],
   "source": [
    "myVariable = 5;"
   ]
  },
  {
   "cell_type": "markdown",
   "metadata": {},
   "source": [
    "This assigns the Number value 5 to myVariable.\n",
    "\n",
    "If there are any calculations to the right of the = operator, those are performed before the value is assigned to the variable on the left of the operator."
   ]
  },
  {
   "cell_type": "code",
   "execution_count": null,
   "metadata": {},
   "outputs": [],
   "source": [
    "var myVar;\n",
    "myVar = 5;"
   ]
  },
  {
   "cell_type": "markdown",
   "metadata": {},
   "source": [
    "First, this code creates a variable named myVar. Then, the code assigns 5 to myVar. Now, if myVar appears again in the code, the program will treat it as if it is 5.\n",
    "\n",
    "Assign the value 7 to variable a."
   ]
  },
  {
   "cell_type": "code",
   "execution_count": null,
   "metadata": {},
   "outputs": [],
   "source": [
    "// Setup\n",
    "var a;\n",
    "\n",
    "// Only change code below this line\n",
    "a = 7;"
   ]
  },
  {
   "cell_type": "markdown",
   "metadata": {},
   "source": [
    "4 Assigning the Value of One Variable to Another\n",
    "\n",
    "After a value is assigned to a variable using the assignment operator, you can assign the value of that variable to another variable using the assignment operator."
   ]
  },
  {
   "cell_type": "code",
   "execution_count": null,
   "metadata": {},
   "outputs": [],
   "source": [
    "var myVar;\n",
    "myVar = 5;\n",
    "var myNum;\n",
    "myNum = myVar;"
   ]
  },
  {
   "cell_type": "markdown",
   "metadata": {},
   "source": [
    "The above declares a myVar variable with no value, then assigns it the value 5. Next, a variable named myNum is declared with no value. \n",
    "\n",
    "Then, the contents of myVar (which is 5) is assigned to the variable myNum. Now, myNum also has the value of 5.\n",
    "\n",
    "Assign the contents of a to variable b."
   ]
  },
  {
   "cell_type": "code",
   "execution_count": null,
   "metadata": {},
   "outputs": [],
   "source": [
    "// Setup\n",
    "var a;\n",
    "a = 7;\n",
    "var b;\n",
    "\n",
    "// Only change code below this line\n",
    "b = a;"
   ]
  },
  {
   "cell_type": "markdown",
   "metadata": {},
   "source": [
    "5 Initializing Variables with the Assignment Operator \n",
    "\n",
    "It is common to initialize a variable to an initial value in the same line as it is declared."
   ]
  },
  {
   "cell_type": "code",
   "execution_count": null,
   "metadata": {},
   "outputs": [],
   "source": [
    "var myVar = 0;"
   ]
  },
  {
   "cell_type": "markdown",
   "metadata": {},
   "source": [
    "Creates a new variable called myVar and assigns it an initial value of 0.\n",
    "\n",
    "Define a variable a with var and initialize it to a value of 9."
   ]
  },
  {
   "cell_type": "code",
   "execution_count": null,
   "metadata": {},
   "outputs": [],
   "source": [
    "var a = 9;"
   ]
  },
  {
   "cell_type": "markdown",
   "metadata": {},
   "source": [
    "6 Declare String Variables\n",
    "\n",
    "Previously you used the following code to declare a variable:"
   ]
  },
  {
   "cell_type": "code",
   "execution_count": null,
   "metadata": {},
   "outputs": [],
   "source": [
    "var myName;"
   ]
  },
  {
   "cell_type": "markdown",
   "metadata": {},
   "source": [
    "But you can also declare a string variable like this:"
   ]
  },
  {
   "cell_type": "code",
   "execution_count": null,
   "metadata": {},
   "outputs": [],
   "source": [
    "var myName = \"your name\";"
   ]
  },
  {
   "cell_type": "markdown",
   "metadata": {},
   "source": [
    "\"your name\" is called a string literal. A string literal, or string, is a series of zero or more characters enclosed in single or double quotes.\n",
    "\n",
    "Create two new string variables: myFirstName and myLastName and assign them the values of your first and last name, respectively.\n"
   ]
  },
  {
   "cell_type": "code",
   "execution_count": null,
   "metadata": {},
   "outputs": [],
   "source": [
    "var myFirstName = \"justin\";\n",
    "var myLastName = \"vanfleet\";"
   ]
  },
  {
   "cell_type": "markdown",
   "metadata": {},
   "source": [
    "7 Understanding Uninitialized Variables\n",
    "\n",
    "When JavaScript variables are declared, they have an initial value of undefined. If you do a mathematical operation on an undefined variable your result will be NaN which means \"Not a Number\". If you concatenate a string with an undefined variable, you will get a string of undefined.\n",
    "\n",
    "Initialize the three variables a, b, and c with 5, 10, and \"I am a\" respectively so that they will not be undefined.\n"
   ]
  },
  {
   "cell_type": "code",
   "execution_count": null,
   "metadata": {},
   "outputs": [],
   "source": [
    "// Only change code below this line\n",
    "var a = 5;\n",
    "var b = 10;\n",
    "var c = \"I am a\";\n",
    "// Only change code above this line\n",
    "\n",
    "a = a + 1;\n",
    "b = b + 5;\n",
    "c = c + \" String!\";"
   ]
  },
  {
   "cell_type": "markdown",
   "metadata": {},
   "source": [
    "8 Understanding Case Sensitivity in Variables \n",
    "\n",
    "In JavaScript all variables and function names are case sensitive. This means that capitalization matters.\n",
    "\n",
    "MYVAR is not the same as MyVar nor myvar. It is possible to have multiple distinct variables with the same name but different casing. It is strongly recommended that for the sake of clarity, you do not use this language feature.\n",
    "\n",
    "Best Practice\n",
    "\n",
    "Write variable names in JavaScript in camelCase. In camelCase, multi-word variable names have the first word in lowercase and the first letter of each subsequent word is capitalized.\n",
    "\n",
    "Examples:"
   ]
  },
  {
   "cell_type": "code",
   "execution_count": null,
   "metadata": {},
   "outputs": [],
   "source": [
    "var someVariable;\n",
    "var anotherVariableName;\n",
    "var thisVariableNameIsSoLong;"
   ]
  },
  {
   "cell_type": "markdown",
   "metadata": {},
   "source": [
    "Modify the existing declarations and assignments so their names use camelCase.\n",
    "\n",
    "Do not create any new variables."
   ]
  },
  {
   "cell_type": "code",
   "execution_count": null,
   "metadata": {},
   "outputs": [],
   "source": [
    "// Variable declarations\n",
    "var StUdLyCapVaR;\n",
    "var properCamelCase;\n",
    "var TitleCaseOver;\n",
    "\n",
    "// Variable assignments\n",
    "STUDLYCAPVAR = 10;\n",
    "PRoperCAmelCAse = \"A String\";\n",
    "tITLEcASEoVER = 9000;"
   ]
  },
  {
   "cell_type": "code",
   "execution_count": null,
   "metadata": {},
   "outputs": [],
   "source": [
    "var studlyCapVar;\n",
    "var properCamelCase;\n",
    "var titleCaseOver;\n",
    "\n",
    "studlyCapVar = 10;\n",
    "properCamelCase= \"A String\";\n",
    "titleCaseOver = 9000;"
   ]
  },
  {
   "cell_type": "markdown",
   "metadata": {},
   "source": [
    "9 Explore Differences Between the var and let Keywords\n",
    "\n",
    "One of the biggest problems with declaring variables with the var keyword is that you can easily overwrite variable declarations:\n"
   ]
  },
  {
   "cell_type": "code",
   "execution_count": null,
   "metadata": {},
   "outputs": [],
   "source": [
    "var camper = \"James\";\n",
    "var camper = \"David\";\n",
    "console.log(camper);"
   ]
  },
  {
   "cell_type": "markdown",
   "metadata": {},
   "source": [
    "In the code above, the camper variable is originally declared as James, and is then overridden to be David. The console then displays the string David.\n",
    "\n",
    "In a small application, you might not run into this type of problem. But as your codebase becomes larger, you might accidentally overwrite a variable that you did not intend to. Because this behavior does not throw an error, searching for and fixing bugs becomes more difficult.\n",
    "\n",
    "A keyword called let was introduced in ES6, a major update to JavaScript, to solve this potential issue with the var keyword. You'll learn about other ES6 features in later challenges.\n",
    "\n",
    "If you replace var with let in the code above, it results in an error:\n"
   ]
  },
  {
   "cell_type": "code",
   "execution_count": null,
   "metadata": {},
   "outputs": [],
   "source": [
    "// let camper = \"James\";\n",
    "// let camper = \"David\";"
   ]
  },
  {
   "cell_type": "markdown",
   "metadata": {},
   "source": [
    "The error can be seen in your browser console.\n",
    "\n",
    "So unlike var, when you use let, a variable with the same name can only be declared once.\n",
    "\n",
    "Update the code so it only uses the let keyword."
   ]
  },
  {
   "cell_type": "code",
   "execution_count": null,
   "metadata": {},
   "outputs": [],
   "source": [
    "let catName = \"Oliver\";\n",
    "let catSound = \"Meow!\";"
   ]
  },
  {
   "cell_type": "markdown",
   "metadata": {},
   "source": [
    "10 Declare a Read-Only Variable with the const Keyword\n",
    "\n",
    "The keyword let is not the only new way to declare variables. In ES6, you can also declare variables using the const keyword.\n",
    "\n",
    "const has all the awesome features that let has, with the added bonus that variables declared using const are read-only. They are a constant value, which means that once a variable is assigned with const, it cannot be reassigned:\n"
   ]
  },
  {
   "cell_type": "code",
   "execution_count": null,
   "metadata": {},
   "outputs": [],
   "source": [
    "const FAV_PET = \"Cats\";\n",
    "FAV_PET = \"Dogs\";"
   ]
  },
  {
   "cell_type": "markdown",
   "metadata": {},
   "source": [
    "The console will display an error due to reassigning the value of FAV_PET.\n",
    "\n",
    "You should always name variables you don't want to reassign using the const keyword. This helps when you accidentally attempt to reassign a variable that is meant to stay constant.\n",
    "\n",
    "Note: It is common for developers to use uppercase variable identifiers for immutable values and lowercase or camelCase for mutable values (objects and arrays). You will learn more about objects, arrays, and immutable and mutable values in later challenges. Also in later challenges, you will see examples of uppercase, lowercase, or camelCase variable identifiers.\n",
    "\n",
    "Change the code so that all variables are declared using let or const. Use let when you want the variable to change, and const when you want the variable to remain constant. Also, rename variables declared with const to conform to common practices. Do not change the strings assigned to the variables."
   ]
  },
  {
   "cell_type": "code",
   "execution_count": null,
   "metadata": {},
   "outputs": [],
   "source": [
    "var fCC = \"freeCodeCamp\"; // Change this line\n",
    "var fact = \"is cool!\"; // Change this line\n",
    "fact = \"is awesome!\";\n",
    "console.log(fCC, fact); // Change this line"
   ]
  },
  {
   "cell_type": "code",
   "execution_count": null,
   "metadata": {},
   "outputs": [],
   "source": [
    "const FCC = \"freeCodeCamp\"; \n",
    "let fact = \"is cool!\"; \n",
    "fact = \"is awesome!\";\n",
    "console.log(FCC, fact);"
   ]
  },
  {
   "cell_type": "markdown",
   "metadata": {},
   "source": [
    "10 Add Two Numbers with JavaScript\n",
    "\n",
    "Number is a data type in JavaScript which represents numeric data.\n",
    "\n",
    "Now let's try to add two numbers using JavaScript.\n",
    "\n",
    "JavaScript uses the + symbol as an addition operator when placed between two numbers.\n",
    "\n",
    "Example:"
   ]
  },
  {
   "cell_type": "code",
   "execution_count": null,
   "metadata": {},
   "outputs": [],
   "source": [
    "const myVar = 5 + 10;"
   ]
  },
  {
   "cell_type": "markdown",
   "metadata": {},
   "source": [
    "myVar now has the value 15.\n",
    "\n",
    "Change the 0 so that sum will equal 20."
   ]
  },
  {
   "cell_type": "code",
   "execution_count": null,
   "metadata": {},
   "outputs": [],
   "source": [
    "const sum = 10 + 0;"
   ]
  },
  {
   "cell_type": "code",
   "execution_count": null,
   "metadata": {},
   "outputs": [],
   "source": [
    "const sum = 10 + 10;"
   ]
  },
  {
   "cell_type": "markdown",
   "metadata": {},
   "source": [
    "11 Subtract One Number from Another with JavaScript\n",
    "\n",
    "We can also subtract one number from another.\n",
    "\n",
    "JavaScript uses the - symbol for subtraction.\n",
    "\n",
    "Example"
   ]
  },
  {
   "cell_type": "code",
   "execution_count": null,
   "metadata": {},
   "outputs": [],
   "source": [
    "const myVar = 12 - 6;"
   ]
  },
  {
   "cell_type": "markdown",
   "metadata": {},
   "source": [
    "myVar would have the value 6.\n",
    "\n",
    "Change the 0 so the difference is 12."
   ]
  },
  {
   "cell_type": "code",
   "execution_count": null,
   "metadata": {},
   "outputs": [],
   "source": [
    "const difference = 45 - 0;"
   ]
  },
  {
   "cell_type": "code",
   "execution_count": null,
   "metadata": {},
   "outputs": [],
   "source": [
    "const difference = 45 - 33;"
   ]
  },
  {
   "cell_type": "markdown",
   "metadata": {},
   "source": [
    "12 Multiply Two Numbers with JavaScript\n",
    "\n",
    "We can also multiply one number by another.\n",
    "\n",
    "JavaScript uses the * symbol for multiplication of two numbers.\n",
    "\n",
    "Example"
   ]
  },
  {
   "cell_type": "code",
   "execution_count": null,
   "metadata": {},
   "outputs": [],
   "source": [
    "const myVar = 13 * 13;"
   ]
  },
  {
   "cell_type": "markdown",
   "metadata": {},
   "source": [
    "myVar would have the value 169.\n",
    "\n",
    "Change the 0 so that product will equal 80."
   ]
  },
  {
   "cell_type": "code",
   "execution_count": null,
   "metadata": {},
   "outputs": [],
   "source": [
    "const product = 8 * 0;"
   ]
  },
  {
   "cell_type": "code",
   "execution_count": null,
   "metadata": {},
   "outputs": [],
   "source": [
    "const product = 8 * 10;"
   ]
  },
  {
   "cell_type": "markdown",
   "metadata": {},
   "source": [
    "13 Divide One Number by Another with JavaScript\n",
    "\n",
    "We can also divide one number by another.\n",
    "\n",
    "JavaScript uses the / symbol for division.\n",
    "\n",
    "Example"
   ]
  },
  {
   "cell_type": "code",
   "execution_count": null,
   "metadata": {},
   "outputs": [],
   "source": [
    "const myVar = 16 / 2;"
   ]
  },
  {
   "cell_type": "markdown",
   "metadata": {},
   "source": [
    "myVar now has the value 8.\n",
    "\n",
    "Change the 0 so that the quotient is equal to 2."
   ]
  },
  {
   "cell_type": "code",
   "execution_count": null,
   "metadata": {},
   "outputs": [],
   "source": [
    "const quotient = 66 / 0;"
   ]
  },
  {
   "cell_type": "code",
   "execution_count": null,
   "metadata": {},
   "outputs": [],
   "source": [
    "const quotient = 66 / 33;"
   ]
  },
  {
   "cell_type": "markdown",
   "metadata": {},
   "source": [
    "14 Increment a Number with JavaScript\n",
    "\n",
    "You can easily increment or add one to a variable with the ++ operator."
   ]
  },
  {
   "cell_type": "code",
   "execution_count": null,
   "metadata": {},
   "outputs": [],
   "source": [
    "i++;"
   ]
  },
  {
   "cell_type": "markdown",
   "metadata": {},
   "source": [
    "is the equivalent of"
   ]
  },
  {
   "cell_type": "code",
   "execution_count": null,
   "metadata": {},
   "outputs": [],
   "source": [
    "i = i + 1;"
   ]
  },
  {
   "cell_type": "markdown",
   "metadata": {},
   "source": [
    "Note: The entire line becomes i++;, eliminating the need for the equal sign.\n",
    "\n",
    "Change the code to use the ++ operator on myVar."
   ]
  },
  {
   "cell_type": "code",
   "execution_count": null,
   "metadata": {},
   "outputs": [],
   "source": [
    "let myVar = 87;\n",
    "\n",
    "// Only change code below this line\n",
    "myVar = myVar + 1;"
   ]
  },
  {
   "cell_type": "code",
   "execution_count": null,
   "metadata": {},
   "outputs": [],
   "source": [
    "let myVar = 87;\n",
    "\n",
    "// Only change code below this line\n",
    "myVar++;"
   ]
  },
  {
   "cell_type": "markdown",
   "metadata": {},
   "source": [
    "15 Decrement a Number with JavaScript\n",
    "\n",
    "You can easily decrement or decrease a variable by one with the -- operator."
   ]
  },
  {
   "cell_type": "code",
   "execution_count": null,
   "metadata": {},
   "outputs": [],
   "source": [
    "i--;"
   ]
  },
  {
   "cell_type": "markdown",
   "metadata": {},
   "source": [
    "is the equivalent of"
   ]
  },
  {
   "cell_type": "code",
   "execution_count": null,
   "metadata": {},
   "outputs": [],
   "source": [
    "i = i - 1;"
   ]
  },
  {
   "cell_type": "markdown",
   "metadata": {},
   "source": [
    "\n",
    "Note: The entire line becomes i--;, eliminating the need for the equal sign.\n",
    "\n",
    "Change the code to use the -- operator on myVar."
   ]
  },
  {
   "cell_type": "code",
   "execution_count": null,
   "metadata": {},
   "outputs": [],
   "source": [
    "let myVar = 11;\n",
    "\n",
    "// Only change code below this line\n",
    "myVar = myVar - 1;"
   ]
  },
  {
   "cell_type": "code",
   "execution_count": null,
   "metadata": {},
   "outputs": [],
   "source": [
    "let myVar = 11;\n",
    "\n",
    "// Only change code below this line\n",
    "myVar--;"
   ]
  },
  {
   "cell_type": "markdown",
   "metadata": {},
   "source": [
    "16 Create Decimal Numbers with JavaScript\n",
    "\n",
    "We can store decimal numbers in variables too. Decimal numbers are sometimes referred to as floating point numbers or floats.\n",
    "\n",
    "Note: when you compute numbers, they are computed with finite precision. Operations using floating points may lead to different results than the desired outcome. If you are getting one of these results, open a topic on the freeCodeCamp forum.\n",
    "\n",
    "Create a variable myDecimal and give it a decimal value with a fractional part (e.g. 5.7).\n"
   ]
  },
  {
   "cell_type": "code",
   "execution_count": null,
   "metadata": {},
   "outputs": [],
   "source": [
    "const ourDecimal = 5.7;\n",
    "\n",
    "// Only change code below this line\n"
   ]
  },
  {
   "cell_type": "code",
   "execution_count": null,
   "metadata": {},
   "outputs": [],
   "source": [
    "const ourDecimal = 5.7;\n",
    "\n",
    "// Only change code below this line\n",
    "\n",
    "const myDecimal = 5.7;"
   ]
  },
  {
   "cell_type": "markdown",
   "metadata": {},
   "source": [
    "17 Multiply Two Decimals with JavaScript\n",
    "\n",
    "In JavaScript, you can also perform calculations with decimal numbers, just like whole numbers.\n",
    "\n",
    "Let's multiply two decimals together to get their product.\n",
    "\n",
    "Change the 0.0 so that product will equal 5.0."
   ]
  },
  {
   "cell_type": "code",
   "execution_count": null,
   "metadata": {},
   "outputs": [],
   "source": [
    "const product = 2.0 * 0.0;"
   ]
  },
  {
   "cell_type": "code",
   "execution_count": null,
   "metadata": {},
   "outputs": [],
   "source": [
    "const product = 2.0 * 2.5;"
   ]
  },
  {
   "cell_type": "markdown",
   "metadata": {},
   "source": [
    "18 Divide One Decimal by Another with JavaScript\n",
    "\n",
    "Now let's divide one decimal by another.\n",
    "\n",
    "Change the 0.0 so that quotient will equal to 2.2."
   ]
  },
  {
   "cell_type": "code",
   "execution_count": null,
   "metadata": {},
   "outputs": [],
   "source": [
    "const quotient = 0.0 / 2.0; // Change this line"
   ]
  },
  {
   "cell_type": "code",
   "execution_count": null,
   "metadata": {},
   "outputs": [],
   "source": [
    "const quotient = 4.4 / 2.0; // Change this line"
   ]
  },
  {
   "cell_type": "markdown",
   "metadata": {},
   "source": [
    "19 The remainder operator % gives the remainder of the division of two numbers.\n",
    "\n",
    "\n",
    "Example"
   ]
  },
  {
   "cell_type": "code",
   "execution_count": null,
   "metadata": {},
   "outputs": [],
   "source": [
    "// 5 % 2 = 1 because\n",
    "// Math.floor(5 / 2) = 2 (Quotient)\n",
    "// 2 * 2 = 4\n",
    "// 5 - 4 = 1 (Remainder)"
   ]
  },
  {
   "cell_type": "markdown",
   "metadata": {},
   "source": [
    "Usage\n",
    "In mathematics, a number can be checked to be even or odd by checking the remainder of the division of the number by 2."
   ]
  },
  {
   "cell_type": "code",
   "execution_count": null,
   "metadata": {},
   "outputs": [],
   "source": [
    "// 17 % 2 = 1 (17 is Odd)\n",
    "// 48 % 2 = 0 (48 is Even)"
   ]
  },
  {
   "cell_type": "markdown",
   "metadata": {},
   "source": [
    "Note: The remainder operator is sometimes incorrectly referred to as the modulus operator. It is very similar to modulus, but does not work properly with negative numbers.\n",
    "\n",
    "Set remainder equal to the remainder of 11 divided by 3 using the remainder (%) operator."
   ]
  },
  {
   "cell_type": "code",
   "execution_count": null,
   "metadata": {},
   "outputs": [],
   "source": [
    "const remainder = 0;"
   ]
  },
  {
   "cell_type": "code",
   "execution_count": null,
   "metadata": {},
   "outputs": [],
   "source": [
    "const remainder = 11 % 3;"
   ]
  },
  {
   "cell_type": "markdown",
   "metadata": {},
   "source": [
    "20 Compound Assignment With Augmented Addition\n",
    "\n",
    "In programming, it is common to use assignments to modify the contents of a variable. Remember that everything to the right of the equals sign is evaluated first, so we can say:"
   ]
  },
  {
   "cell_type": "code",
   "execution_count": null,
   "metadata": {},
   "outputs": [],
   "source": [
    "myVar = myVar + 5;"
   ]
  },
  {
   "cell_type": "markdown",
   "metadata": {},
   "source": [
    "to add 5 to myVar. Since this is such a common pattern, there are operators which do both a mathematical operation and assignment in one step.\n",
    "\n",
    "One such operator is the += operator."
   ]
  },
  {
   "cell_type": "code",
   "execution_count": null,
   "metadata": {},
   "outputs": [],
   "source": [
    "let myVar = 1;\n",
    "myVar += 5;\n",
    "console.log(myVar);"
   ]
  },
  {
   "cell_type": "markdown",
   "metadata": {},
   "source": [
    "6 would be displayed in the console.\n",
    "\n",
    "Convert the assignments for a, b, and c to use the += operator."
   ]
  },
  {
   "cell_type": "code",
   "execution_count": null,
   "metadata": {},
   "outputs": [],
   "source": [
    "let a = 3;\n",
    "let b = 17;\n",
    "let c = 12;\n",
    "\n",
    "// Only change code below this line\n",
    "a = a + 12;\n",
    "b = 9 + b;\n",
    "c = c + 7;"
   ]
  },
  {
   "cell_type": "code",
   "execution_count": null,
   "metadata": {},
   "outputs": [],
   "source": [
    "let a = 3;\n",
    "let b = 17;\n",
    "let c = 12;\n",
    "\n",
    "// Only change code below this line\n",
    "a += 12;\n",
    "b += 9;\n",
    "c += 7;"
   ]
  },
  {
   "cell_type": "markdown",
   "metadata": {},
   "source": [
    "21 Compound Assignment With Augmented Subtraction\n",
    "\n",
    "Like the += operator, -= subtracts a number from a variable."
   ]
  },
  {
   "cell_type": "code",
   "execution_count": null,
   "metadata": {},
   "outputs": [],
   "source": [
    "myVar = myVar - 5;"
   ]
  },
  {
   "cell_type": "markdown",
   "metadata": {},
   "source": [
    "will subtract 5 from myVar. This can be rewritten as:"
   ]
  },
  {
   "cell_type": "code",
   "execution_count": null,
   "metadata": {},
   "outputs": [],
   "source": [
    "myVar -= 5;"
   ]
  },
  {
   "cell_type": "markdown",
   "metadata": {},
   "source": [
    "Convert the assignments for a, b, and c to use the -= operator."
   ]
  },
  {
   "cell_type": "code",
   "execution_count": null,
   "metadata": {},
   "outputs": [],
   "source": [
    "let a = 11;\n",
    "let b = 9;\n",
    "let c = 3;\n",
    "\n",
    "// Only change code below this line\n",
    "a = a - 6;\n",
    "b = b - 15;\n",
    "c = c - 1;"
   ]
  },
  {
   "cell_type": "code",
   "execution_count": null,
   "metadata": {},
   "outputs": [],
   "source": [
    "let a = 11;\n",
    "let b = 9;\n",
    "let c = 3;\n",
    "\n",
    "// Only change code below this line\n",
    "a -= 6;\n",
    "b -= 15;\n",
    "c -= 1;"
   ]
  },
  {
   "cell_type": "markdown",
   "metadata": {},
   "source": [
    "22 Compound Assignment With Augmented Multiplication\n",
    "\n",
    "The *= operator multiplies a variable by a number."
   ]
  },
  {
   "cell_type": "code",
   "execution_count": null,
   "metadata": {},
   "outputs": [],
   "source": [
    "myVar = myVar * 5;"
   ]
  },
  {
   "cell_type": "markdown",
   "metadata": {},
   "source": [
    "will multiply myVar by 5. This can be rewritten as:"
   ]
  },
  {
   "cell_type": "code",
   "execution_count": null,
   "metadata": {},
   "outputs": [],
   "source": [
    "myVar *= 5;"
   ]
  },
  {
   "cell_type": "markdown",
   "metadata": {},
   "source": [
    "Convert the assignments for a, b, and c to use the *= operator."
   ]
  },
  {
   "cell_type": "code",
   "execution_count": null,
   "metadata": {},
   "outputs": [],
   "source": [
    "let a = 5;\n",
    "let b = 12;\n",
    "let c = 4.6;\n",
    "\n",
    "// Only change code below this line\n",
    "a = a * 5;\n",
    "b = 3 * b;\n",
    "c = c * 10;"
   ]
  },
  {
   "cell_type": "code",
   "execution_count": null,
   "metadata": {},
   "outputs": [],
   "source": [
    "let a = 5;\n",
    "let b = 12;\n",
    "let c = 4.6;\n",
    "\n",
    "// Only change code below this line\n",
    "a *= 5;\n",
    "b *= 3;\n",
    "c *= 10;"
   ]
  },
  {
   "cell_type": "markdown",
   "metadata": {},
   "source": [
    "23 Compound Assignment With Augmented Division\n",
    "\n",
    "The /= operator divides a variable by another number."
   ]
  },
  {
   "cell_type": "code",
   "execution_count": null,
   "metadata": {},
   "outputs": [],
   "source": [
    "myVar = myVar / 5;"
   ]
  },
  {
   "cell_type": "markdown",
   "metadata": {},
   "source": [
    "Will divide myVar by 5. This can be rewritten as:"
   ]
  },
  {
   "cell_type": "code",
   "execution_count": null,
   "metadata": {},
   "outputs": [],
   "source": [
    "myVar /= 5;"
   ]
  },
  {
   "cell_type": "markdown",
   "metadata": {},
   "source": [
    "Convert the assignments for a, b, and c to use the /= operator."
   ]
  },
  {
   "cell_type": "code",
   "execution_count": null,
   "metadata": {},
   "outputs": [],
   "source": [
    "let a = 48;\n",
    "let b = 108;\n",
    "let c = 33;\n",
    "\n",
    "// Only change code below this line\n",
    "a = a / 12;\n",
    "b = b / 4;\n",
    "c = c / 11;"
   ]
  },
  {
   "cell_type": "code",
   "execution_count": null,
   "metadata": {},
   "outputs": [],
   "source": [
    "let a = 48;\n",
    "let b = 108;\n",
    "let c = 33;\n",
    "\n",
    "// Only change code below this line\n",
    "a /= 12;\n",
    "b /= 4;\n",
    "c /= 11;"
   ]
  },
  {
   "cell_type": "markdown",
   "metadata": {},
   "source": [
    "24 Escaping Literal Quotes in Strings\n",
    "\n",
    "When you are defining a string you must start and end with a single or double quote. What happens when you need a literal quote: \" or ' inside of your string?\n",
    "\n",
    "In JavaScript, you can escape a quote from considering it as an end of string quote by placing a backslash ( \\ ) in front of the quote."
   ]
  },
  {
   "cell_type": "code",
   "execution_count": null,
   "metadata": {},
   "outputs": [],
   "source": [
    "const sampleStr = \"Alan said, \\\"Peter is learning JavaScript\\\".\";"
   ]
  },
  {
   "cell_type": "markdown",
   "metadata": {},
   "source": [
    "This signals to JavaScript that the following quote is not the end of the string, but should instead appear inside the string. So if you were to print this to the console, you would get:"
   ]
  },
  {
   "cell_type": "code",
   "execution_count": null,
   "metadata": {},
   "outputs": [],
   "source": [
    "// Alan said, \"Peter is learning JavaScript\"."
   ]
  },
  {
   "cell_type": "markdown",
   "metadata": {},
   "source": [
    "This signals to JavaScript that the following quote is not the end of the string, but should instead appear inside the string. So if you were to print this to the console, you would get:"
   ]
  },
  {
   "cell_type": "code",
   "execution_count": null,
   "metadata": {},
   "outputs": [],
   "source": [
    "// Alan said, \"Peter is learning JavaScript\"."
   ]
  },
  {
   "cell_type": "markdown",
   "metadata": {},
   "source": [
    "Use backslashes to assign a string to the myStr variable so that if you were to print it to the console, you would see:"
   ]
  },
  {
   "cell_type": "code",
   "execution_count": null,
   "metadata": {},
   "outputs": [],
   "source": [
    "// I am a \"double quoted\" string inside \"double quotes\"."
   ]
  },
  {
   "cell_type": "code",
   "execution_count": null,
   "metadata": {},
   "outputs": [],
   "source": [
    "const myStr = \"\"; // Change this line"
   ]
  },
  {
   "cell_type": "code",
   "execution_count": null,
   "metadata": {},
   "outputs": [],
   "source": [
    "const myStr = \"I am a \\\"double quoted\\\" string inside \\\"double quotes\\\".\"; // Change this line"
   ]
  },
  {
   "cell_type": "markdown",
   "metadata": {},
   "source": [
    "25 Quoting Strings with Single Quotes\n",
    "\n",
    "String values in JavaScript may be written with single or double quotes, as long as you start and end with the same type of quote. Unlike some other programming languages, single and double quotes work the same in JavaScript."
   ]
  },
  {
   "cell_type": "code",
   "execution_count": null,
   "metadata": {},
   "outputs": [],
   "source": [
    "const doubleQuoteStr = \"This is a string\"; \n",
    "const singleQuoteStr = 'This is also a string';"
   ]
  },
  {
   "cell_type": "markdown",
   "metadata": {},
   "source": [
    "The reason why you might want to use one type of quote over the other is if you want to use both in a string. This might happen if you want to save a conversation in a string and have the conversation in quotes. Another use for it would be saving an < a > tag with various attributes in quotes, all within a string."
   ]
  },
  {
   "cell_type": "code",
   "execution_count": null,
   "metadata": {},
   "outputs": [],
   "source": [
    "const conversation = 'Finn exclaims to Jake, \"Algebraic!\"';"
   ]
  },
  {
   "cell_type": "markdown",
   "metadata": {},
   "source": [
    "However, this becomes a problem if you need to use the outermost quotes within it. Remember, a string has the same kind of quote at the beginning and end. But if you have that same quote somewhere in the middle, the string will stop early and throw an error."
   ]
  },
  {
   "cell_type": "code",
   "execution_count": null,
   "metadata": {},
   "outputs": [],
   "source": [
    "const goodStr = 'Jake asks Finn, \"Hey, let\\'s go on an adventure?\"'; \n",
    "// const badStr = 'Finn responds, \"Let's go!\"';"
   ]
  },
  {
   "cell_type": "markdown",
   "metadata": {},
   "source": [
    "Here badStr will throw an error.\n",
    "\n",
    "In the goodStr above, you can use both quotes safely by using the backslash \\ as an escape character.\n",
    "\n",
    "Note: The backslash \\ should not be confused with the forward slash /. They do not do the same thing.\n",
    "\n",
    "Change the provided string to a string with single quotes at the beginning and end and no escape characters.\n",
    "\n",
    "Right now, the < a > tag in the string uses double quotes everywhere. You will need to change the outer quotes to single quotes so you can remove the escape characters."
   ]
  },
  {
   "cell_type": "code",
   "execution_count": null,
   "metadata": {},
   "outputs": [],
   "source": [
    "const myStr = \"<a href=\\\"http://www.example.com\\\" target=\\\"_blank\\\">Link</a>\";"
   ]
  },
  {
   "cell_type": "code",
   "execution_count": null,
   "metadata": {},
   "outputs": [],
   "source": [
    "const myStr = '<a href=\"http://www.example.com\" target=\"_blank\">Link</a>';"
   ]
  },
  {
   "cell_type": "markdown",
   "metadata": {},
   "source": [
    "26 Quotes are not the only characters that can be escaped inside a string. There are two reasons to use escaping characters:\n",
    "\n",
    "To allow you to use characters you may not otherwise be able to type out, such as a carriage return.\n",
    "To allow you to represent multiple quotes in a string without JavaScript misinterpreting what you mean.\n",
    "We learned this in the previous challenge.\n",
    "\n",
    "Code\tOutput\n",
    "\\'\tsingle quote\n",
    "\\\"\tdouble quote\n",
    "\\ \\\tbackslash\n",
    "\\n\tnewline\n",
    "\\r\tcarriage return\n",
    "\\t\ttab\n",
    "\\b\tword boundary\n",
    "\\f\tform feed\n",
    "\n",
    "Note that the backslash itself must be escaped in order to display as a backslash.\n",
    "\n",
    "Assign the following three lines of text into the single variable myStr using escape sequences.\n",
    "\n",
    "\n",
    "<!-- FirstLine\n",
    "\n",
    "    \\SecondLine\n",
    "\n",
    "ThirdLine -->\n",
    "\n",
    "You will need to use escape sequences to insert special characters correctly. You will also need to follow the spacing as it looks above, with no spaces between escape sequences or words.\n",
    "\n",
    "Note: The indentation for SecondLine is achieved with the tab escape character, not spaces."
   ]
  },
  {
   "cell_type": "code",
   "execution_count": null,
   "metadata": {},
   "outputs": [],
   "source": [
    "const myStr = \"\"; // Change this line"
   ]
  },
  {
   "cell_type": "code",
   "execution_count": null,
   "metadata": {},
   "outputs": [],
   "source": [
    "const myStr = \"FirstLine\\n\\t\\\\SecondLine\\nThirdLine\"; // Change this line"
   ]
  },
  {
   "cell_type": "markdown",
   "metadata": {},
   "source": [
    "27 Concatenating Strings with Plus Operator\n",
    "\n",
    "In JavaScript, when the + operator is used with a String value, it is called the concatenation operator. You can build a new string out of other strings by concatenating them together.\n",
    "\n",
    "Example"
   ]
  },
  {
   "cell_type": "code",
   "execution_count": null,
   "metadata": {},
   "outputs": [],
   "source": [
    "'My name is Alan,' + ' I concatenate.'"
   ]
  },
  {
   "cell_type": "markdown",
   "metadata": {},
   "source": [
    "Note: Watch out for spaces. Concatenation does not add spaces between concatenated strings, so you'll need to add them yourself.\n",
    "\n",
    "Example:"
   ]
  },
  {
   "cell_type": "code",
   "execution_count": null,
   "metadata": {},
   "outputs": [],
   "source": [
    "const ourStr = \"I come first. \" + \"I come second.\";"
   ]
  },
  {
   "cell_type": "markdown",
   "metadata": {},
   "source": [
    "The string I come first. I come second. would be displayed in the console.\n",
    "\n",
    "Build myStr from the strings This is the start. and This is the end. using the + operator. Be sure to include a space between the two strings."
   ]
  },
  {
   "cell_type": "code",
   "execution_count": null,
   "metadata": {},
   "outputs": [],
   "source": [
    "const myStr = \"\"; // Change this line"
   ]
  },
  {
   "cell_type": "code",
   "execution_count": null,
   "metadata": {},
   "outputs": [],
   "source": [
    "const myStr = \"This is the start. \" + \"This is the end.\"; // Change this line"
   ]
  },
  {
   "cell_type": "markdown",
   "metadata": {},
   "source": [
    "28 Concatenating Strings with the Plus Equals Operator\n",
    "\n",
    "We can also use the += operator to concatenate a string onto the end of an existing string variable. This can be very helpful to break a long string over several lines.\n",
    "\n",
    "Note: Watch out for spaces. Concatenation does not add spaces between concatenated strings, so you'll need to add them yourself.\n",
    "\n",
    "Example:"
   ]
  },
  {
   "cell_type": "code",
   "execution_count": null,
   "metadata": {},
   "outputs": [],
   "source": [
    "let ourStr = \"I come first. \";\n",
    "ourStr += \"I come second.\";"
   ]
  },
  {
   "cell_type": "markdown",
   "metadata": {},
   "source": [
    "ourStr now has a value of the string I come first. I come second..\n",
    "\n",
    "Build myStr over several lines by concatenating these two strings: This is the first sentence. and This is the second sentence. using the += operator. Use the += operator similar to how it is shown in the example and be sure to include a space between the two strings. Start by assigning the first string to myStr, then add on the second string."
   ]
  },
  {
   "cell_type": "code",
   "execution_count": null,
   "metadata": {},
   "outputs": [],
   "source": [
    "let myStr;"
   ]
  },
  {
   "cell_type": "code",
   "execution_count": null,
   "metadata": {},
   "outputs": [],
   "source": [
    "let myStr = \"This is the first sentence. \";\n",
    "myStr += \"This is the second sentence.\""
   ]
  },
  {
   "cell_type": "markdown",
   "metadata": {},
   "source": [
    "29 Constructing Strings with Variables\n",
    "\n",
    "Sometimes you will need to build a string. By using the concatenation operator (+), you can insert one or more variables into a string you're building.\n",
    "\n",
    "Example:"
   ]
  },
  {
   "cell_type": "code",
   "execution_count": null,
   "metadata": {},
   "outputs": [],
   "source": [
    "const ourName = \"freeCodeCamp\";\n",
    "const ourStr = \"Hello, our name is \" + ourName + \", how are you?\";"
   ]
  },
  {
   "cell_type": "markdown",
   "metadata": {},
   "source": [
    "ourStr would have a value of the string Hello, our name is freeCodeCamp, how are you?.\n",
    "\n",
    "Set myName to a string equal to your name and build myStr with myName between the strings My name is and and I am well!"
   ]
  },
  {
   "cell_type": "code",
   "execution_count": null,
   "metadata": {},
   "outputs": [],
   "source": [
    "// Only change code below this line\n",
    "const myName = \"\";\n",
    "const myStr = \"\";"
   ]
  },
  {
   "cell_type": "code",
   "execution_count": null,
   "metadata": {},
   "outputs": [],
   "source": [
    "// Only change code below this line\n",
    "const myName = \"Justin Van Fleet\";\n",
    "const myStr = \"My name is \" + myName + \"I am well!\";"
   ]
  },
  {
   "cell_type": "markdown",
   "metadata": {},
   "source": [
    "30 Appending Variables to Strings\n",
    "\n",
    "Just as we can build a string over multiple lines out of string literals, we can also append variables to a string using the plus equals (+=) operator.\n",
    "\n",
    "Example:"
   ]
  },
  {
   "cell_type": "code",
   "execution_count": null,
   "metadata": {},
   "outputs": [],
   "source": [
    "const anAdjective = \"awesome!\";\n",
    "let ourStr = \"freeCodeCamp is \";\n",
    "ourStr += anAdjective;"
   ]
  },
  {
   "cell_type": "markdown",
   "metadata": {},
   "source": [
    "ourStr would have the value freeCodeCamp is awesome!.\n",
    "\n",
    "Set someAdjective to a string of at least 3 characters and append it to myStr using the += operator."
   ]
  },
  {
   "cell_type": "code",
   "execution_count": null,
   "metadata": {},
   "outputs": [],
   "source": [
    "// Change code below this line\n",
    "const someAdjective = \"\";\n",
    "let myStr = \"Learning to code is \";"
   ]
  },
  {
   "cell_type": "code",
   "execution_count": null,
   "metadata": {},
   "outputs": [],
   "source": [
    "// Change code below this line\n",
    "const someAdjective = \"good\";\n",
    "let myStr = \"Learning to code is \";\n",
    "myStr += someAdjective;"
   ]
  },
  {
   "cell_type": "markdown",
   "metadata": {},
   "source": [
    "31 Find the Length of a String\n",
    "\n",
    "You can find the length of a String value by writing .length after the string variable or string literal."
   ]
  },
  {
   "cell_type": "code",
   "execution_count": null,
   "metadata": {},
   "outputs": [],
   "source": [
    "console.log(\"Alan Peter\".length);"
   ]
  },
  {
   "cell_type": "markdown",
   "metadata": {},
   "source": [
    "\n",
    "The value 10 would be displayed in the console. Note that the space character between \"Alan\" and \"Peter\" is also counted.\n",
    "\n",
    "For example, if we created a variable const firstName = \"Ada\", we could find out how long the string Ada is by using the firstName.length property.\n",
    "\n",
    "Use the .length property to set lastNameLength to the number of characters in lastName."
   ]
  },
  {
   "cell_type": "code",
   "execution_count": null,
   "metadata": {},
   "outputs": [],
   "source": [
    "// Setup\n",
    "let lastNameLength = 0;\n",
    "const lastName = \"Lovelace\";\n",
    "\n",
    "// Only change code below this line\n",
    "lastNameLength = lastName;"
   ]
  },
  {
   "cell_type": "code",
   "execution_count": null,
   "metadata": {},
   "outputs": [],
   "source": [
    "// Setup\n",
    "let lastNameLength = 0;\n",
    "const lastName = \"Lovelace\";\n",
    "\n",
    "// Only change code below this line\n",
    "lastNameLength = lastName.length;"
   ]
  },
  {
   "cell_type": "markdown",
   "metadata": {},
   "source": [
    "32 Use Bracket Notation to Find the First Character in a String\n",
    "\n",
    "Bracket notation is a way to get a character at a specific index within a string.\n",
    "\n",
    "Most modern programming languages, like JavaScript, don't start counting at 1 like humans do. They start at 0. This is referred to as Zero-based indexing.\n",
    "\n",
    "For example, the character at index 0 in the word Charles is C. So if const firstName = \"Charles\", you can get the value of the first letter of the string by using firstName[0].\n",
    "\n",
    "Example:"
   ]
  },
  {
   "cell_type": "code",
   "execution_count": null,
   "metadata": {},
   "outputs": [],
   "source": [
    "const firstName = \"Charles\";\n",
    "const firstLetter = firstName[0];"
   ]
  },
  {
   "cell_type": "markdown",
   "metadata": {},
   "source": [
    "firstLetter would have a value of the string C.\n",
    "\n",
    "Use bracket notation to find the first character in the lastName variable and assign it to firstLetterOfLastName.\n",
    "\n",
    "Hint: Try looking at the example above if you get stuck."
   ]
  },
  {
   "cell_type": "code",
   "execution_count": null,
   "metadata": {},
   "outputs": [],
   "source": [
    "// Setup\n",
    "let firstLetterOfLastName = \"\";\n",
    "const lastName = \"Lovelace\";\n",
    "\n",
    "// Only change code below this line\n",
    "firstLetterOfLastName = lastName; // Change this line"
   ]
  },
  {
   "cell_type": "code",
   "execution_count": null,
   "metadata": {},
   "outputs": [],
   "source": [
    "// Setup\n",
    "let firstLetterOfLastName = \"\";\n",
    "const lastName = \"Lovelace\";\n",
    "\n",
    "// Only change code below this line\n",
    "firstLetterOfLastName = lastName[0]; // Change this line"
   ]
  },
  {
   "cell_type": "markdown",
   "metadata": {},
   "source": [
    "33 Understand String Immutability\n",
    "\n",
    "In JavaScript, String values are immutable, which means that they cannot be altered once created.\n",
    "\n",
    "For example, the following code:"
   ]
  },
  {
   "cell_type": "code",
   "execution_count": null,
   "metadata": {},
   "outputs": [],
   "source": [
    "let myStr = \"Bob\";\n",
    "myStr[0] = \"J\";"
   ]
  },
  {
   "cell_type": "markdown",
   "metadata": {},
   "source": [
    "cannot change the value of myStr to Job, because the contents of myStr cannot be altered. Note that this does not mean that myStr cannot be changed, just that the individual characters of a string literal cannot be changed. The only way to change myStr would be to assign it with a new string, like this:"
   ]
  },
  {
   "cell_type": "code",
   "execution_count": null,
   "metadata": {},
   "outputs": [],
   "source": [
    "let myStr = \"Bob\";\n",
    "myStr = \"Job\";"
   ]
  },
  {
   "cell_type": "markdown",
   "metadata": {},
   "source": [
    "Correct the assignment to myStr so it contains the string value of Hello World using the approach shown in the example above."
   ]
  },
  {
   "cell_type": "code",
   "execution_count": null,
   "metadata": {},
   "outputs": [],
   "source": [
    "// Setup\n",
    "let myStr = \"Jello World\";\n",
    "\n",
    "// Only change code below this line\n",
    "myStr[0] = \"H\"; // Change this line\n",
    "// Only change code above this line"
   ]
  },
  {
   "cell_type": "code",
   "execution_count": null,
   "metadata": {},
   "outputs": [],
   "source": [
    "// Setup\n",
    "let myStr = \"Jello World\";\n",
    "\n",
    "// Only change code below this line\n",
    "myStr = \"Hello World\"; // Change this line\n",
    "// Only change code above this line"
   ]
  },
  {
   "cell_type": "markdown",
   "metadata": {},
   "source": [
    "34 Use Bracket Notation to Find the Nth Character in a String\n",
    "\n",
    "You can also use bracket notation to get the character at other positions within a string.\n",
    "\n",
    "Remember that computers start counting at 0, so the first character is actually the zeroth character.\n",
    "\n",
    "Example:"
   ]
  },
  {
   "cell_type": "code",
   "execution_count": null,
   "metadata": {},
   "outputs": [],
   "source": [
    "const firstName = \"Ada\";\n",
    "const secondLetterOfFirstName = firstName[1];"
   ]
  },
  {
   "cell_type": "markdown",
   "metadata": {},
   "source": [
    "secondLetterOfFirstName would have a value of the string d.\n",
    "\n",
    "Let's try to set thirdLetterOfLastName to equal the third letter of the lastName variable using bracket notation.\n",
    "\n",
    "Hint: Try looking at the example above if you get stuck."
   ]
  },
  {
   "cell_type": "code",
   "execution_count": null,
   "metadata": {},
   "outputs": [],
   "source": [
    "// Setup\n",
    "const lastName = \"Lovelace\";\n",
    "\n",
    "// Only change code below this line\n",
    "const thirdLetterOfLastName = lastName; // Change this line"
   ]
  },
  {
   "cell_type": "code",
   "execution_count": null,
   "metadata": {},
   "outputs": [],
   "source": [
    "// Setup\n",
    "const lastName = \"Lovelace\";\n",
    "\n",
    "// Only change code below this line\n",
    "const thirdLetterOfLastName = lastName[2]; // Change this line"
   ]
  },
  {
   "cell_type": "markdown",
   "metadata": {},
   "source": [
    "\n",
    "35 Use Bracket Notation to Find the Last Character in a String\n",
    "\n",
    "In order to get the last letter of a string, you can subtract one from the string's length.\n",
    "\n",
    "For example, if const firstName = \"Ada\", you can get the value of the last letter of the string by using firstName[firstName.length - 1].\n",
    "\n",
    "Example:\n",
    "\n"
   ]
  },
  {
   "cell_type": "code",
   "execution_count": null,
   "metadata": {},
   "outputs": [],
   "source": [
    "const firstName = \"Ada\";\n",
    "const lastLetter = firstName[firstName.length - 1];"
   ]
  },
  {
   "cell_type": "markdown",
   "metadata": {},
   "source": [
    "lastLetter would have a value of the string a.\n",
    "\n",
    "Use bracket notation to find the last character in the lastName variable.\n",
    "\n",
    "Hint: Try looking at the example above if you get stuck."
   ]
  },
  {
   "cell_type": "code",
   "execution_count": null,
   "metadata": {},
   "outputs": [],
   "source": [
    "// Setup\n",
    "const lastName = \"Lovelace\";\n",
    "\n",
    "// Only change code below this line\n",
    "const lastLetterOfLastName = lastName; // Change this line"
   ]
  },
  {
   "cell_type": "code",
   "execution_count": null,
   "metadata": {},
   "outputs": [],
   "source": [
    "// Setup\n",
    "const lastName = \"Lovelace\";\n",
    "\n",
    "// Only change code below this line\n",
    "const lastLetterOfLastName = lastName[lastName.length - 1]; // Change this line"
   ]
  },
  {
   "cell_type": "markdown",
   "metadata": {},
   "source": [
    "36 Use Bracket Notation to Find the Nth-to-Last Character in a String\n",
    "\n",
    "You can use the same principle we just used to retrieve the last character in a string to retrieve the Nth-to-last character.\n",
    "\n",
    "For example, you can get the value of the third-to-last letter of the const firstName = \"Augusta\" string by using firstName[firstName.length - 3]\n",
    "\n",
    "Example:"
   ]
  },
  {
   "cell_type": "code",
   "execution_count": null,
   "metadata": {},
   "outputs": [],
   "source": [
    "const firstName = \"Augusta\";\n",
    "const thirdToLastLetter = firstName[firstName.length - 3];"
   ]
  },
  {
   "cell_type": "markdown",
   "metadata": {},
   "source": [
    "thirdToLastLetter would have a value of the string s.\n",
    "\n",
    "Use bracket notation to find the second-to-last character in the lastName string.\n",
    "\n",
    "Hint: Try looking at the example above if you get stuck."
   ]
  },
  {
   "cell_type": "code",
   "execution_count": null,
   "metadata": {},
   "outputs": [],
   "source": [
    "// Setup\n",
    "const lastName = \"Lovelace\";\n",
    "\n",
    "// Only change code below this line\n",
    "const secondToLastLetterOfLastName = lastName; // Change this line"
   ]
  },
  {
   "cell_type": "code",
   "execution_count": null,
   "metadata": {},
   "outputs": [],
   "source": [
    "// Setup\n",
    "const lastName = \"Lovelace\";\n",
    "\n",
    "// Only change code below this line\n",
    "const secondToLastLetterOfLastName = lastName[lastName.length - 2]; // Change this line"
   ]
  },
  {
   "cell_type": "markdown",
   "metadata": {},
   "source": [
    "37 Word Blanks \n",
    "\n",
    "You are provided sentences with some missing words, like nouns, verbs, adjectives and adverbs. You then fill in the missing pieces with words of your choice in a way that the completed sentence makes sense.\n",
    "\n",
    "Consider this sentence - It was really ____, and we ____ ourselves ____. This sentence has three missing pieces- an adjective, a verb and an adverb, and we can add words of our choice to complete it. We can then assign the completed sentence to a variable as follows:"
   ]
  },
  {
   "cell_type": "code",
   "execution_count": null,
   "metadata": {},
   "outputs": [],
   "source": [
    "const sentence = \"It was really \" + \"hot\" + \", and we \" + \"laughed\" + \" ourselves \" + \"silly\" + \".\";"
   ]
  },
  {
   "cell_type": "markdown",
   "metadata": {},
   "source": [
    "In this challenge, we provide you with a noun, a verb, an adjective and an adverb. You need to form a complete sentence using words of your choice, along with the words we provide.\n",
    "\n",
    "You will need to use the string concatenation operator + to build a new string, using the provided variables: myNoun, myAdjective, myVerb, and myAdverb. You will then assign the formed string to the wordBlanks variable. You should not change the words assigned to the variables.\n",
    "\n",
    "You will also need to account for spaces in your string, so that the final sentence has spaces between all the words. The result should be a complete sentence."
   ]
  },
  {
   "cell_type": "code",
   "execution_count": null,
   "metadata": {},
   "outputs": [],
   "source": [
    "const myNoun = \"dog\";\n",
    "const myAdjective = \"big\";\n",
    "const myVerb = \"ran\";\n",
    "const myAdverb = \"quickly\";\n",
    "\n",
    "// Only change code below this line\n",
    "const wordBlanks = \"\"; // Change this line\n",
    "// Only change code above this line"
   ]
  },
  {
   "cell_type": "code",
   "execution_count": null,
   "metadata": {},
   "outputs": [],
   "source": [
    "const myNoun = \"dog\";\n",
    "const myAdjective = \"big\";\n",
    "const myVerb = \"ran\";\n",
    "const myAdverb = \"quickly\";\n",
    "\n",
    "// Only change code below this line\n",
    "const wordBlanks = \"My \" + myAdjective + \" \" + myNoun + \" \" + myVerb + \" very \" + myAdverb + \".\"; // Change this line\n",
    "// Only change code above this line\n",
    "\n",
    "console.log(wordBlanks)"
   ]
  },
  {
   "cell_type": "markdown",
   "metadata": {},
   "source": [
    "38 Store Multiple Values in one Variable using JavaScript Arrays\n",
    "\n",
    "With JavaScript array variables, we can store several pieces of data in one place.\n",
    "\n",
    "You start an array declaration with an opening square bracket, end it with a closing square bracket, and put a comma between each entry, like this:"
   ]
  },
  {
   "cell_type": "code",
   "execution_count": null,
   "metadata": {},
   "outputs": [],
   "source": [
    "const sandwich = [\"peanut butter\", \"jelly\", \"bread\"];"
   ]
  },
  {
   "cell_type": "markdown",
   "metadata": {},
   "source": [
    "Modify the new array myArray so that it contains both a string and a number (in that order)."
   ]
  },
  {
   "cell_type": "code",
   "execution_count": null,
   "metadata": {},
   "outputs": [],
   "source": [
    "// Only change code below this line\n",
    "const myArray = [];"
   ]
  },
  {
   "cell_type": "code",
   "execution_count": null,
   "metadata": {},
   "outputs": [],
   "source": [
    "// Only change code below this line\n",
    "const myArray = [\"string\", 6];"
   ]
  },
  {
   "cell_type": "markdown",
   "metadata": {},
   "source": [
    "39 Nest one Array within Another Array\n",
    "\n",
    "You can also nest arrays within other arrays, like below:"
   ]
  },
  {
   "cell_type": "code",
   "execution_count": null,
   "metadata": {},
   "outputs": [],
   "source": [
    "const teams = [[\"Bulls\", 23], [\"White Sox\", 45]];"
   ]
  },
  {
   "cell_type": "markdown",
   "metadata": {},
   "source": [
    "\n",
    "This is also called a multi-dimensional array.\n",
    "\n",
    "Create a nested array called myArray."
   ]
  },
  {
   "cell_type": "code",
   "execution_count": null,
   "metadata": {},
   "outputs": [],
   "source": [
    "// Only change code below this line\n",
    "const myArray = [];"
   ]
  },
  {
   "cell_type": "code",
   "execution_count": null,
   "metadata": {},
   "outputs": [],
   "source": [
    "// Only change code below this line\n",
    "const myArray = [[\"string1\", \"string2\"], [\"string 3\", 3]];"
   ]
  },
  {
   "cell_type": "markdown",
   "metadata": {},
   "source": [
    "40 Access Array Data with Indexes\n",
    "\n",
    "We can access the data inside arrays using indexes.\n",
    "\n",
    "Array indexes are written in the same bracket notation that strings use, except that instead of specifying a character, they are specifying an entry in the array. Like strings, arrays use zero-based indexing, so the first element in an array has an index of 0.\n",
    "\n",
    "Example"
   ]
  },
  {
   "cell_type": "code",
   "execution_count": null,
   "metadata": {},
   "outputs": [],
   "source": [
    "const array = [50, 60, 70];\n",
    "console.log(array[0]);\n",
    "const data = array[1];"
   ]
  },
  {
   "cell_type": "markdown",
   "metadata": {},
   "source": [
    "\n",
    "The console.log(array[ 0 ]) prints 50, and data has the value 60.\n",
    "\n",
    "Create a variable called myData and set it to equal the first value of myArray using bracket notation."
   ]
  },
  {
   "cell_type": "code",
   "execution_count": null,
   "metadata": {},
   "outputs": [],
   "source": [
    "const myArray = [50, 60, 70];"
   ]
  },
  {
   "cell_type": "code",
   "execution_count": null,
   "metadata": {},
   "outputs": [],
   "source": [
    "const myArray = [50, 60, 70];\n",
    "\n",
    "let myData = myArray[0];"
   ]
  },
  {
   "cell_type": "markdown",
   "metadata": {},
   "source": [
    "41 Modify Array Data With Indexes\n",
    "\n",
    "Unlike strings, the entries of arrays are mutable and can be changed freely, even if the array was declared with const.\n",
    "\n",
    "Example"
   ]
  },
  {
   "cell_type": "code",
   "execution_count": null,
   "metadata": {},
   "outputs": [],
   "source": [
    "const ourArray = [50, 40, 30];\n",
    "ourArray[0] = 15;"
   ]
  },
  {
   "cell_type": "markdown",
   "metadata": {},
   "source": [
    "ourArray now has the value [15, 40, 30].\n",
    "\n",
    "Note: There shouldn't be any spaces between the array name and the square brackets, like array [0]. Although JavaScript is able to process this correctly, this may confuse other programmers reading your code.\n",
    "\n",
    "Modify the data stored at index 0 of myArray to a value of 45."
   ]
  },
  {
   "cell_type": "code",
   "execution_count": null,
   "metadata": {},
   "outputs": [],
   "source": [
    "// Setup\n",
    "const myArray = [18, 64, 99];\n",
    "\n",
    "// Only change code below this line\n"
   ]
  },
  {
   "cell_type": "code",
   "execution_count": null,
   "metadata": {},
   "outputs": [],
   "source": [
    "// Setup\n",
    "const myArray = [18, 64, 99];\n",
    "\n",
    "// Only change code below this line\n",
    "myArray[0] = 45;"
   ]
  },
  {
   "cell_type": "markdown",
   "metadata": {},
   "source": [
    "42 Access Multi-Dimensional Arrays With Indexes\n",
    "\n",
    "One way to think of a multi-dimensional array, is as an array of arrays. When you use brackets to access your array, the first set of brackets refers to the entries in the outer-most (the first level) array, and each additional pair of brackets refers to the next level of entries inside.\n",
    "\n",
    "Example"
   ]
  },
  {
   "cell_type": "code",
   "execution_count": null,
   "metadata": {},
   "outputs": [],
   "source": [
    "const arr = [\n",
    "    [1, 2, 3],\n",
    "    [4, 5, 6],\n",
    "    [7, 8, 9],\n",
    "    [[10, 11, 12], 13, 14]\n",
    "  ];\n",
    "  \n",
    "  arr[3];\n",
    "  arr[3][0];\n",
    "  arr[3][0][1];"
   ]
  },
  {
   "cell_type": "markdown",
   "metadata": {},
   "source": [
    "arr[ 3 ] is [[10, 11, 12], 13, 14], arr[ 3 ][0] is [10, 11, 12], and arr[ 3 ][0][1] is 11.\n",
    "\n",
    "Note: There shouldn't be any spaces between the array name and the square brackets, like array [ 0 ][0] and even this array [ 0 ] [ 0 ] is not allowed. Although JavaScript is able to process this correctly, this may confuse other programmers reading your code.\n",
    "\n",
    "Using bracket notation select an element from myArray such that myData is equal to 8."
   ]
  },
  {
   "cell_type": "code",
   "execution_count": null,
   "metadata": {},
   "outputs": [],
   "source": [
    "const myArray = [\n",
    "    [1, 2, 3],\n",
    "    [4, 5, 6],\n",
    "    [7, 8, 9],\n",
    "    [[10, 11, 12], 13, 14],\n",
    "  ];\n",
    "  \n",
    "  const myData = myArray[0][0];"
   ]
  },
  {
   "cell_type": "code",
   "execution_count": null,
   "metadata": {},
   "outputs": [],
   "source": [
    "const myArray = [\n",
    "    [1, 2, 3],\n",
    "    [4, 5, 6],\n",
    "    [7, 8, 9],\n",
    "    [[10, 11, 12], 13, 14],\n",
    "  ];\n",
    "  \n",
    "  const myData = myArray[2][1];"
   ]
  },
  {
   "cell_type": "markdown",
   "metadata": {},
   "source": [
    "43 Manipulate Arrays With push()\n",
    "\n",
    "An easy way to append data to the end of an array is via the push() function.\n",
    "\n",
    ".push() takes one or more parameters and \"pushes\" them onto the end of the array.\n",
    "\n",
    "Examples:"
   ]
  },
  {
   "cell_type": "code",
   "execution_count": null,
   "metadata": {},
   "outputs": [],
   "source": [
    "const arr1 = [1, 2, 3];\n",
    "arr1.push(4);\n",
    "\n",
    "const arr2 = [\"Stimpson\", \"J\", \"cat\"];\n",
    "arr2.push([\"happy\", \"joy\"]);"
   ]
  },
  {
   "cell_type": "markdown",
   "metadata": {},
   "source": [
    "arr1 now has the value [1, 2, 3, 4] and arr2 has the value [\"Stimpson\", \"J\", \"cat\", [\"happy\", \"joy\"]].\n",
    "\n",
    "Push [\"dog\", 3] onto the end of the myArray variable."
   ]
  },
  {
   "cell_type": "code",
   "execution_count": null,
   "metadata": {},
   "outputs": [],
   "source": [
    "// Setup\n",
    "const myArray = [[\"John\", 23], [\"cat\", 2]];\n",
    "\n",
    "// Only change code below this line\n"
   ]
  },
  {
   "cell_type": "code",
   "execution_count": null,
   "metadata": {},
   "outputs": [],
   "source": [
    "// Setup\n",
    "const myArray = [[\"John\", 23], [\"cat\", 2]];\n",
    "\n",
    "// Only change code below this line\n",
    "myArray.push([\"dog\", 3]);"
   ]
  },
  {
   "cell_type": "markdown",
   "metadata": {},
   "source": [
    "44 Manipulate Arrays With pop()\n",
    "\n",
    "Another way to change the data in an array is with the .pop() function.\n",
    "\n",
    ".pop() is used to pop a value off of the end of an array. We can store this popped off value by assigning it to a variable. In other words, .pop() removes the last element from an array and returns that element.\n",
    "\n",
    "Any type of entry can be popped off of an array - numbers, strings, even nested arrays."
   ]
  },
  {
   "cell_type": "code",
   "execution_count": null,
   "metadata": {},
   "outputs": [],
   "source": [
    "const threeArr = [1, 4, 6];\n",
    "const oneDown = threeArr.pop();\n",
    "console.log(oneDown);\n",
    "console.log(threeArr);"
   ]
  },
  {
   "cell_type": "markdown",
   "metadata": {},
   "source": [
    "The first console.log will display the value 6, and the second will display the value [1, 4].\n",
    "\n",
    "Use the .pop() function to remove the last item from myArray and assign the popped off value to a new variable, removedFromMyArray."
   ]
  },
  {
   "cell_type": "code",
   "execution_count": null,
   "metadata": {},
   "outputs": [],
   "source": [
    "// Setup\n",
    "const myArray = [[\"John\", 23], [\"cat\", 2]];\n",
    "\n",
    "// Only change code below this line\n"
   ]
  },
  {
   "cell_type": "code",
   "execution_count": null,
   "metadata": {},
   "outputs": [],
   "source": [
    "// Setup\n",
    "const myArray = [[\"John\", 23], [\"cat\", 2]];\n",
    "\n",
    "// Only change code below this line\n",
    "\n",
    "let removedFromMyArray = myArray.pop();"
   ]
  },
  {
   "cell_type": "markdown",
   "metadata": {},
   "source": [
    "45 Manipulate Arrays With shift()\n",
    "\n",
    "pop() always removes the last element of an array. What if you want to remove the first?\n",
    "\n",
    "That's where .shift() comes in. It works just like .pop(), except it removes the first element instead of the last.\n",
    "\n",
    "Example:"
   ]
  },
  {
   "cell_type": "code",
   "execution_count": null,
   "metadata": {},
   "outputs": [],
   "source": [
    "const ourArray = [\"Stimpson\", \"J\", [\"cat\"]];\n",
    "const removedFromOurArray = ourArray.shift();"
   ]
  },
  {
   "cell_type": "markdown",
   "metadata": {},
   "source": [
    "removedFromOurArray would have a value of the string Stimpson, and ourArray would have [\"J\", [\"cat\"]].\n",
    "\n",
    "Use the .shift() function to remove the first item from myArray and assign the \"shifted off\" value to a new variable, removedFromMyArray."
   ]
  },
  {
   "cell_type": "code",
   "execution_count": null,
   "metadata": {},
   "outputs": [],
   "source": [
    "// Setup\n",
    "const myArray = [[\"John\", 23], [\"dog\", 3]];\n",
    "\n",
    "// Only change code below this line\n"
   ]
  },
  {
   "cell_type": "code",
   "execution_count": null,
   "metadata": {},
   "outputs": [],
   "source": [
    "// Setup\n",
    "const myArray = [[\"John\", 23], [\"dog\", 3]];\n",
    "\n",
    "// Only change code below this line\n",
    "let removedFromMyArray = myArray.shift();"
   ]
  },
  {
   "cell_type": "markdown",
   "metadata": {},
   "source": [
    "46 Manipulate Arrays With unshift()\n",
    "\n",
    "Not only can you shift elements off of the beginning of an array, you can also unshift elements to the beginning of an array i.e. add elements in front of the array.\n",
    "\n",
    ".unshift() works exactly like .push(), but instead of adding the element at the end of the array, unshift() adds the element at the beginning of the array.\n",
    "\n",
    "Example:"
   ]
  },
  {
   "cell_type": "code",
   "execution_count": null,
   "metadata": {},
   "outputs": [],
   "source": [
    "const ourArray = [\"Stimpson\", \"J\", \"cat\"];\n",
    "ourArray.shift();\n",
    "ourArray.unshift(\"Happy\");"
   ]
  },
  {
   "cell_type": "markdown",
   "metadata": {},
   "source": [
    "After the shift, ourArray would have the value [\"J\", \"cat\"]. After the unshift, ourArray would have the value [\"Happy\", \"J\", \"cat\"].\n",
    "\n",
    "Add [\"Paul\", 35] to the beginning of the myArray variable using unshift()"
   ]
  },
  {
   "cell_type": "code",
   "execution_count": null,
   "metadata": {},
   "outputs": [],
   "source": [
    "// Setup\n",
    "const myArray = [[\"John\", 23], [\"dog\", 3]];\n",
    "myArray.shift();\n",
    "\n",
    "// Only change code below this line"
   ]
  },
  {
   "cell_type": "code",
   "execution_count": null,
   "metadata": {},
   "outputs": [],
   "source": [
    "// Setup\n",
    "const myArray = [[\"John\", 23], [\"dog\", 3]];\n",
    "myArray.shift();\n",
    "\n",
    "// Only change code below this line\n",
    "myArray.unshift([\"Paul\", 35]);"
   ]
  },
  {
   "cell_type": "markdown",
   "metadata": {},
   "source": [
    "47 Shopping List\n",
    "\n",
    "Create a shopping list in the variable myList. The list should be a multi-dimensional array containing several sub-arrays.\n",
    "\n",
    "The first element in each sub-array should contain a string with the name of the item. The second element should be a number representing the quantity i.e."
   ]
  },
  {
   "cell_type": "code",
   "execution_count": null,
   "metadata": {},
   "outputs": [],
   "source": [
    "[\"Chocolate Bar\", 15]"
   ]
  },
  {
   "cell_type": "markdown",
   "metadata": {},
   "source": [
    "There should be at least 5 sub-arrays in the list."
   ]
  },
  {
   "cell_type": "code",
   "execution_count": null,
   "metadata": {},
   "outputs": [],
   "source": [
    "const myList = [];"
   ]
  },
  {
   "cell_type": "code",
   "execution_count": null,
   "metadata": {},
   "outputs": [],
   "source": [
    "const myList = [\n",
    "    [\"carrots\", 2],\n",
    "    [\"beeves\", 2],\n",
    "    [\"bread\", 1],\n",
    "    [\"soup\", 1],\n",
    "    [\"monohydrogenated industrial bi-product\", 1]\n",
    "];"
   ]
  },
  {
   "cell_type": "markdown",
   "metadata": {},
   "source": [
    "48 Write Reusable JavaScript with Functions\n",
    "\n",
    "In JavaScript, we can divide up our code into reusable parts called functions.\n",
    "\n",
    "Here's an example of a function:"
   ]
  },
  {
   "cell_type": "code",
   "execution_count": null,
   "metadata": {},
   "outputs": [],
   "source": [
    "function functionName() {\n",
    "    console.log(\"Hello World\");\n",
    "  }"
   ]
  },
  {
   "cell_type": "markdown",
   "metadata": {},
   "source": [
    "You can call or invoke this function by using its name followed by parentheses, like this: functionName(); Each time the function is called it will print out the message Hello World on the dev console. All of the code between the curly braces will be executed every time the function is called.\n",
    "\n",
    "Create a function called reusableFunction which prints the string Hi World to the dev console.\n",
    "Call the function."
   ]
  },
  {
   "cell_type": "code",
   "execution_count": null,
   "metadata": {},
   "outputs": [],
   "source": [
    "function reusableFunction() {\n",
    "    console.log(\"Hi World\");\n",
    "}\n",
    "\n",
    "reusableFunction()"
   ]
  },
  {
   "cell_type": "markdown",
   "metadata": {},
   "source": [
    "49 Passing Values to Functions with Arguments\n",
    "\n",
    "Parameters are variables that act as placeholders for the values that are to be input to a function when it is called. When a function is defined, it is typically defined along with one or more parameters. The actual values that are input (or \"passed\") into a function when it is called are known as arguments.\n",
    "\n",
    "Here is a function with two parameters, param1 and param2:"
   ]
  },
  {
   "cell_type": "code",
   "execution_count": null,
   "metadata": {},
   "outputs": [],
   "source": [
    "function testFun(param1, param2) {\n",
    "    console.log(param1, param2);\n",
    "  }"
   ]
  },
  {
   "cell_type": "markdown",
   "metadata": {},
   "source": [
    "Then we can call testFun like this: testFun(\"Hello\", \"World\");. We have passed two string arguments, Hello and World. Inside the function, param1 will equal the string Hello and param2 will equal the string World. Note that you could call testFun again with different arguments and the parameters would take on the value of the new arguments.\n",
    "\n",
    "Create a function called functionWithArgs that accepts two arguments and outputs their sum to the dev console.\n",
    "Call the function with two numbers as arguments."
   ]
  },
  {
   "cell_type": "code",
   "execution_count": null,
   "metadata": {},
   "outputs": [],
   "source": [
    "function functionWithArgs(param1, param2) {\n",
    "    console.log(param1 + param2);\n",
    "}\n",
    "\n",
    "functionWithArgs(3, 16);"
   ]
  },
  {
   "cell_type": "markdown",
   "metadata": {},
   "source": [
    "50 Return a Value from a Function with Return\n",
    "\n",
    "We can pass values into a function with arguments. You can use a return statement to send a value back out of a function.\n",
    "\n",
    "Example"
   ]
  },
  {
   "cell_type": "code",
   "execution_count": null,
   "metadata": {},
   "outputs": [],
   "source": [
    "function plusThree(num) {\n",
    "    return num + 3;\n",
    "  }\n",
    "  \n",
    "  const answer = plusThree(5);"
   ]
  },
  {
   "cell_type": "markdown",
   "metadata": {},
   "source": [
    "answer has the value 8.\n",
    "\n",
    "plusThree takes an argument for num and returns a value equal to num + 3.\n",
    "\n",
    "Create a function timesFive that accepts one argument, multiplies it by 5, and returns the new value."
   ]
  },
  {
   "cell_type": "code",
   "execution_count": null,
   "metadata": {},
   "outputs": [],
   "source": [
    "function timesFive(param1) {\n",
    "    return param1 * 5;\n",
    "}"
   ]
  }
 ],
 "metadata": {
  "kernelspec": {
   "display_name": "JavaScript (Node.js)",
   "language": "javascript",
   "name": "javascript"
  },
  "language_info": {
   "file_extension": ".js",
   "mimetype": "application/javascript",
   "name": "javascript",
   "version": "16.16.0"
  },
  "orig_nbformat": 4,
  "vscode": {
   "interpreter": {
    "hash": "916dbcbb3f70747c44a77c7bcd40155683ae19c65e1c03b4aa3499c5328201f1"
   }
  }
 },
 "nbformat": 4,
 "nbformat_minor": 2
}
