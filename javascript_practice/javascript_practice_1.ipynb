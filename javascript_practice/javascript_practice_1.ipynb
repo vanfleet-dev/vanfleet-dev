{
 "cells": [
  {
   "cell_type": "markdown",
   "metadata": {},
   "source": [
    "///////////////////////////////////////////////////////////\n",
    "\n",
    "\n",
    "\n",
    "Code Camp JavaScript Algorithms and Data Structures Course\n",
    "\n",
    "\n",
    "Basic JavaScript\n",
    "\n",
    "\n",
    "\n",
    "//////////////////////////////////////////////////////////"
   ]
  },
  {
   "cell_type": "markdown",
   "metadata": {},
   "source": [
    "1 Comment Your JavaScript Code"
   ]
  },
  {
   "cell_type": "code",
   "execution_count": null,
   "metadata": {},
   "outputs": [],
   "source": [
    "// This is an inline comment in JavaScript\n",
    "\n",
    "/* This is a multi-line comment in JavaScript*/"
   ]
  },
  {
   "cell_type": "markdown",
   "metadata": {},
   "source": [
    "2 Declare JavaScript Variables\n",
    "\n",
    "In computer science, data is anything that is meaningful to the computer. JavaScript provides eight different data types which are undefined, null, boolean, string, symbol, bigint, number, and object.\n",
    "\n",
    "For example, computers distinguish between numbers, such as the number 12, and strings, such as \"12\", \"dog\", or \"123 cats\", which are collections of characters. Computers can perform mathematical operations on a number, but not on a string.\n",
    "\n",
    "Variables allow computers to store and manipulate data in a dynamic fashion. They do this by using a \"label\" to point to the data rather than using the data itself. Any of the eight data types may be stored in a variable.\n",
    "\n",
    "Variables are similar to the x and y variables you use in mathematics, which means they're a simple name to represent the data we want to refer to. Computer variables differ from mathematical variables in that they can store different values at different times.\n",
    "\n",
    "We tell JavaScript to create or declare a variable by putting the keyword var in front of it, like so:\n"
   ]
  },
  {
   "cell_type": "code",
   "execution_count": null,
   "metadata": {},
   "outputs": [],
   "source": [
    "var ourName;"
   ]
  },
  {
   "cell_type": "markdown",
   "metadata": {},
   "source": [
    "creates a variable called ourName. In JavaScript we end statements with semicolons. Variable names can be made up of numbers, letters, and $ or _, but may not contain spaces or start with a number.\n",
    "\n",
    "Use the var keyword to create a variable called myName."
   ]
  },
  {
   "cell_type": "code",
   "execution_count": null,
   "metadata": {},
   "outputs": [],
   "source": [
    "var myName;"
   ]
  },
  {
   "cell_type": "markdown",
   "metadata": {},
   "source": [
    "3 Storing Values with the Assignment Operator\n",
    "\n",
    "In JavaScript, you can store a value in a variable with the assignment operator (=).\n"
   ]
  },
  {
   "cell_type": "code",
   "execution_count": null,
   "metadata": {},
   "outputs": [],
   "source": [
    "myVariable = 5;"
   ]
  },
  {
   "cell_type": "markdown",
   "metadata": {},
   "source": [
    "This assigns the Number value 5 to myVariable.\n",
    "\n",
    "If there are any calculations to the right of the = operator, those are performed before the value is assigned to the variable on the left of the operator."
   ]
  },
  {
   "cell_type": "code",
   "execution_count": null,
   "metadata": {},
   "outputs": [],
   "source": [
    "var myVar;\n",
    "myVar = 5;"
   ]
  },
  {
   "cell_type": "markdown",
   "metadata": {},
   "source": [
    "First, this code creates a variable named myVar. Then, the code assigns 5 to myVar. Now, if myVar appears again in the code, the program will treat it as if it is 5.\n",
    "\n",
    "Assign the value 7 to variable a."
   ]
  },
  {
   "cell_type": "code",
   "execution_count": null,
   "metadata": {},
   "outputs": [],
   "source": [
    "// Setup\n",
    "var a;\n",
    "\n",
    "// Only change code below this line\n",
    "a = 7;"
   ]
  },
  {
   "cell_type": "markdown",
   "metadata": {},
   "source": [
    "4 Assigning the Value of One Variable to Another\n",
    "\n",
    "After a value is assigned to a variable using the assignment operator, you can assign the value of that variable to another variable using the assignment operator."
   ]
  },
  {
   "cell_type": "code",
   "execution_count": null,
   "metadata": {},
   "outputs": [],
   "source": [
    "var myVar;\n",
    "myVar = 5;\n",
    "var myNum;\n",
    "myNum = myVar;"
   ]
  },
  {
   "cell_type": "markdown",
   "metadata": {},
   "source": [
    "The above declares a myVar variable with no value, then assigns it the value 5. Next, a variable named myNum is declared with no value. \n",
    "\n",
    "Then, the contents of myVar (which is 5) is assigned to the variable myNum. Now, myNum also has the value of 5.\n",
    "\n",
    "Assign the contents of a to variable b."
   ]
  },
  {
   "cell_type": "code",
   "execution_count": null,
   "metadata": {},
   "outputs": [],
   "source": [
    "// Setup\n",
    "var a;\n",
    "a = 7;\n",
    "var b;\n",
    "\n",
    "// Only change code below this line\n",
    "b = a;"
   ]
  },
  {
   "cell_type": "markdown",
   "metadata": {},
   "source": [
    "5 Initializing Variables with the Assignment Operator \n",
    "\n",
    "It is common to initialize a variable to an initial value in the same line as it is declared."
   ]
  },
  {
   "cell_type": "code",
   "execution_count": null,
   "metadata": {},
   "outputs": [],
   "source": [
    "var myVar = 0;"
   ]
  },
  {
   "cell_type": "markdown",
   "metadata": {},
   "source": [
    "Creates a new variable called myVar and assigns it an initial value of 0.\n",
    "\n",
    "Define a variable a with var and initialize it to a value of 9."
   ]
  },
  {
   "cell_type": "code",
   "execution_count": null,
   "metadata": {},
   "outputs": [],
   "source": [
    "var a = 9;"
   ]
  },
  {
   "cell_type": "markdown",
   "metadata": {},
   "source": [
    "6 Declare String Variables\n",
    "\n",
    "Previously you used the following code to declare a variable:"
   ]
  },
  {
   "cell_type": "code",
   "execution_count": null,
   "metadata": {},
   "outputs": [],
   "source": [
    "var myName;"
   ]
  },
  {
   "cell_type": "markdown",
   "metadata": {},
   "source": [
    "But you can also declare a string variable like this:"
   ]
  },
  {
   "cell_type": "code",
   "execution_count": null,
   "metadata": {},
   "outputs": [],
   "source": [
    "var myName = \"your name\";"
   ]
  },
  {
   "cell_type": "markdown",
   "metadata": {},
   "source": [
    "\"your name\" is called a string literal. A string literal, or string, is a series of zero or more characters enclosed in single or double quotes.\n",
    "\n",
    "Create two new string variables: myFirstName and myLastName and assign them the values of your first and last name, respectively.\n"
   ]
  },
  {
   "cell_type": "code",
   "execution_count": null,
   "metadata": {},
   "outputs": [],
   "source": [
    "var myFirstName = \"justin\";\n",
    "var myLastName = \"vanfleet\";"
   ]
  },
  {
   "cell_type": "markdown",
   "metadata": {},
   "source": [
    "7 Understanding Uninitialized Variables\n",
    "\n",
    "When JavaScript variables are declared, they have an initial value of undefined. If you do a mathematical operation on an undefined variable your result will be NaN which means \"Not a Number\". If you concatenate a string with an undefined variable, you will get a string of undefined.\n",
    "\n",
    "Initialize the three variables a, b, and c with 5, 10, and \"I am a\" respectively so that they will not be undefined.\n"
   ]
  },
  {
   "cell_type": "code",
   "execution_count": null,
   "metadata": {},
   "outputs": [],
   "source": [
    "// Only change code below this line\n",
    "var a = 5;\n",
    "var b = 10;\n",
    "var c = \"I am a\";\n",
    "// Only change code above this line\n",
    "\n",
    "a = a + 1;\n",
    "b = b + 5;\n",
    "c = c + \" String!\";"
   ]
  },
  {
   "cell_type": "markdown",
   "metadata": {},
   "source": [
    "8 Understanding Case Sensitivity in Variables \n",
    "\n",
    "In JavaScript all variables and function names are case sensitive. This means that capitalization matters.\n",
    "\n",
    "MYVAR is not the same as MyVar nor myvar. It is possible to have multiple distinct variables with the same name but different casing. It is strongly recommended that for the sake of clarity, you do not use this language feature.\n",
    "\n",
    "Best Practice\n",
    "\n",
    "Write variable names in JavaScript in camelCase. In camelCase, multi-word variable names have the first word in lowercase and the first letter of each subsequent word is capitalized.\n",
    "\n",
    "Examples:"
   ]
  },
  {
   "cell_type": "code",
   "execution_count": null,
   "metadata": {},
   "outputs": [],
   "source": [
    "var someVariable;\n",
    "var anotherVariableName;\n",
    "var thisVariableNameIsSoLong;"
   ]
  },
  {
   "cell_type": "markdown",
   "metadata": {},
   "source": [
    "Modify the existing declarations and assignments so their names use camelCase.\n",
    "\n",
    "Do not create any new variables."
   ]
  },
  {
   "cell_type": "code",
   "execution_count": null,
   "metadata": {},
   "outputs": [],
   "source": [
    "// Variable declarations\n",
    "var StUdLyCapVaR;\n",
    "var properCamelCase;\n",
    "var TitleCaseOver;\n",
    "\n",
    "// Variable assignments\n",
    "STUDLYCAPVAR = 10;\n",
    "PRoperCAmelCAse = \"A String\";\n",
    "tITLEcASEoVER = 9000;"
   ]
  },
  {
   "cell_type": "code",
   "execution_count": null,
   "metadata": {},
   "outputs": [],
   "source": [
    "var studlyCapVar;\n",
    "var properCamelCase;\n",
    "var titleCaseOver;\n",
    "\n",
    "studlyCapVar = 10;\n",
    "properCamelCase= \"A String\";\n",
    "titleCaseOver = 9000;"
   ]
  },
  {
   "cell_type": "markdown",
   "metadata": {},
   "source": [
    "9 Explore Differences Between the var and let Keywords\n",
    "\n",
    "One of the biggest problems with declaring variables with the var keyword is that you can easily overwrite variable declarations:\n"
   ]
  },
  {
   "cell_type": "code",
   "execution_count": null,
   "metadata": {},
   "outputs": [],
   "source": [
    "var camper = \"James\";\n",
    "var camper = \"David\";\n",
    "console.log(camper);"
   ]
  },
  {
   "cell_type": "markdown",
   "metadata": {},
   "source": [
    "In the code above, the camper variable is originally declared as James, and is then overridden to be David. The console then displays the string David.\n",
    "\n",
    "In a small application, you might not run into this type of problem. But as your codebase becomes larger, you might accidentally overwrite a variable that you did not intend to. Because this behavior does not throw an error, searching for and fixing bugs becomes more difficult.\n",
    "\n",
    "A keyword called let was introduced in ES6, a major update to JavaScript, to solve this potential issue with the var keyword. You'll learn about other ES6 features in later challenges.\n",
    "\n",
    "If you replace var with let in the code above, it results in an error:\n"
   ]
  },
  {
   "cell_type": "code",
   "execution_count": null,
   "metadata": {},
   "outputs": [],
   "source": [
    "// let camper = \"James\";\n",
    "// let camper = \"David\";"
   ]
  },
  {
   "cell_type": "markdown",
   "metadata": {},
   "source": [
    "The error can be seen in your browser console.\n",
    "\n",
    "So unlike var, when you use let, a variable with the same name can only be declared once.\n",
    "\n",
    "Update the code so it only uses the let keyword."
   ]
  },
  {
   "cell_type": "code",
   "execution_count": null,
   "metadata": {},
   "outputs": [],
   "source": [
    "let catName = \"Oliver\";\n",
    "let catSound = \"Meow!\";"
   ]
  },
  {
   "cell_type": "markdown",
   "metadata": {},
   "source": [
    "10 Declare a Read-Only Variable with the const Keyword\n",
    "\n",
    "The keyword let is not the only new way to declare variables. In ES6, you can also declare variables using the const keyword.\n",
    "\n",
    "const has all the awesome features that let has, with the added bonus that variables declared using const are read-only. They are a constant value, which means that once a variable is assigned with const, it cannot be reassigned:\n"
   ]
  },
  {
   "cell_type": "code",
   "execution_count": null,
   "metadata": {},
   "outputs": [],
   "source": [
    "const FAV_PET = \"Cats\";\n",
    "FAV_PET = \"Dogs\";"
   ]
  },
  {
   "cell_type": "markdown",
   "metadata": {},
   "source": [
    "The console will display an error due to reassigning the value of FAV_PET.\n",
    "\n",
    "You should always name variables you don't want to reassign using the const keyword. This helps when you accidentally attempt to reassign a variable that is meant to stay constant.\n",
    "\n",
    "Note: It is common for developers to use uppercase variable identifiers for immutable values and lowercase or camelCase for mutable values (objects and arrays). You will learn more about objects, arrays, and immutable and mutable values in later challenges. Also in later challenges, you will see examples of uppercase, lowercase, or camelCase variable identifiers.\n",
    "\n",
    "Change the code so that all variables are declared using let or const. Use let when you want the variable to change, and const when you want the variable to remain constant. Also, rename variables declared with const to conform to common practices. Do not change the strings assigned to the variables."
   ]
  },
  {
   "cell_type": "code",
   "execution_count": null,
   "metadata": {},
   "outputs": [],
   "source": [
    "var fCC = \"freeCodeCamp\"; // Change this line\n",
    "var fact = \"is cool!\"; // Change this line\n",
    "fact = \"is awesome!\";\n",
    "console.log(fCC, fact); // Change this line"
   ]
  },
  {
   "cell_type": "code",
   "execution_count": null,
   "metadata": {},
   "outputs": [],
   "source": [
    "const FCC = \"freeCodeCamp\"; \n",
    "let fact = \"is cool!\"; \n",
    "fact = \"is awesome!\";\n",
    "console.log(FCC, fact);"
   ]
  },
  {
   "cell_type": "markdown",
   "metadata": {},
   "source": [
    "11 Add Two Numbers with JavaScript\n",
    "\n",
    "Number is a data type in JavaScript which represents numeric data.\n",
    "\n",
    "Now let's try to add two numbers using JavaScript.\n",
    "\n",
    "JavaScript uses the + symbol as an addition operator when placed between two numbers.\n",
    "\n",
    "Example:"
   ]
  },
  {
   "cell_type": "code",
   "execution_count": null,
   "metadata": {},
   "outputs": [],
   "source": [
    "const myVar = 5 + 10;"
   ]
  },
  {
   "cell_type": "markdown",
   "metadata": {},
   "source": [
    "myVar now has the value 15.\n",
    "\n",
    "Change the 0 so that sum will equal 20."
   ]
  },
  {
   "cell_type": "code",
   "execution_count": null,
   "metadata": {},
   "outputs": [],
   "source": [
    "const sum = 10 + 0;"
   ]
  },
  {
   "cell_type": "code",
   "execution_count": null,
   "metadata": {},
   "outputs": [],
   "source": [
    "const sum = 10 + 10;"
   ]
  },
  {
   "cell_type": "markdown",
   "metadata": {},
   "source": [
    "12 Subtract One Number from Another with JavaScript\n",
    "\n",
    "We can also subtract one number from another.\n",
    "\n",
    "JavaScript uses the - symbol for subtraction.\n",
    "\n",
    "Example"
   ]
  },
  {
   "cell_type": "code",
   "execution_count": null,
   "metadata": {},
   "outputs": [],
   "source": [
    "const myVar = 12 - 6;"
   ]
  },
  {
   "cell_type": "markdown",
   "metadata": {},
   "source": [
    "myVar would have the value 6.\n",
    "\n",
    "Change the 0 so the difference is 12."
   ]
  },
  {
   "cell_type": "code",
   "execution_count": null,
   "metadata": {},
   "outputs": [],
   "source": [
    "const difference = 45 - 0;"
   ]
  },
  {
   "cell_type": "code",
   "execution_count": null,
   "metadata": {},
   "outputs": [],
   "source": [
    "const difference = 45 - 33;"
   ]
  },
  {
   "cell_type": "markdown",
   "metadata": {},
   "source": [
    "13 Multiply Two Numbers with JavaScript\n",
    "\n",
    "We can also multiply one number by another.\n",
    "\n",
    "JavaScript uses the * symbol for multiplication of two numbers.\n",
    "\n",
    "Example"
   ]
  },
  {
   "cell_type": "code",
   "execution_count": null,
   "metadata": {},
   "outputs": [],
   "source": [
    "const myVar = 13 * 13;"
   ]
  },
  {
   "cell_type": "markdown",
   "metadata": {},
   "source": [
    "myVar would have the value 169.\n",
    "\n",
    "Change the 0 so that product will equal 80."
   ]
  },
  {
   "cell_type": "code",
   "execution_count": null,
   "metadata": {},
   "outputs": [],
   "source": [
    "const product = 8 * 0;"
   ]
  },
  {
   "cell_type": "code",
   "execution_count": null,
   "metadata": {},
   "outputs": [],
   "source": [
    "const product = 8 * 10;"
   ]
  },
  {
   "cell_type": "markdown",
   "metadata": {},
   "source": [
    "14 Divide One Number by Another with JavaScript\n",
    "\n",
    "We can also divide one number by another.\n",
    "\n",
    "JavaScript uses the / symbol for division.\n",
    "\n",
    "Example"
   ]
  },
  {
   "cell_type": "code",
   "execution_count": null,
   "metadata": {},
   "outputs": [],
   "source": [
    "const myVar = 16 / 2;"
   ]
  },
  {
   "cell_type": "markdown",
   "metadata": {},
   "source": [
    "myVar now has the value 8.\n",
    "\n",
    "Change the 0 so that the quotient is equal to 2."
   ]
  },
  {
   "cell_type": "code",
   "execution_count": null,
   "metadata": {},
   "outputs": [],
   "source": [
    "const quotient = 66 / 0;"
   ]
  },
  {
   "cell_type": "code",
   "execution_count": null,
   "metadata": {},
   "outputs": [],
   "source": [
    "const quotient = 66 / 33;"
   ]
  },
  {
   "cell_type": "markdown",
   "metadata": {},
   "source": [
    "15 Increment a Number with JavaScript\n",
    "\n",
    "You can easily increment or add one to a variable with the ++ operator."
   ]
  },
  {
   "cell_type": "code",
   "execution_count": null,
   "metadata": {},
   "outputs": [],
   "source": [
    "i++;"
   ]
  },
  {
   "cell_type": "markdown",
   "metadata": {},
   "source": [
    "is the equivalent of"
   ]
  },
  {
   "cell_type": "code",
   "execution_count": null,
   "metadata": {},
   "outputs": [],
   "source": [
    "i = i + 1;"
   ]
  },
  {
   "cell_type": "markdown",
   "metadata": {},
   "source": [
    "Note: The entire line becomes i++;, eliminating the need for the equal sign.\n",
    "\n",
    "Change the code to use the ++ operator on myVar."
   ]
  },
  {
   "cell_type": "code",
   "execution_count": null,
   "metadata": {},
   "outputs": [],
   "source": [
    "let myVar = 87;\n",
    "\n",
    "// Only change code below this line\n",
    "myVar = myVar + 1;"
   ]
  },
  {
   "cell_type": "code",
   "execution_count": null,
   "metadata": {},
   "outputs": [],
   "source": [
    "let myVar = 87;\n",
    "\n",
    "// Only change code below this line\n",
    "myVar++;"
   ]
  },
  {
   "cell_type": "markdown",
   "metadata": {},
   "source": [
    "16 Decrement a Number with JavaScript\n",
    "\n",
    "You can easily decrement or decrease a variable by one with the -- operator."
   ]
  },
  {
   "cell_type": "code",
   "execution_count": null,
   "metadata": {},
   "outputs": [],
   "source": [
    "i--;"
   ]
  },
  {
   "cell_type": "markdown",
   "metadata": {},
   "source": [
    "is the equivalent of"
   ]
  },
  {
   "cell_type": "code",
   "execution_count": null,
   "metadata": {},
   "outputs": [],
   "source": [
    "i = i - 1;"
   ]
  },
  {
   "cell_type": "markdown",
   "metadata": {},
   "source": [
    "\n",
    "Note: The entire line becomes i--;, eliminating the need for the equal sign.\n",
    "\n",
    "Change the code to use the -- operator on myVar."
   ]
  },
  {
   "cell_type": "code",
   "execution_count": null,
   "metadata": {},
   "outputs": [],
   "source": [
    "let myVar = 11;\n",
    "\n",
    "// Only change code below this line\n",
    "myVar = myVar - 1;"
   ]
  },
  {
   "cell_type": "code",
   "execution_count": null,
   "metadata": {},
   "outputs": [],
   "source": [
    "let myVar = 11;\n",
    "\n",
    "// Only change code below this line\n",
    "myVar--;"
   ]
  },
  {
   "cell_type": "markdown",
   "metadata": {},
   "source": [
    "17 Create Decimal Numbers with JavaScript\n",
    "\n",
    "We can store decimal numbers in variables too. Decimal numbers are sometimes referred to as floating point numbers or floats.\n",
    "\n",
    "Note: when you compute numbers, they are computed with finite precision. Operations using floating points may lead to different results than the desired outcome. If you are getting one of these results, open a topic on the freeCodeCamp forum.\n",
    "\n",
    "Create a variable myDecimal and give it a decimal value with a fractional part (e.g. 5.7).\n"
   ]
  },
  {
   "cell_type": "code",
   "execution_count": null,
   "metadata": {},
   "outputs": [],
   "source": [
    "const ourDecimal = 5.7;\n",
    "\n",
    "// Only change code below this line\n"
   ]
  },
  {
   "cell_type": "code",
   "execution_count": null,
   "metadata": {},
   "outputs": [],
   "source": [
    "const ourDecimal = 5.7;\n",
    "\n",
    "// Only change code below this line\n",
    "\n",
    "const myDecimal = 5.7;"
   ]
  },
  {
   "cell_type": "markdown",
   "metadata": {},
   "source": [
    "18 Multiply Two Decimals with JavaScript\n",
    "\n",
    "In JavaScript, you can also perform calculations with decimal numbers, just like whole numbers.\n",
    "\n",
    "Let's multiply two decimals together to get their product.\n",
    "\n",
    "Change the 0.0 so that product will equal 5.0."
   ]
  },
  {
   "cell_type": "code",
   "execution_count": null,
   "metadata": {},
   "outputs": [],
   "source": [
    "const product = 2.0 * 0.0;"
   ]
  },
  {
   "cell_type": "code",
   "execution_count": null,
   "metadata": {},
   "outputs": [],
   "source": [
    "const product = 2.0 * 2.5;"
   ]
  },
  {
   "cell_type": "markdown",
   "metadata": {},
   "source": [
    "19 Divide One Decimal by Another with JavaScript\n",
    "\n",
    "Now let's divide one decimal by another.\n",
    "\n",
    "Change the 0.0 so that quotient will equal to 2.2."
   ]
  },
  {
   "cell_type": "code",
   "execution_count": null,
   "metadata": {},
   "outputs": [],
   "source": [
    "const quotient = 0.0 / 2.0; // Change this line"
   ]
  },
  {
   "cell_type": "code",
   "execution_count": null,
   "metadata": {},
   "outputs": [],
   "source": [
    "const quotient = 4.4 / 2.0; // Change this line"
   ]
  },
  {
   "cell_type": "markdown",
   "metadata": {},
   "source": [
    "20 The remainder operator % gives the remainder of the division of two numbers.\n",
    "\n",
    "\n",
    "Example"
   ]
  },
  {
   "cell_type": "code",
   "execution_count": null,
   "metadata": {},
   "outputs": [],
   "source": [
    "// 5 % 2 = 1 because\n",
    "// Math.floor(5 / 2) = 2 (Quotient)\n",
    "// 2 * 2 = 4\n",
    "// 5 - 4 = 1 (Remainder)"
   ]
  },
  {
   "cell_type": "markdown",
   "metadata": {},
   "source": [
    "Usage\n",
    "In mathematics, a number can be checked to be even or odd by checking the remainder of the division of the number by 2."
   ]
  },
  {
   "cell_type": "code",
   "execution_count": null,
   "metadata": {},
   "outputs": [],
   "source": [
    "// 17 % 2 = 1 (17 is Odd)\n",
    "// 48 % 2 = 0 (48 is Even)"
   ]
  },
  {
   "cell_type": "markdown",
   "metadata": {},
   "source": [
    "Note: The remainder operator is sometimes incorrectly referred to as the modulus operator. It is very similar to modulus, but does not work properly with negative numbers.\n",
    "\n",
    "Set remainder equal to the remainder of 11 divided by 3 using the remainder (%) operator."
   ]
  },
  {
   "cell_type": "code",
   "execution_count": null,
   "metadata": {},
   "outputs": [],
   "source": [
    "const remainder = 0;"
   ]
  },
  {
   "cell_type": "code",
   "execution_count": null,
   "metadata": {},
   "outputs": [],
   "source": [
    "const remainder = 11 % 3;"
   ]
  },
  {
   "cell_type": "markdown",
   "metadata": {},
   "source": [
    "21 Compound Assignment With Augmented Addition\n",
    "\n",
    "In programming, it is common to use assignments to modify the contents of a variable. Remember that everything to the right of the equals sign is evaluated first, so we can say:"
   ]
  },
  {
   "cell_type": "code",
   "execution_count": null,
   "metadata": {},
   "outputs": [],
   "source": [
    "myVar = myVar + 5;"
   ]
  },
  {
   "cell_type": "markdown",
   "metadata": {},
   "source": [
    "to add 5 to myVar. Since this is such a common pattern, there are operators which do both a mathematical operation and assignment in one step.\n",
    "\n",
    "One such operator is the += operator."
   ]
  },
  {
   "cell_type": "code",
   "execution_count": null,
   "metadata": {},
   "outputs": [],
   "source": [
    "let myVar = 1;\n",
    "myVar += 5;\n",
    "console.log(myVar);"
   ]
  },
  {
   "cell_type": "markdown",
   "metadata": {},
   "source": [
    "6 would be displayed in the console.\n",
    "\n",
    "Convert the assignments for a, b, and c to use the += operator."
   ]
  },
  {
   "cell_type": "code",
   "execution_count": null,
   "metadata": {},
   "outputs": [],
   "source": [
    "let a = 3;\n",
    "let b = 17;\n",
    "let c = 12;\n",
    "\n",
    "// Only change code below this line\n",
    "a = a + 12;\n",
    "b = 9 + b;\n",
    "c = c + 7;"
   ]
  },
  {
   "cell_type": "code",
   "execution_count": null,
   "metadata": {},
   "outputs": [],
   "source": [
    "let a = 3;\n",
    "let b = 17;\n",
    "let c = 12;\n",
    "\n",
    "// Only change code below this line\n",
    "a += 12;\n",
    "b += 9;\n",
    "c += 7;"
   ]
  },
  {
   "cell_type": "markdown",
   "metadata": {},
   "source": [
    "22 Compound Assignment With Augmented Subtraction\n",
    "\n",
    "Like the += operator, -= subtracts a number from a variable."
   ]
  },
  {
   "cell_type": "code",
   "execution_count": null,
   "metadata": {},
   "outputs": [],
   "source": [
    "myVar = myVar - 5;"
   ]
  },
  {
   "cell_type": "markdown",
   "metadata": {},
   "source": [
    "will subtract 5 from myVar. This can be rewritten as:"
   ]
  },
  {
   "cell_type": "code",
   "execution_count": null,
   "metadata": {},
   "outputs": [],
   "source": [
    "myVar -= 5;"
   ]
  },
  {
   "cell_type": "markdown",
   "metadata": {},
   "source": [
    "Convert the assignments for a, b, and c to use the -= operator."
   ]
  },
  {
   "cell_type": "code",
   "execution_count": null,
   "metadata": {},
   "outputs": [],
   "source": [
    "let a = 11;\n",
    "let b = 9;\n",
    "let c = 3;\n",
    "\n",
    "// Only change code below this line\n",
    "a = a - 6;\n",
    "b = b - 15;\n",
    "c = c - 1;"
   ]
  },
  {
   "cell_type": "code",
   "execution_count": null,
   "metadata": {},
   "outputs": [],
   "source": [
    "let a = 11;\n",
    "let b = 9;\n",
    "let c = 3;\n",
    "\n",
    "// Only change code below this line\n",
    "a -= 6;\n",
    "b -= 15;\n",
    "c -= 1;"
   ]
  },
  {
   "cell_type": "markdown",
   "metadata": {},
   "source": [
    "23 Compound Assignment With Augmented Multiplication\n",
    "\n",
    "The *= operator multiplies a variable by a number."
   ]
  },
  {
   "cell_type": "code",
   "execution_count": null,
   "metadata": {},
   "outputs": [],
   "source": [
    "myVar = myVar * 5;"
   ]
  },
  {
   "cell_type": "markdown",
   "metadata": {},
   "source": [
    "will multiply myVar by 5. This can be rewritten as:"
   ]
  },
  {
   "cell_type": "code",
   "execution_count": null,
   "metadata": {},
   "outputs": [],
   "source": [
    "myVar *= 5;"
   ]
  },
  {
   "cell_type": "markdown",
   "metadata": {},
   "source": [
    "Convert the assignments for a, b, and c to use the *= operator."
   ]
  },
  {
   "cell_type": "code",
   "execution_count": null,
   "metadata": {},
   "outputs": [],
   "source": [
    "let a = 5;\n",
    "let b = 12;\n",
    "let c = 4.6;\n",
    "\n",
    "// Only change code below this line\n",
    "a = a * 5;\n",
    "b = 3 * b;\n",
    "c = c * 10;"
   ]
  },
  {
   "cell_type": "code",
   "execution_count": null,
   "metadata": {},
   "outputs": [],
   "source": [
    "let a = 5;\n",
    "let b = 12;\n",
    "let c = 4.6;\n",
    "\n",
    "// Only change code below this line\n",
    "a *= 5;\n",
    "b *= 3;\n",
    "c *= 10;"
   ]
  },
  {
   "cell_type": "markdown",
   "metadata": {},
   "source": [
    "24 Compound Assignment With Augmented Division\n",
    "\n",
    "The /= operator divides a variable by another number."
   ]
  },
  {
   "cell_type": "code",
   "execution_count": null,
   "metadata": {},
   "outputs": [],
   "source": [
    "myVar = myVar / 5;"
   ]
  },
  {
   "cell_type": "markdown",
   "metadata": {},
   "source": [
    "Will divide myVar by 5. This can be rewritten as:"
   ]
  },
  {
   "cell_type": "code",
   "execution_count": null,
   "metadata": {},
   "outputs": [],
   "source": [
    "myVar /= 5;"
   ]
  },
  {
   "cell_type": "markdown",
   "metadata": {},
   "source": [
    "Convert the assignments for a, b, and c to use the /= operator."
   ]
  },
  {
   "cell_type": "code",
   "execution_count": null,
   "metadata": {},
   "outputs": [],
   "source": [
    "let a = 48;\n",
    "let b = 108;\n",
    "let c = 33;\n",
    "\n",
    "// Only change code below this line\n",
    "a = a / 12;\n",
    "b = b / 4;\n",
    "c = c / 11;"
   ]
  },
  {
   "cell_type": "code",
   "execution_count": null,
   "metadata": {},
   "outputs": [],
   "source": [
    "let a = 48;\n",
    "let b = 108;\n",
    "let c = 33;\n",
    "\n",
    "// Only change code below this line\n",
    "a /= 12;\n",
    "b /= 4;\n",
    "c /= 11;"
   ]
  },
  {
   "cell_type": "markdown",
   "metadata": {},
   "source": [
    "25 Escaping Literal Quotes in Strings\n",
    "\n",
    "When you are defining a string you must start and end with a single or double quote. What happens when you need a literal quote: \" or ' inside of your string?\n",
    "\n",
    "In JavaScript, you can escape a quote from considering it as an end of string quote by placing a backslash ( \\ ) in front of the quote."
   ]
  },
  {
   "cell_type": "code",
   "execution_count": null,
   "metadata": {},
   "outputs": [],
   "source": [
    "const sampleStr = \"Alan said, \\\"Peter is learning JavaScript\\\".\";"
   ]
  },
  {
   "cell_type": "markdown",
   "metadata": {},
   "source": [
    "This signals to JavaScript that the following quote is not the end of the string, but should instead appear inside the string. So if you were to print this to the console, you would get:"
   ]
  },
  {
   "cell_type": "code",
   "execution_count": null,
   "metadata": {},
   "outputs": [],
   "source": [
    "// Alan said, \"Peter is learning JavaScript\"."
   ]
  },
  {
   "cell_type": "markdown",
   "metadata": {},
   "source": [
    "This signals to JavaScript that the following quote is not the end of the string, but should instead appear inside the string. So if you were to print this to the console, you would get:"
   ]
  },
  {
   "cell_type": "code",
   "execution_count": null,
   "metadata": {},
   "outputs": [],
   "source": [
    "// Alan said, \"Peter is learning JavaScript\"."
   ]
  },
  {
   "cell_type": "markdown",
   "metadata": {},
   "source": [
    "Use backslashes to assign a string to the myStr variable so that if you were to print it to the console, you would see:"
   ]
  },
  {
   "cell_type": "code",
   "execution_count": null,
   "metadata": {},
   "outputs": [],
   "source": [
    "// I am a \"double quoted\" string inside \"double quotes\"."
   ]
  },
  {
   "cell_type": "code",
   "execution_count": null,
   "metadata": {},
   "outputs": [],
   "source": [
    "const myStr = \"\"; // Change this line"
   ]
  },
  {
   "cell_type": "code",
   "execution_count": null,
   "metadata": {},
   "outputs": [],
   "source": [
    "const myStr = \"I am a \\\"double quoted\\\" string inside \\\"double quotes\\\".\"; // Change this line"
   ]
  },
  {
   "cell_type": "markdown",
   "metadata": {},
   "source": [
    "26 Quoting Strings with Single Quotes\n",
    "\n",
    "String values in JavaScript may be written with single or double quotes, as long as you start and end with the same type of quote. Unlike some other programming languages, single and double quotes work the same in JavaScript."
   ]
  },
  {
   "cell_type": "code",
   "execution_count": null,
   "metadata": {},
   "outputs": [],
   "source": [
    "const doubleQuoteStr = \"This is a string\"; \n",
    "const singleQuoteStr = 'This is also a string';"
   ]
  },
  {
   "cell_type": "markdown",
   "metadata": {},
   "source": [
    "The reason why you might want to use one type of quote over the other is if you want to use both in a string. This might happen if you want to save a conversation in a string and have the conversation in quotes. Another use for it would be saving an < a > tag with various attributes in quotes, all within a string."
   ]
  },
  {
   "cell_type": "code",
   "execution_count": null,
   "metadata": {},
   "outputs": [],
   "source": [
    "const conversation = 'Finn exclaims to Jake, \"Algebraic!\"';"
   ]
  },
  {
   "cell_type": "markdown",
   "metadata": {},
   "source": [
    "However, this becomes a problem if you need to use the outermost quotes within it. Remember, a string has the same kind of quote at the beginning and end. But if you have that same quote somewhere in the middle, the string will stop early and throw an error."
   ]
  },
  {
   "cell_type": "code",
   "execution_count": null,
   "metadata": {},
   "outputs": [],
   "source": [
    "const goodStr = 'Jake asks Finn, \"Hey, let\\'s go on an adventure?\"'; \n",
    "// const badStr = 'Finn responds, \"Let's go!\"';"
   ]
  },
  {
   "cell_type": "markdown",
   "metadata": {},
   "source": [
    "Here badStr will throw an error.\n",
    "\n",
    "In the goodStr above, you can use both quotes safely by using the backslash \\ as an escape character.\n",
    "\n",
    "Note: The backslash \\ should not be confused with the forward slash /. They do not do the same thing.\n",
    "\n",
    "Change the provided string to a string with single quotes at the beginning and end and no escape characters.\n",
    "\n",
    "Right now, the < a > tag in the string uses double quotes everywhere. You will need to change the outer quotes to single quotes so you can remove the escape characters."
   ]
  },
  {
   "cell_type": "code",
   "execution_count": null,
   "metadata": {},
   "outputs": [],
   "source": [
    "const myStr = \"<a href=\\\"http://www.example.com\\\" target=\\\"_blank\\\">Link</a>\";"
   ]
  },
  {
   "cell_type": "code",
   "execution_count": null,
   "metadata": {},
   "outputs": [],
   "source": [
    "const myStr = '<a href=\"http://www.example.com\" target=\"_blank\">Link</a>';"
   ]
  },
  {
   "cell_type": "markdown",
   "metadata": {},
   "source": [
    "27 Quotes are not the only characters that can be escaped inside a string. There are two reasons to use escaping characters:\n",
    "\n",
    "To allow you to use characters you may not otherwise be able to type out, such as a carriage return.\n",
    "To allow you to represent multiple quotes in a string without JavaScript misinterpreting what you mean.\n",
    "We learned this in the previous challenge.\n",
    "\n",
    "Code\tOutput\n",
    "\\'\tsingle quote\n",
    "\\\"\tdouble quote\n",
    "\\ \\\tbackslash\n",
    "\\n\tnewline\n",
    "\\r\tcarriage return\n",
    "\\t\ttab\n",
    "\\b\tword boundary\n",
    "\\f\tform feed\n",
    "\n",
    "Note that the backslash itself must be escaped in order to display as a backslash.\n",
    "\n",
    "Assign the following three lines of text into the single variable myStr using escape sequences.\n",
    "\n",
    "\n",
    "<!-- FirstLine\n",
    "\n",
    "    \\SecondLine\n",
    "\n",
    "ThirdLine -->\n",
    "\n",
    "You will need to use escape sequences to insert special characters correctly. You will also need to follow the spacing as it looks above, with no spaces between escape sequences or words.\n",
    "\n",
    "Note: The indentation for SecondLine is achieved with the tab escape character, not spaces."
   ]
  },
  {
   "cell_type": "code",
   "execution_count": null,
   "metadata": {},
   "outputs": [],
   "source": [
    "const myStr = \"\"; // Change this line"
   ]
  },
  {
   "cell_type": "code",
   "execution_count": null,
   "metadata": {},
   "outputs": [],
   "source": [
    "const myStr = \"FirstLine\\n\\t\\\\SecondLine\\nThirdLine\"; // Change this line"
   ]
  },
  {
   "cell_type": "markdown",
   "metadata": {},
   "source": [
    "28 Concatenating Strings with Plus Operator\n",
    "\n",
    "In JavaScript, when the + operator is used with a String value, it is called the concatenation operator. You can build a new string out of other strings by concatenating them together.\n",
    "\n",
    "Example"
   ]
  },
  {
   "cell_type": "code",
   "execution_count": null,
   "metadata": {},
   "outputs": [],
   "source": [
    "'My name is Alan,' + ' I concatenate.'"
   ]
  },
  {
   "cell_type": "markdown",
   "metadata": {},
   "source": [
    "Note: Watch out for spaces. Concatenation does not add spaces between concatenated strings, so you'll need to add them yourself.\n",
    "\n",
    "Example:"
   ]
  },
  {
   "cell_type": "code",
   "execution_count": null,
   "metadata": {},
   "outputs": [],
   "source": [
    "const ourStr = \"I come first. \" + \"I come second.\";"
   ]
  },
  {
   "cell_type": "markdown",
   "metadata": {},
   "source": [
    "The string I come first. I come second. would be displayed in the console.\n",
    "\n",
    "Build myStr from the strings This is the start. and This is the end. using the + operator. Be sure to include a space between the two strings."
   ]
  },
  {
   "cell_type": "code",
   "execution_count": null,
   "metadata": {},
   "outputs": [],
   "source": [
    "const myStr = \"\"; // Change this line"
   ]
  },
  {
   "cell_type": "code",
   "execution_count": null,
   "metadata": {},
   "outputs": [],
   "source": [
    "const myStr = \"This is the start. \" + \"This is the end.\"; // Change this line"
   ]
  },
  {
   "cell_type": "markdown",
   "metadata": {},
   "source": [
    "29 Concatenating Strings with the Plus Equals Operator\n",
    "\n",
    "We can also use the += operator to concatenate a string onto the end of an existing string variable. This can be very helpful to break a long string over several lines.\n",
    "\n",
    "Note: Watch out for spaces. Concatenation does not add spaces between concatenated strings, so you'll need to add them yourself.\n",
    "\n",
    "Example:"
   ]
  },
  {
   "cell_type": "code",
   "execution_count": null,
   "metadata": {},
   "outputs": [],
   "source": [
    "let ourStr = \"I come first. \";\n",
    "ourStr += \"I come second.\";"
   ]
  },
  {
   "cell_type": "markdown",
   "metadata": {},
   "source": [
    "ourStr now has a value of the string I come first. I come second..\n",
    "\n",
    "Build myStr over several lines by concatenating these two strings: This is the first sentence. and This is the second sentence. using the += operator. Use the += operator similar to how it is shown in the example and be sure to include a space between the two strings. Start by assigning the first string to myStr, then add on the second string."
   ]
  },
  {
   "cell_type": "code",
   "execution_count": null,
   "metadata": {},
   "outputs": [],
   "source": [
    "let myStr;"
   ]
  },
  {
   "cell_type": "code",
   "execution_count": null,
   "metadata": {},
   "outputs": [],
   "source": [
    "let myStr = \"This is the first sentence. \";\n",
    "myStr += \"This is the second sentence.\""
   ]
  },
  {
   "cell_type": "markdown",
   "metadata": {},
   "source": [
    "30 Constructing Strings with Variables\n",
    "\n",
    "Sometimes you will need to build a string. By using the concatenation operator (+), you can insert one or more variables into a string you're building.\n",
    "\n",
    "Example:"
   ]
  },
  {
   "cell_type": "code",
   "execution_count": null,
   "metadata": {},
   "outputs": [],
   "source": [
    "const ourName = \"freeCodeCamp\";\n",
    "const ourStr = \"Hello, our name is \" + ourName + \", how are you?\";"
   ]
  },
  {
   "cell_type": "markdown",
   "metadata": {},
   "source": [
    "ourStr would have a value of the string Hello, our name is freeCodeCamp, how are you?.\n",
    "\n",
    "Set myName to a string equal to your name and build myStr with myName between the strings My name is and and I am well!"
   ]
  },
  {
   "cell_type": "code",
   "execution_count": null,
   "metadata": {},
   "outputs": [],
   "source": [
    "// Only change code below this line\n",
    "const myName = \"\";\n",
    "const myStr = \"\";"
   ]
  },
  {
   "cell_type": "code",
   "execution_count": null,
   "metadata": {},
   "outputs": [],
   "source": [
    "// Only change code below this line\n",
    "const myName = \"Justin Van Fleet\";\n",
    "const myStr = \"My name is \" + myName + \"I am well!\";"
   ]
  },
  {
   "cell_type": "markdown",
   "metadata": {},
   "source": [
    "31 Appending Variables to Strings\n",
    "\n",
    "Just as we can build a string over multiple lines out of string literals, we can also append variables to a string using the plus equals (+=) operator.\n",
    "\n",
    "Example:"
   ]
  },
  {
   "cell_type": "code",
   "execution_count": null,
   "metadata": {},
   "outputs": [],
   "source": [
    "const anAdjective = \"awesome!\";\n",
    "let ourStr = \"freeCodeCamp is \";\n",
    "ourStr += anAdjective;"
   ]
  },
  {
   "cell_type": "markdown",
   "metadata": {},
   "source": [
    "ourStr would have the value freeCodeCamp is awesome!.\n",
    "\n",
    "Set someAdjective to a string of at least 3 characters and append it to myStr using the += operator."
   ]
  },
  {
   "cell_type": "code",
   "execution_count": null,
   "metadata": {},
   "outputs": [],
   "source": [
    "// Change code below this line\n",
    "const someAdjective = \"\";\n",
    "let myStr = \"Learning to code is \";"
   ]
  },
  {
   "cell_type": "code",
   "execution_count": null,
   "metadata": {},
   "outputs": [],
   "source": [
    "// Change code below this line\n",
    "const someAdjective = \"good\";\n",
    "let myStr = \"Learning to code is \";\n",
    "myStr += someAdjective;"
   ]
  },
  {
   "cell_type": "markdown",
   "metadata": {},
   "source": [
    "32 Find the Length of a String\n",
    "\n",
    "You can find the length of a String value by writing .length after the string variable or string literal."
   ]
  },
  {
   "cell_type": "code",
   "execution_count": null,
   "metadata": {},
   "outputs": [],
   "source": [
    "console.log(\"Alan Peter\".length);"
   ]
  },
  {
   "cell_type": "markdown",
   "metadata": {},
   "source": [
    "\n",
    "The value 10 would be displayed in the console. Note that the space character between \"Alan\" and \"Peter\" is also counted.\n",
    "\n",
    "For example, if we created a variable const firstName = \"Ada\", we could find out how long the string Ada is by using the firstName.length property.\n",
    "\n",
    "Use the .length property to set lastNameLength to the number of characters in lastName."
   ]
  },
  {
   "cell_type": "code",
   "execution_count": null,
   "metadata": {},
   "outputs": [],
   "source": [
    "// Setup\n",
    "let lastNameLength = 0;\n",
    "const lastName = \"Lovelace\";\n",
    "\n",
    "// Only change code below this line\n",
    "lastNameLength = lastName;"
   ]
  },
  {
   "cell_type": "code",
   "execution_count": null,
   "metadata": {},
   "outputs": [],
   "source": [
    "// Setup\n",
    "let lastNameLength = 0;\n",
    "const lastName = \"Lovelace\";\n",
    "\n",
    "// Only change code below this line\n",
    "lastNameLength = lastName.length;"
   ]
  },
  {
   "cell_type": "markdown",
   "metadata": {},
   "source": [
    "33 Use Bracket Notation to Find the First Character in a String\n",
    "\n",
    "Bracket notation is a way to get a character at a specific index within a string.\n",
    "\n",
    "Most modern programming languages, like JavaScript, don't start counting at 1 like humans do. They start at 0. This is referred to as Zero-based indexing.\n",
    "\n",
    "For example, the character at index 0 in the word Charles is C. So if const firstName = \"Charles\", you can get the value of the first letter of the string by using firstName[0].\n",
    "\n",
    "Example:"
   ]
  },
  {
   "cell_type": "code",
   "execution_count": null,
   "metadata": {},
   "outputs": [],
   "source": [
    "const firstName = \"Charles\";\n",
    "const firstLetter = firstName[0];"
   ]
  },
  {
   "cell_type": "markdown",
   "metadata": {},
   "source": [
    "firstLetter would have a value of the string C.\n",
    "\n",
    "Use bracket notation to find the first character in the lastName variable and assign it to firstLetterOfLastName.\n",
    "\n",
    "Hint: Try looking at the example above if you get stuck."
   ]
  },
  {
   "cell_type": "code",
   "execution_count": null,
   "metadata": {},
   "outputs": [],
   "source": [
    "// Setup\n",
    "let firstLetterOfLastName = \"\";\n",
    "const lastName = \"Lovelace\";\n",
    "\n",
    "// Only change code below this line\n",
    "firstLetterOfLastName = lastName; // Change this line"
   ]
  },
  {
   "cell_type": "code",
   "execution_count": null,
   "metadata": {},
   "outputs": [],
   "source": [
    "// Setup\n",
    "let firstLetterOfLastName = \"\";\n",
    "const lastName = \"Lovelace\";\n",
    "\n",
    "// Only change code below this line\n",
    "firstLetterOfLastName = lastName[0]; // Change this line"
   ]
  },
  {
   "cell_type": "markdown",
   "metadata": {},
   "source": [
    "34 Understand String Immutability\n",
    "\n",
    "In JavaScript, String values are immutable, which means that they cannot be altered once created.\n",
    "\n",
    "For example, the following code:"
   ]
  },
  {
   "cell_type": "code",
   "execution_count": null,
   "metadata": {},
   "outputs": [],
   "source": [
    "let myStr = \"Bob\";\n",
    "myStr[0] = \"J\";"
   ]
  },
  {
   "cell_type": "markdown",
   "metadata": {},
   "source": [
    "cannot change the value of myStr to Job, because the contents of myStr cannot be altered. Note that this does not mean that myStr cannot be changed, just that the individual characters of a string literal cannot be changed. The only way to change myStr would be to assign it with a new string, like this:"
   ]
  },
  {
   "cell_type": "code",
   "execution_count": null,
   "metadata": {},
   "outputs": [],
   "source": [
    "let myStr = \"Bob\";\n",
    "myStr = \"Job\";"
   ]
  },
  {
   "cell_type": "markdown",
   "metadata": {},
   "source": [
    "Correct the assignment to myStr so it contains the string value of Hello World using the approach shown in the example above."
   ]
  },
  {
   "cell_type": "code",
   "execution_count": null,
   "metadata": {},
   "outputs": [],
   "source": [
    "// Setup\n",
    "let myStr = \"Jello World\";\n",
    "\n",
    "// Only change code below this line\n",
    "myStr[0] = \"H\"; // Change this line\n",
    "// Only change code above this line"
   ]
  },
  {
   "cell_type": "code",
   "execution_count": null,
   "metadata": {},
   "outputs": [],
   "source": [
    "// Setup\n",
    "let myStr = \"Jello World\";\n",
    "\n",
    "// Only change code below this line\n",
    "myStr = \"Hello World\"; // Change this line\n",
    "// Only change code above this line"
   ]
  },
  {
   "cell_type": "markdown",
   "metadata": {},
   "source": [
    "35 Use Bracket Notation to Find the Nth Character in a String\n",
    "\n",
    "You can also use bracket notation to get the character at other positions within a string.\n",
    "\n",
    "Remember that computers start counting at 0, so the first character is actually the zeroth character.\n",
    "\n",
    "Example:"
   ]
  },
  {
   "cell_type": "code",
   "execution_count": null,
   "metadata": {},
   "outputs": [],
   "source": [
    "const firstName = \"Ada\";\n",
    "const secondLetterOfFirstName = firstName[1];"
   ]
  },
  {
   "cell_type": "markdown",
   "metadata": {},
   "source": [
    "secondLetterOfFirstName would have a value of the string d.\n",
    "\n",
    "Let's try to set thirdLetterOfLastName to equal the third letter of the lastName variable using bracket notation.\n",
    "\n",
    "Hint: Try looking at the example above if you get stuck."
   ]
  },
  {
   "cell_type": "code",
   "execution_count": null,
   "metadata": {},
   "outputs": [],
   "source": [
    "// Setup\n",
    "const lastName = \"Lovelace\";\n",
    "\n",
    "// Only change code below this line\n",
    "const thirdLetterOfLastName = lastName; // Change this line"
   ]
  },
  {
   "cell_type": "code",
   "execution_count": null,
   "metadata": {},
   "outputs": [],
   "source": [
    "// Setup\n",
    "const lastName = \"Lovelace\";\n",
    "\n",
    "// Only change code below this line\n",
    "const thirdLetterOfLastName = lastName[2]; // Change this line"
   ]
  },
  {
   "cell_type": "markdown",
   "metadata": {},
   "source": [
    "36 Use Bracket Notation to Find the Last Character in a String\n",
    "\n",
    "In order to get the last letter of a string, you can subtract one from the string's length.\n",
    "\n",
    "For example, if const firstName = \"Ada\", you can get the value of the last letter of the string by using firstName[firstName.length - 1].\n",
    "\n",
    "Example:\n",
    "\n"
   ]
  },
  {
   "cell_type": "code",
   "execution_count": null,
   "metadata": {},
   "outputs": [],
   "source": [
    "const firstName = \"Ada\";\n",
    "const lastLetter = firstName[firstName.length - 1];"
   ]
  },
  {
   "cell_type": "markdown",
   "metadata": {},
   "source": [
    "lastLetter would have a value of the string a.\n",
    "\n",
    "Use bracket notation to find the last character in the lastName variable.\n",
    "\n",
    "Hint: Try looking at the example above if you get stuck."
   ]
  },
  {
   "cell_type": "code",
   "execution_count": null,
   "metadata": {},
   "outputs": [],
   "source": [
    "// Setup\n",
    "const lastName = \"Lovelace\";\n",
    "\n",
    "// Only change code below this line\n",
    "const lastLetterOfLastName = lastName; // Change this line"
   ]
  },
  {
   "cell_type": "code",
   "execution_count": null,
   "metadata": {},
   "outputs": [],
   "source": [
    "// Setup\n",
    "const lastName = \"Lovelace\";\n",
    "\n",
    "// Only change code below this line\n",
    "const lastLetterOfLastName = lastName[lastName.length - 1]; // Change this line"
   ]
  },
  {
   "cell_type": "markdown",
   "metadata": {},
   "source": [
    "37 Use Bracket Notation to Find the Nth-to-Last Character in a String\n",
    "\n",
    "You can use the same principle we just used to retrieve the last character in a string to retrieve the Nth-to-last character.\n",
    "\n",
    "For example, you can get the value of the third-to-last letter of the const firstName = \"Augusta\" string by using firstName[firstName.length - 3]\n",
    "\n",
    "Example:"
   ]
  },
  {
   "cell_type": "code",
   "execution_count": null,
   "metadata": {},
   "outputs": [],
   "source": [
    "const firstName = \"Augusta\";\n",
    "const thirdToLastLetter = firstName[firstName.length - 3];"
   ]
  },
  {
   "cell_type": "markdown",
   "metadata": {},
   "source": [
    "thirdToLastLetter would have a value of the string s.\n",
    "\n",
    "Use bracket notation to find the second-to-last character in the lastName string.\n",
    "\n",
    "Hint: Try looking at the example above if you get stuck."
   ]
  },
  {
   "cell_type": "code",
   "execution_count": null,
   "metadata": {},
   "outputs": [],
   "source": [
    "// Setup\n",
    "const lastName = \"Lovelace\";\n",
    "\n",
    "// Only change code below this line\n",
    "const secondToLastLetterOfLastName = lastName; // Change this line"
   ]
  },
  {
   "cell_type": "code",
   "execution_count": null,
   "metadata": {},
   "outputs": [],
   "source": [
    "// Setup\n",
    "const lastName = \"Lovelace\";\n",
    "\n",
    "// Only change code below this line\n",
    "const secondToLastLetterOfLastName = lastName[lastName.length - 2]; // Change this line"
   ]
  },
  {
   "cell_type": "markdown",
   "metadata": {},
   "source": [
    "38 Word Blanks \n",
    "\n",
    "You are provided sentences with some missing words, like nouns, verbs, adjectives and adverbs. You then fill in the missing pieces with words of your choice in a way that the completed sentence makes sense.\n",
    "\n",
    "Consider this sentence - It was really ____, and we ____ ourselves ____. This sentence has three missing pieces- an adjective, a verb and an adverb, and we can add words of our choice to complete it. We can then assign the completed sentence to a variable as follows:"
   ]
  },
  {
   "cell_type": "code",
   "execution_count": null,
   "metadata": {},
   "outputs": [],
   "source": [
    "const sentence = \"It was really \" + \"hot\" + \", and we \" + \"laughed\" + \" ourselves \" + \"silly\" + \".\";"
   ]
  },
  {
   "cell_type": "markdown",
   "metadata": {},
   "source": [
    "In this challenge, we provide you with a noun, a verb, an adjective and an adverb. You need to form a complete sentence using words of your choice, along with the words we provide.\n",
    "\n",
    "You will need to use the string concatenation operator + to build a new string, using the provided variables: myNoun, myAdjective, myVerb, and myAdverb. You will then assign the formed string to the wordBlanks variable. You should not change the words assigned to the variables.\n",
    "\n",
    "You will also need to account for spaces in your string, so that the final sentence has spaces between all the words. The result should be a complete sentence."
   ]
  },
  {
   "cell_type": "code",
   "execution_count": null,
   "metadata": {},
   "outputs": [],
   "source": [
    "const myNoun = \"dog\";\n",
    "const myAdjective = \"big\";\n",
    "const myVerb = \"ran\";\n",
    "const myAdverb = \"quickly\";\n",
    "\n",
    "// Only change code below this line\n",
    "const wordBlanks = \"\"; // Change this line\n",
    "// Only change code above this line"
   ]
  },
  {
   "cell_type": "code",
   "execution_count": null,
   "metadata": {},
   "outputs": [],
   "source": [
    "const myNoun = \"dog\";\n",
    "const myAdjective = \"big\";\n",
    "const myVerb = \"ran\";\n",
    "const myAdverb = \"quickly\";\n",
    "\n",
    "// Only change code below this line\n",
    "const wordBlanks = \"My \" + myAdjective + \" \" + myNoun + \" \" + myVerb + \" very \" + myAdverb + \".\"; // Change this line\n",
    "// Only change code above this line\n",
    "\n",
    "console.log(wordBlanks)"
   ]
  },
  {
   "cell_type": "markdown",
   "metadata": {},
   "source": [
    "39 Store Multiple Values in one Variable using JavaScript Arrays\n",
    "\n",
    "With JavaScript array variables, we can store several pieces of data in one place.\n",
    "\n",
    "You start an array declaration with an opening square bracket, end it with a closing square bracket, and put a comma between each entry, like this:"
   ]
  },
  {
   "cell_type": "code",
   "execution_count": null,
   "metadata": {},
   "outputs": [],
   "source": [
    "const sandwich = [\"peanut butter\", \"jelly\", \"bread\"];"
   ]
  },
  {
   "cell_type": "markdown",
   "metadata": {},
   "source": [
    "Modify the new array myArray so that it contains both a string and a number (in that order)."
   ]
  },
  {
   "cell_type": "code",
   "execution_count": null,
   "metadata": {},
   "outputs": [],
   "source": [
    "// Only change code below this line\n",
    "const myArray = [];"
   ]
  },
  {
   "cell_type": "code",
   "execution_count": null,
   "metadata": {},
   "outputs": [],
   "source": [
    "// Only change code below this line\n",
    "const myArray = [\"string\", 6];"
   ]
  },
  {
   "cell_type": "markdown",
   "metadata": {},
   "source": [
    "40 Nest one Array within Another Array\n",
    "\n",
    "You can also nest arrays within other arrays, like below:"
   ]
  },
  {
   "cell_type": "code",
   "execution_count": null,
   "metadata": {},
   "outputs": [],
   "source": [
    "const teams = [[\"Bulls\", 23], [\"White Sox\", 45]];"
   ]
  },
  {
   "cell_type": "markdown",
   "metadata": {},
   "source": [
    "\n",
    "This is also called a multi-dimensional array.\n",
    "\n",
    "Create a nested array called myArray."
   ]
  },
  {
   "cell_type": "code",
   "execution_count": null,
   "metadata": {},
   "outputs": [],
   "source": [
    "// Only change code below this line\n",
    "const myArray = [];"
   ]
  },
  {
   "cell_type": "code",
   "execution_count": null,
   "metadata": {},
   "outputs": [],
   "source": [
    "// Only change code below this line\n",
    "const myArray = [[\"string1\", \"string2\"], [\"string 3\", 3]];"
   ]
  },
  {
   "cell_type": "markdown",
   "metadata": {},
   "source": [
    "41 Access Array Data with Indexes\n",
    "\n",
    "We can access the data inside arrays using indexes.\n",
    "\n",
    "Array indexes are written in the same bracket notation that strings use, except that instead of specifying a character, they are specifying an entry in the array. Like strings, arrays use zero-based indexing, so the first element in an array has an index of 0.\n",
    "\n",
    "Example"
   ]
  },
  {
   "cell_type": "code",
   "execution_count": null,
   "metadata": {},
   "outputs": [],
   "source": [
    "const array = [50, 60, 70];\n",
    "console.log(array[0]);\n",
    "const data = array[1];"
   ]
  },
  {
   "cell_type": "markdown",
   "metadata": {},
   "source": [
    "\n",
    "The console.log(array[ 0 ]) prints 50, and data has the value 60.\n",
    "\n",
    "Create a variable called myData and set it to equal the first value of myArray using bracket notation."
   ]
  },
  {
   "cell_type": "code",
   "execution_count": null,
   "metadata": {},
   "outputs": [],
   "source": [
    "const myArray = [50, 60, 70];"
   ]
  },
  {
   "cell_type": "code",
   "execution_count": null,
   "metadata": {},
   "outputs": [],
   "source": [
    "const myArray = [50, 60, 70];\n",
    "\n",
    "let myData = myArray[0];"
   ]
  },
  {
   "cell_type": "markdown",
   "metadata": {},
   "source": [
    "42 Modify Array Data With Indexes\n",
    "\n",
    "Unlike strings, the entries of arrays are mutable and can be changed freely, even if the array was declared with const.\n",
    "\n",
    "Example"
   ]
  },
  {
   "cell_type": "code",
   "execution_count": null,
   "metadata": {},
   "outputs": [],
   "source": [
    "const ourArray = [50, 40, 30];\n",
    "ourArray[0] = 15;"
   ]
  },
  {
   "cell_type": "markdown",
   "metadata": {},
   "source": [
    "ourArray now has the value [15, 40, 30].\n",
    "\n",
    "Note: There shouldn't be any spaces between the array name and the square brackets, like array [0]. Although JavaScript is able to process this correctly, this may confuse other programmers reading your code.\n",
    "\n",
    "Modify the data stored at index 0 of myArray to a value of 45."
   ]
  },
  {
   "cell_type": "code",
   "execution_count": null,
   "metadata": {},
   "outputs": [],
   "source": [
    "// Setup\n",
    "const myArray = [18, 64, 99];\n",
    "\n",
    "// Only change code below this line\n"
   ]
  },
  {
   "cell_type": "code",
   "execution_count": null,
   "metadata": {},
   "outputs": [],
   "source": [
    "// Setup\n",
    "const myArray = [18, 64, 99];\n",
    "\n",
    "// Only change code below this line\n",
    "myArray[0] = 45;"
   ]
  },
  {
   "cell_type": "markdown",
   "metadata": {},
   "source": [
    "43 Access Multi-Dimensional Arrays With Indexes\n",
    "\n",
    "One way to think of a multi-dimensional array, is as an array of arrays. When you use brackets to access your array, the first set of brackets refers to the entries in the outer-most (the first level) array, and each additional pair of brackets refers to the next level of entries inside.\n",
    "\n",
    "Example"
   ]
  },
  {
   "cell_type": "code",
   "execution_count": null,
   "metadata": {},
   "outputs": [],
   "source": [
    "const arr = [\n",
    "    [1, 2, 3],\n",
    "    [4, 5, 6],\n",
    "    [7, 8, 9],\n",
    "    [[10, 11, 12], 13, 14]\n",
    "  ];\n",
    "  \n",
    "  arr[3];\n",
    "  arr[3][0];\n",
    "  arr[3][0][1];"
   ]
  },
  {
   "cell_type": "markdown",
   "metadata": {},
   "source": [
    "arr[ 3 ] is [[10, 11, 12], 13, 14], arr[ 3 ][0] is [10, 11, 12], and arr[ 3 ][0][1] is 11.\n",
    "\n",
    "Note: There shouldn't be any spaces between the array name and the square brackets, like array [ 0 ][0] and even this array [ 0 ] [ 0 ] is not allowed. Although JavaScript is able to process this correctly, this may confuse other programmers reading your code.\n",
    "\n",
    "Using bracket notation select an element from myArray such that myData is equal to 8."
   ]
  },
  {
   "cell_type": "code",
   "execution_count": null,
   "metadata": {},
   "outputs": [],
   "source": [
    "const myArray = [\n",
    "    [1, 2, 3],\n",
    "    [4, 5, 6],\n",
    "    [7, 8, 9],\n",
    "    [[10, 11, 12], 13, 14],\n",
    "  ];\n",
    "  \n",
    "  const myData = myArray[0][0];"
   ]
  },
  {
   "cell_type": "code",
   "execution_count": null,
   "metadata": {},
   "outputs": [],
   "source": [
    "const myArray = [\n",
    "    [1, 2, 3],\n",
    "    [4, 5, 6],\n",
    "    [7, 8, 9],\n",
    "    [[10, 11, 12], 13, 14],\n",
    "  ];\n",
    "  \n",
    "  const myData = myArray[2][1];"
   ]
  },
  {
   "cell_type": "markdown",
   "metadata": {},
   "source": [
    "44 Manipulate Arrays With push()\n",
    "\n",
    "An easy way to append data to the end of an array is via the push() function.\n",
    "\n",
    ".push() takes one or more parameters and \"pushes\" them onto the end of the array.\n",
    "\n",
    "Examples:"
   ]
  },
  {
   "cell_type": "code",
   "execution_count": null,
   "metadata": {},
   "outputs": [],
   "source": [
    "const arr1 = [1, 2, 3];\n",
    "arr1.push(4);\n",
    "\n",
    "const arr2 = [\"Stimpson\", \"J\", \"cat\"];\n",
    "arr2.push([\"happy\", \"joy\"]);"
   ]
  },
  {
   "cell_type": "markdown",
   "metadata": {},
   "source": [
    "arr1 now has the value [1, 2, 3, 4] and arr2 has the value [\"Stimpson\", \"J\", \"cat\", [\"happy\", \"joy\"]].\n",
    "\n",
    "Push [\"dog\", 3] onto the end of the myArray variable."
   ]
  },
  {
   "cell_type": "code",
   "execution_count": null,
   "metadata": {},
   "outputs": [],
   "source": [
    "// Setup\n",
    "const myArray = [[\"John\", 23], [\"cat\", 2]];\n",
    "\n",
    "// Only change code below this line\n"
   ]
  },
  {
   "cell_type": "code",
   "execution_count": null,
   "metadata": {},
   "outputs": [],
   "source": [
    "// Setup\n",
    "const myArray = [[\"John\", 23], [\"cat\", 2]];\n",
    "\n",
    "// Only change code below this line\n",
    "myArray.push([\"dog\", 3]);"
   ]
  },
  {
   "cell_type": "markdown",
   "metadata": {},
   "source": [
    "45 Manipulate Arrays With pop()\n",
    "\n",
    "Another way to change the data in an array is with the .pop() function.\n",
    "\n",
    ".pop() is used to pop a value off of the end of an array. We can store this popped off value by assigning it to a variable. In other words, .pop() removes the last element from an array and returns that element.\n",
    "\n",
    "Any type of entry can be popped off of an array - numbers, strings, even nested arrays."
   ]
  },
  {
   "cell_type": "code",
   "execution_count": null,
   "metadata": {},
   "outputs": [],
   "source": [
    "const threeArr = [1, 4, 6];\n",
    "const oneDown = threeArr.pop();\n",
    "console.log(oneDown);\n",
    "console.log(threeArr);"
   ]
  },
  {
   "cell_type": "markdown",
   "metadata": {},
   "source": [
    "The first console.log will display the value 6, and the second will display the value [1, 4].\n",
    "\n",
    "Use the .pop() function to remove the last item from myArray and assign the popped off value to a new variable, removedFromMyArray."
   ]
  },
  {
   "cell_type": "code",
   "execution_count": null,
   "metadata": {},
   "outputs": [],
   "source": [
    "// Setup\n",
    "const myArray = [[\"John\", 23], [\"cat\", 2]];\n",
    "\n",
    "// Only change code below this line\n"
   ]
  },
  {
   "cell_type": "code",
   "execution_count": null,
   "metadata": {},
   "outputs": [],
   "source": [
    "// Setup\n",
    "const myArray = [[\"John\", 23], [\"cat\", 2]];\n",
    "\n",
    "// Only change code below this line\n",
    "\n",
    "let removedFromMyArray = myArray.pop();"
   ]
  },
  {
   "cell_type": "markdown",
   "metadata": {},
   "source": [
    "46 Manipulate Arrays With shift()\n",
    "\n",
    "pop() always removes the last element of an array. What if you want to remove the first?\n",
    "\n",
    "That's where .shift() comes in. It works just like .pop(), except it removes the first element instead of the last.\n",
    "\n",
    "Example:"
   ]
  },
  {
   "cell_type": "code",
   "execution_count": null,
   "metadata": {},
   "outputs": [],
   "source": [
    "const ourArray = [\"Stimpson\", \"J\", [\"cat\"]];\n",
    "const removedFromOurArray = ourArray.shift();"
   ]
  },
  {
   "cell_type": "markdown",
   "metadata": {},
   "source": [
    "removedFromOurArray would have a value of the string Stimpson, and ourArray would have [\"J\", [\"cat\"]].\n",
    "\n",
    "Use the .shift() function to remove the first item from myArray and assign the \"shifted off\" value to a new variable, removedFromMyArray."
   ]
  },
  {
   "cell_type": "code",
   "execution_count": null,
   "metadata": {},
   "outputs": [],
   "source": [
    "// Setup\n",
    "const myArray = [[\"John\", 23], [\"dog\", 3]];\n",
    "\n",
    "// Only change code below this line\n"
   ]
  },
  {
   "cell_type": "code",
   "execution_count": null,
   "metadata": {},
   "outputs": [],
   "source": [
    "// Setup\n",
    "const myArray = [[\"John\", 23], [\"dog\", 3]];\n",
    "\n",
    "// Only change code below this line\n",
    "let removedFromMyArray = myArray.shift();"
   ]
  },
  {
   "cell_type": "markdown",
   "metadata": {},
   "source": [
    "47 Manipulate Arrays With unshift()\n",
    "\n",
    "Not only can you shift elements off of the beginning of an array, you can also unshift elements to the beginning of an array i.e. add elements in front of the array.\n",
    "\n",
    ".unshift() works exactly like .push(), but instead of adding the element at the end of the array, unshift() adds the element at the beginning of the array.\n",
    "\n",
    "Example:"
   ]
  },
  {
   "cell_type": "code",
   "execution_count": null,
   "metadata": {},
   "outputs": [],
   "source": [
    "const ourArray = [\"Stimpson\", \"J\", \"cat\"];\n",
    "ourArray.shift();\n",
    "ourArray.unshift(\"Happy\");"
   ]
  },
  {
   "cell_type": "markdown",
   "metadata": {},
   "source": [
    "After the shift, ourArray would have the value [\"J\", \"cat\"]. After the unshift, ourArray would have the value [\"Happy\", \"J\", \"cat\"].\n",
    "\n",
    "Add [\"Paul\", 35] to the beginning of the myArray variable using unshift()"
   ]
  },
  {
   "cell_type": "code",
   "execution_count": null,
   "metadata": {},
   "outputs": [],
   "source": [
    "// Setup\n",
    "const myArray = [[\"John\", 23], [\"dog\", 3]];\n",
    "myArray.shift();\n",
    "\n",
    "// Only change code below this line"
   ]
  },
  {
   "cell_type": "code",
   "execution_count": null,
   "metadata": {},
   "outputs": [],
   "source": [
    "// Setup\n",
    "const myArray = [[\"John\", 23], [\"dog\", 3]];\n",
    "myArray.shift();\n",
    "\n",
    "// Only change code below this line\n",
    "myArray.unshift([\"Paul\", 35]);"
   ]
  },
  {
   "cell_type": "markdown",
   "metadata": {},
   "source": [
    "48 Shopping List\n",
    "\n",
    "Create a shopping list in the variable myList. The list should be a multi-dimensional array containing several sub-arrays.\n",
    "\n",
    "The first element in each sub-array should contain a string with the name of the item. The second element should be a number representing the quantity i.e."
   ]
  },
  {
   "cell_type": "code",
   "execution_count": null,
   "metadata": {},
   "outputs": [],
   "source": [
    "[\"Chocolate Bar\", 15]"
   ]
  },
  {
   "cell_type": "markdown",
   "metadata": {},
   "source": [
    "There should be at least 5 sub-arrays in the list."
   ]
  },
  {
   "cell_type": "code",
   "execution_count": null,
   "metadata": {},
   "outputs": [],
   "source": [
    "const myList = [];"
   ]
  },
  {
   "cell_type": "code",
   "execution_count": null,
   "metadata": {},
   "outputs": [],
   "source": [
    "const myList = [\n",
    "    [\"carrots\", 2],\n",
    "    [\"beeves\", 2],\n",
    "    [\"bread\", 1],\n",
    "    [\"soup\", 1],\n",
    "    [\"monohydrogenated industrial bi-product\", 1]\n",
    "];"
   ]
  },
  {
   "cell_type": "markdown",
   "metadata": {},
   "source": [
    "49 Write Reusable JavaScript with Functions\n",
    "\n",
    "In JavaScript, we can divide up our code into reusable parts called functions.\n",
    "\n",
    "Here's an example of a function:"
   ]
  },
  {
   "cell_type": "code",
   "execution_count": null,
   "metadata": {},
   "outputs": [],
   "source": [
    "function functionName() {\n",
    "    console.log(\"Hello World\");\n",
    "  }"
   ]
  },
  {
   "cell_type": "markdown",
   "metadata": {},
   "source": [
    "You can call or invoke this function by using its name followed by parentheses, like this: functionName(); Each time the function is called it will print out the message Hello World on the dev console. All of the code between the curly braces will be executed every time the function is called.\n",
    "\n",
    "Create a function called reusableFunction which prints the string Hi World to the dev console.\n",
    "Call the function."
   ]
  },
  {
   "cell_type": "code",
   "execution_count": null,
   "metadata": {},
   "outputs": [],
   "source": [
    "function reusableFunction() {\n",
    "    console.log(\"Hi World\");\n",
    "}\n",
    "\n",
    "reusableFunction()"
   ]
  },
  {
   "cell_type": "markdown",
   "metadata": {},
   "source": [
    "50 Passing Values to Functions with Arguments\n",
    "\n",
    "Parameters are variables that act as placeholders for the values that are to be input to a function when it is called. When a function is defined, it is typically defined along with one or more parameters. The actual values that are input (or \"passed\") into a function when it is called are known as arguments.\n",
    "\n",
    "Here is a function with two parameters, param1 and param2:"
   ]
  },
  {
   "cell_type": "code",
   "execution_count": null,
   "metadata": {},
   "outputs": [],
   "source": [
    "function testFun(param1, param2) {\n",
    "    console.log(param1, param2);\n",
    "  }"
   ]
  },
  {
   "cell_type": "markdown",
   "metadata": {},
   "source": [
    "Then we can call testFun like this: testFun(\"Hello\", \"World\");. We have passed two string arguments, Hello and World. Inside the function, param1 will equal the string Hello and param2 will equal the string World. Note that you could call testFun again with different arguments and the parameters would take on the value of the new arguments.\n",
    "\n",
    "Create a function called functionWithArgs that accepts two arguments and outputs their sum to the dev console.\n",
    "Call the function with two numbers as arguments."
   ]
  },
  {
   "cell_type": "code",
   "execution_count": null,
   "metadata": {},
   "outputs": [],
   "source": [
    "function functionWithArgs(param1, param2) {\n",
    "    console.log(param1 + param2);\n",
    "}\n",
    "\n",
    "functionWithArgs(3, 16);"
   ]
  },
  {
   "cell_type": "markdown",
   "metadata": {},
   "source": [
    "51 Return a Value from a Function with Return\n",
    "\n",
    "We can pass values into a function with arguments. You can use a return statement to send a value back out of a function.\n",
    "\n",
    "Example"
   ]
  },
  {
   "cell_type": "code",
   "execution_count": null,
   "metadata": {},
   "outputs": [],
   "source": [
    "function plusThree(num) {\n",
    "    return num + 3;\n",
    "  }\n",
    "  \n",
    "  const answer = plusThree(5);"
   ]
  },
  {
   "cell_type": "markdown",
   "metadata": {},
   "source": [
    "answer has the value 8.\n",
    "\n",
    "plusThree takes an argument for num and returns a value equal to num + 3.\n",
    "\n",
    "Create a function timesFive that accepts one argument, multiplies it by 5, and returns the new value."
   ]
  },
  {
   "cell_type": "code",
   "execution_count": null,
   "metadata": {},
   "outputs": [],
   "source": [
    "function timesFive(param1) {\n",
    "    return param1 * 5;\n",
    "}"
   ]
  },
  {
   "cell_type": "markdown",
   "metadata": {},
   "source": [
    "52 Global Scope and Functions\n",
    "\n",
    "In JavaScript, scope refers to the visibility of variables. Variables which are defined outside of a function block have Global scope. This means, they can be seen everywhere in your JavaScript code.\n",
    "\n",
    "Variables which are declared without the let or const keywords are automatically created in the global scope. This can create unintended consequences elsewhere in your code or when running a function again. You should always declare your variables with let or const.\n",
    "\n",
    "Using let or const, declare a global variable named myGlobal outside of any function. Initialize it with a value of 10.\n",
    "\n",
    "Inside function fun1, assign 5 to oopsGlobal without using the var, let or const keywords.\n"
   ]
  },
  {
   "cell_type": "code",
   "execution_count": null,
   "metadata": {},
   "outputs": [],
   "source": [
    "// Declare the myGlobal variable below this line\n",
    "\n",
    "function fun1() {\n",
    "  // Assign 5 to oopsGlobal Here\n",
    "  \n",
    "}\n",
    "\n",
    "// Only change code above this line\n",
    "\n",
    "function fun2() {\n",
    "  var output = \"\";\n",
    "  if (typeof myGlobal != \"undefined\") {\n",
    "    output += \"myGlobal: \" + myGlobal;\n",
    "  }\n",
    "  if (typeof oopsGlobal != \"undefined\") {\n",
    "    output += \" oopsGlobal: \" + oopsGlobal;\n",
    "  }\n",
    "  console.log(output);\n",
    "}"
   ]
  },
  {
   "cell_type": "code",
   "execution_count": null,
   "metadata": {},
   "outputs": [],
   "source": [
    "// Declare the myGlobal variable below this line\n",
    "const myGlobal = 10;\n",
    "\n",
    "function fun1() {\n",
    "  // Assign 5 to oopsGlobal Here\n",
    "  oopsGlobal = 5;\n",
    "}\n",
    "\n",
    "// Only change code above this line\n",
    "\n",
    "function fun2() {\n",
    "  var output = \"\";\n",
    "  if (typeof myGlobal != \"undefined\") {\n",
    "    output += \"myGlobal: \" + myGlobal;\n",
    "  }\n",
    "  if (typeof oopsGlobal != \"undefined\") {\n",
    "    output += \" oopsGlobal: \" + oopsGlobal;\n",
    "  }\n",
    "  console.log(output);\n",
    "}"
   ]
  },
  {
   "cell_type": "markdown",
   "metadata": {},
   "source": [
    "53 Local Scope and Functions\n",
    "\n",
    "Variables which are declared within a function, as well as the function parameters, have local scope. That means they are only visible within that function.\n",
    "\n",
    "Here is a function myTest with a local variable called loc."
   ]
  },
  {
   "cell_type": "code",
   "execution_count": null,
   "metadata": {},
   "outputs": [],
   "source": [
    "function myTest() {\n",
    "    const loc = \"foo\";\n",
    "    console.log(loc);\n",
    "  }\n",
    "  \n",
    "  myTest();\n",
    "  console.log(loc);"
   ]
  },
  {
   "cell_type": "markdown",
   "metadata": {},
   "source": [
    "The myTest() function call will display the string foo in the console. The console.log(loc) line (outside of the myTest function) will throw an error, as loc is not defined outside of the function.\n",
    "\n",
    "The editor has two console.logs to help you see what is happening. Check the console as you code to see how it changes. Declare a local variable myVar inside myLocalScope and run the tests.\n",
    "\n",
    "Note: The console will still display ReferenceError: myVar is not defined, but this will not cause the tests to fail."
   ]
  },
  {
   "cell_type": "code",
   "execution_count": null,
   "metadata": {},
   "outputs": [],
   "source": [
    "function myLocalScope() {\n",
    "    // Only change code below this line\n",
    "  \n",
    "    console.log('inside myLocalScope', myVar);\n",
    "  }\n",
    "  myLocalScope();\n",
    "  \n",
    "  // Run and check the console\n",
    "  // myVar is not defined outside of myLocalScope\n",
    "  console.log('outside myLocalScope', myVar);"
   ]
  },
  {
   "cell_type": "code",
   "execution_count": null,
   "metadata": {},
   "outputs": [],
   "source": [
    "function myLocalScope() {\n",
    "    // Only change code below this line\n",
    "    let myVar = \" i am\";\n",
    "    console.log('inside myLocalScope', myVar);\n",
    "  }\n",
    "  myLocalScope();\n",
    "  \n",
    "  // Run and check the console\n",
    "  // myVar is not defined outside of myLocalScope\n",
    "  console.log('outside myLocalScope', myVar);"
   ]
  },
  {
   "cell_type": "markdown",
   "metadata": {},
   "source": [
    "54 Global vs. Local Scope in Functions\n",
    "\n",
    "It is possible to have both local and global variables with the same name. When you do this, the local variable takes precedence over the global variable.\n",
    "\n",
    "In this example:"
   ]
  },
  {
   "cell_type": "code",
   "execution_count": null,
   "metadata": {},
   "outputs": [],
   "source": [
    "const someVar = \"Hat\";\n",
    "\n",
    "function myFun() {\n",
    "  const someVar = \"Head\";\n",
    "  return someVar;\n",
    "}"
   ]
  },
  {
   "cell_type": "markdown",
   "metadata": {},
   "source": [
    "The function myFun will return the string Head because the local version of the variable is present.\n",
    "\n",
    "Add a local variable to myOutfit function to override the value of outerWear with the string sweater."
   ]
  },
  {
   "cell_type": "code",
   "execution_count": null,
   "metadata": {},
   "outputs": [],
   "source": [
    "// Setup\n",
    "const outerWear = \"T-Shirt\";\n",
    "\n",
    "function myOutfit() {\n",
    "  // Only change code below this line\n",
    "\n",
    "  // Only change code above this line\n",
    "  return outerWear;\n",
    "}\n",
    "\n",
    "myOutfit();"
   ]
  },
  {
   "cell_type": "code",
   "execution_count": null,
   "metadata": {},
   "outputs": [],
   "source": [
    "// Setup\n",
    "const outerWear = \"T-Shirt\";\n",
    "\n",
    "function myOutfit() {\n",
    "  // Only change code below this line\n",
    "  const outerWear = \"sweater\";\n",
    "  // Only change code above this line\n",
    "  return outerWear;\n",
    "}\n",
    "\n",
    "myOutfit();"
   ]
  },
  {
   "cell_type": "markdown",
   "metadata": {},
   "source": [
    "55 Understanding Undefined Value returned from a Function\n",
    "\n",
    "A function can include the return statement but it does not have to. In the case that the function doesn't have a return statement, when you call it, the function processes the inner code but the returned value is undefined.\n",
    "\n",
    "Example"
   ]
  },
  {
   "cell_type": "code",
   "execution_count": null,
   "metadata": {},
   "outputs": [],
   "source": [
    "let sum = 0;\n",
    "\n",
    "function addSum(num) {\n",
    "  sum = sum + num;\n",
    "}\n",
    "\n",
    "addSum(3);"
   ]
  },
  {
   "cell_type": "markdown",
   "metadata": {},
   "source": [
    "addSum is a function without a return statement. The function will change the global sum variable but the returned value of the function is undefined.\n",
    "\n",
    "Create a function addFive without any arguments. This function adds 5 to the sum variable, but its returned value is undefined."
   ]
  },
  {
   "cell_type": "code",
   "execution_count": null,
   "metadata": {},
   "outputs": [],
   "source": [
    "// Setup\n",
    "let sum = 0;\n",
    "\n",
    "function addThree() {\n",
    "  sum = sum + 3;\n",
    "}\n",
    "\n",
    "// Only change code below this line\n",
    "\n",
    "\n",
    "// Only change code above this line\n",
    "\n",
    "addThree();\n",
    "addFive();"
   ]
  },
  {
   "cell_type": "code",
   "execution_count": null,
   "metadata": {},
   "outputs": [],
   "source": [
    "// Setup\n",
    "let sum = 0;\n",
    "\n",
    "function addThree() {\n",
    "  sum = sum + 3;\n",
    "}\n",
    "\n",
    "// Only change code below this line\n",
    "function addFive() {\n",
    "    sum = sum + 5;\n",
    "}\n",
    "\n",
    "// Only change code above this line\n",
    "\n",
    "addThree();\n",
    "addFive();"
   ]
  },
  {
   "cell_type": "markdown",
   "metadata": {},
   "source": [
    "56 Assignment with a Returned Value\n",
    "\n",
    "If you'll recall from our discussion about Storing Values with the Assignment Operator, everything to the right of the equal sign is resolved before the value is assigned. This means we can take the return value of a function and assign it to a variable.\n",
    "\n",
    "Assume we have pre-defined a function sum which adds two numbers together, then:"
   ]
  },
  {
   "cell_type": "code",
   "execution_count": null,
   "metadata": {},
   "outputs": [],
   "source": [
    "ourSum = sum(5, 12);"
   ]
  },
  {
   "cell_type": "markdown",
   "metadata": {},
   "source": [
    "will call the sum function, which returns a value of 17 and assigns it to the ourSum variable.\n",
    "\n",
    "Call the processArg function with an argument of 7 and assign its return value to the variable processed."
   ]
  },
  {
   "cell_type": "code",
   "execution_count": null,
   "metadata": {},
   "outputs": [],
   "source": [
    "// Setup\n",
    "let processed = 0;\n",
    "\n",
    "function processArg(num) {\n",
    "  return (num + 3) / 5;\n",
    "}\n",
    "\n",
    "// Only change code below this line\n"
   ]
  },
  {
   "cell_type": "code",
   "execution_count": null,
   "metadata": {},
   "outputs": [],
   "source": [
    "// Setup\n",
    "let processed = 0;\n",
    "\n",
    "function processArg(num) {\n",
    "  return (num + 3) / 5;\n",
    "}\n",
    "\n",
    "// Only change code below this line\n",
    "processed = processArg(7);"
   ]
  },
  {
   "cell_type": "markdown",
   "metadata": {},
   "source": [
    "57 Stand in Line\n",
    "\n",
    "In Computer Science a queue is an abstract Data Structure where items are kept in order. New items can be added at the back of the queue and old items are taken off from the front of the queue.\n",
    "\n",
    "Write a function nextInLine which takes an array (arr) and a number (item) as arguments.\n",
    "\n",
    "Add the number to the end of the array, then remove the first element of the array.\n",
    "\n",
    "The nextInLine function should then return the element that was removed."
   ]
  },
  {
   "cell_type": "code",
   "execution_count": null,
   "metadata": {},
   "outputs": [],
   "source": [
    "function nextInLine(arr, item) {\n",
    "    // Only change code below this line\n",
    "    \n",
    "    return item;\n",
    "    // Only change code above this line\n",
    "  }\n",
    "  \n",
    "  // Setup\n",
    "  const testArr = [1, 2, 3, 4, 5];\n",
    "  \n",
    "  // Display code\n",
    "  console.log(\"Before: \" + JSON.stringify(testArr));\n",
    "  console.log(nextInLine(testArr, 6));\n",
    "  console.log(\"After: \" + JSON.stringify(testArr));"
   ]
  },
  {
   "cell_type": "code",
   "execution_count": null,
   "metadata": {},
   "outputs": [],
   "source": [
    "function nextInLine(arr, item) {\n",
    "  // Only change code below this line\n",
    "  \n",
    "  arr.push(item);\n",
    "  item = arr.shift();\n",
    " \n",
    "  return item;\n",
    "  // Only change code above this line\n",
    "}\n",
    "\n",
    "// Setup\n",
    "const testArr = [1, 2, 3, 4, 5];\n",
    "\n",
    "// Display code\n",
    "console.log(\"Before: \" + JSON.stringify(testArr));\n",
    "console.log(nextInLine(testArr, 6));\n",
    "console.log(\"After: \" + JSON.stringify(testArr));"
   ]
  },
  {
   "cell_type": "markdown",
   "metadata": {},
   "source": [
    "58 Understanding Boolean Values\n",
    "\n",
    "Another data type is the Boolean. Booleans may only be one of two values: true or false. They are basically little on-off switches, where true is on and false is off. These two states are mutually exclusive.\n",
    "\n",
    "Note: Boolean values are never written with quotes. The strings \"true\" and \"false\" are not Boolean and have no special meaning in JavaScript.\n",
    "\n",
    "Modify the welcomeToBooleans function so that it returns true instead of false when the run button is clicked.\n"
   ]
  },
  {
   "cell_type": "code",
   "execution_count": null,
   "metadata": {},
   "outputs": [],
   "source": [
    "function welcomeToBooleans() {\n",
    "    // Only change code below this line\n",
    "  \n",
    "    return false; // Change this line\n",
    "  \n",
    "    // Only change code above this line\n",
    "  }"
   ]
  },
  {
   "cell_type": "code",
   "execution_count": null,
   "metadata": {},
   "outputs": [],
   "source": [
    "function welcomeToBooleans() {\n",
    "    // Only change code below this line\n",
    "  \n",
    "    return true; // Change this line\n",
    "  \n",
    "    // Only change code above this line\n",
    "  }"
   ]
  },
  {
   "cell_type": "markdown",
   "metadata": {},
   "source": [
    "59 Use Conditional Logic with If Statements\n",
    "\n",
    "if statements are used to make decisions in code. The keyword if tells JavaScript to execute the code in the curly braces under certain conditions, defined in the parentheses. These conditions are known as Boolean conditions and they may only be true or false.\n",
    "\n",
    "When the condition evaluates to true, the program executes the statement inside the curly braces. When the Boolean condition evaluates to false, the statement inside the curly braces will not execute.\n",
    "\n",
    "Pseudocode\n",
    "\n",
    "if (condition is true) {\n",
    "\n",
    "  statement is executed\n",
    "\n",
    "}\n",
    "\n",
    "Example"
   ]
  },
  {
   "cell_type": "code",
   "execution_count": null,
   "metadata": {},
   "outputs": [],
   "source": [
    "function test (myCondition) {\n",
    "    if (myCondition) {\n",
    "      return \"It was true\";\n",
    "    }\n",
    "    return \"It was false\";\n",
    "  }\n",
    "  \n",
    "  test(true);\n",
    "  test(false);"
   ]
  },
  {
   "cell_type": "markdown",
   "metadata": {},
   "source": [
    "test(true) returns the string It was true, and test(false) returns the string It was false.\n",
    "\n",
    "When test is called with a value of true, the if statement evaluates myCondition to see if it is true or not. Since it is true, the function returns It was true. When we call test with a value of false, myCondition is not true and the statement in the curly braces is not executed and the function returns It was false.\n",
    "\n",
    "Create an if statement inside the function to return Yes, that was true if the parameter wasThatTrue is true and return No, that was false otherwise."
   ]
  },
  {
   "cell_type": "code",
   "execution_count": null,
   "metadata": {},
   "outputs": [],
   "source": [
    "function trueOrFalse(wasThatTrue) {\n",
    "  // Only change code below this line\n",
    "\n",
    "\n",
    "\n",
    "  // Only change code above this line\n",
    "\n",
    "}"
   ]
  },
  {
   "cell_type": "code",
   "execution_count": null,
   "metadata": {},
   "outputs": [],
   "source": [
    "function trueOrFalse(wasThatTrue) {\n",
    "  // Only change code below this line\n",
    "  if (wasThatTrue) {\n",
    "    return \"Yes, that was true\";\n",
    "  }\n",
    "  return \"No, that was false\";\n",
    "\n",
    "  // Only change code above this line\n",
    "\n",
    "}\n",
    "\n",
    "console.log(trueOrFalse(false));"
   ]
  },
  {
   "cell_type": "markdown",
   "metadata": {},
   "source": [
    "60 Comparison with the Equality Operator\n",
    "\n",
    "There are many comparison operators in JavaScript. All of these operators return a boolean true or false value.\n",
    "\n",
    "The most basic operator is the equality operator ==. The equality operator compares two values and returns true if they're equivalent or false if they are not. Note that equality is different from assignment (=), which assigns the value on the right of the operator to a variable on the left."
   ]
  },
  {
   "cell_type": "code",
   "execution_count": null,
   "metadata": {},
   "outputs": [],
   "source": [
    "function equalityTest(myVal) {\n",
    "    if (myVal == 10) {\n",
    "      return \"Equal\";\n",
    "    }\n",
    "    return \"Not Equal\";\n",
    "  }"
   ]
  },
  {
   "cell_type": "markdown",
   "metadata": {},
   "source": [
    "If myVal is equal to 10, the equality operator returns true, so the code in the curly braces will execute, and the function will return Equal. Otherwise, the function will return Not Equal. In order for JavaScript to compare two different data types (for example, numbers and strings), it must convert one type to another. This is known as Type Coercion. Once it does, however, it can compare terms as follows:"
   ]
  },
  {
   "cell_type": "code",
   "execution_count": null,
   "metadata": {},
   "outputs": [],
   "source": [
    "1   ==  1  // true\n",
    "1   ==  2  // false\n",
    "1   == '1' // true\n",
    "\"3\" ==  3  // true"
   ]
  },
  {
   "cell_type": "markdown",
   "metadata": {},
   "source": [
    "Add the equality operator to the indicated line so that the function will return the string Equal when val is equivalent to 12."
   ]
  },
  {
   "cell_type": "code",
   "execution_count": null,
   "metadata": {},
   "outputs": [],
   "source": [
    "// Setup\n",
    "function testEqual(val) {\n",
    "    if (val) { // Change this line\n",
    "      return \"Equal\";\n",
    "    }\n",
    "    return \"Not Equal\";\n",
    "  }\n",
    "  \n",
    "  testEqual(10);"
   ]
  },
  {
   "cell_type": "code",
   "execution_count": null,
   "metadata": {},
   "outputs": [],
   "source": [
    "// Setup\n",
    "function testEqual(val) {\n",
    "    if (val == 12) { // Change this line\n",
    "      return \"Equal\";\n",
    "    }\n",
    "    return \"Not Equal\";\n",
    "  }\n",
    "  \n",
    "  testEqual(10);"
   ]
  },
  {
   "cell_type": "markdown",
   "metadata": {},
   "source": [
    "61 Comparison with the Strict Equality Operator\n",
    "\n",
    "Strict equality (===) is the counterpart to the equality operator (==). However, unlike the equality operator, which attempts to convert both values being compared to a common type, the strict equality operator does not perform a type conversion.\n",
    "\n",
    "If the values being compared have different types, they are considered unequal, and the strict equality operator will return false.\n",
    "\n",
    "Examples"
   ]
  },
  {
   "cell_type": "code",
   "execution_count": null,
   "metadata": {},
   "outputs": [],
   "source": [
    "3 ===  3  // true\n",
    "3 === '3' // false"
   ]
  },
  {
   "cell_type": "markdown",
   "metadata": {},
   "source": [
    "In the second example, 3 is a Number type and '3' is a String type.\n",
    "\n",
    "Use the strict equality operator in the if statement so the function will return the string Equal when val is strictly equal to 7."
   ]
  },
  {
   "cell_type": "code",
   "execution_count": null,
   "metadata": {},
   "outputs": [],
   "source": [
    "// Setup\n",
    "function testStrict(val) {\n",
    "    if (val) { // Change this line\n",
    "      return \"Equal\";\n",
    "    }\n",
    "    return \"Not Equal\";\n",
    "  }\n",
    "  \n",
    "  testStrict(10);"
   ]
  },
  {
   "cell_type": "code",
   "execution_count": null,
   "metadata": {},
   "outputs": [],
   "source": [
    "// Setup\n",
    "function testStrict(val) {\n",
    "    if (val === 7) { // Change this line\n",
    "      return \"Equal\";\n",
    "    }\n",
    "    return \"Not Equal\";\n",
    "  }\n",
    "  \n",
    "  testStrict(10);"
   ]
  },
  {
   "cell_type": "markdown",
   "metadata": {},
   "source": [
    "62 Practice comparing different values\n",
    "\n",
    "In the last two challenges, we learned about the equality operator (==) and the strict equality operator (===). Let's do a quick review and practice using these operators some more.\n",
    "\n",
    "If the values being compared are not of the same type, the equality operator will perform a type conversion, and then evaluate the values. However, the strict equality operator will compare both the data type and value as-is, without converting one type to the other.\n",
    "\n",
    "Examples\n",
    "\n",
    "3 == '3' returns true because JavaScript performs type conversion from string to number. 3 === '3' returns false because the types are different and type conversion is not performed.\n",
    "\n",
    "Note: In JavaScript, you can determine the type of a variable or a value with the typeof operator, as follows:"
   ]
  },
  {
   "cell_type": "code",
   "execution_count": null,
   "metadata": {},
   "outputs": [],
   "source": [
    "typeof 3\n",
    "typeof '3'"
   ]
  },
  {
   "cell_type": "markdown",
   "metadata": {},
   "source": [
    "typeof 3 returns the string number, and typeof '3' returns the string string.\n",
    "\n",
    "The compareEquality function in the editor compares two values using the equality operator. Modify the function so that it returns the string Equal only when the values are strictly equal."
   ]
  },
  {
   "cell_type": "code",
   "execution_count": null,
   "metadata": {},
   "outputs": [],
   "source": [
    "// Setup\n",
    "function compareEquality(a, b) {\n",
    "    if (a == b) { // Change this line\n",
    "      return \"Equal\";\n",
    "    }\n",
    "    return \"Not Equal\";\n",
    "  }\n",
    "  \n",
    "  compareEquality(10, \"10\");"
   ]
  },
  {
   "cell_type": "code",
   "execution_count": null,
   "metadata": {},
   "outputs": [],
   "source": [
    "// Setup\n",
    "function compareEquality(a, b) {\n",
    "    if (a === b) { // Change this line\n",
    "      return \"Equal\";\n",
    "    }\n",
    "    return \"Not Equal\";\n",
    "  }\n",
    "  \n",
    "  compareEquality(10, \"10\");"
   ]
  },
  {
   "cell_type": "markdown",
   "metadata": {},
   "source": [
    "63 Comparison with the Inequality Operator\n",
    "\n",
    "The inequality operator (!=) is the opposite of the equality operator. It means not equal and returns false where equality would return true and vice versa. Like the equality operator, the inequality operator will convert data types of values while comparing.\n",
    "\n",
    "Examples"
   ]
  },
  {
   "cell_type": "code",
   "execution_count": null,
   "metadata": {},
   "outputs": [],
   "source": [
    "1 !=  2    // true\n",
    "1 != \"1\"   // false\n",
    "1 != '1'   // false\n",
    "1 != true  // false\n",
    "0 != false // false"
   ]
  },
  {
   "cell_type": "markdown",
   "metadata": {},
   "source": [
    "Add the inequality operator != in the if statement so that the function will return the string Not Equal when val is not equivalent to 99."
   ]
  },
  {
   "cell_type": "code",
   "execution_count": null,
   "metadata": {},
   "outputs": [],
   "source": [
    "// Setup\n",
    "function testNotEqual(val) {\n",
    "    if (val) { // Change this line\n",
    "      return \"Not Equal\";\n",
    "    }\n",
    "    return \"Equal\";\n",
    "  }\n",
    "  \n",
    "  testNotEqual(10);"
   ]
  },
  {
   "cell_type": "code",
   "execution_count": null,
   "metadata": {},
   "outputs": [],
   "source": [
    "// Setup\n",
    "function testNotEqual(val) {\n",
    "    if (val != 99) { // Change this line\n",
    "      return \"Not Equal\";\n",
    "    }\n",
    "    return \"Equal\";\n",
    "  }\n",
    "  \n",
    "  testNotEqual(10);"
   ]
  },
  {
   "cell_type": "markdown",
   "metadata": {},
   "source": [
    "64 Comparison with the Strict Inequality Operator\n",
    "\n",
    "The strict inequality operator (!==) is the logical opposite of the strict equality operator. It means \"Strictly Not Equal\" and returns false where strict equality would return true and vice versa. The strict inequality operator will not convert data types.\n",
    "\n",
    "Examples"
   ]
  },
  {
   "cell_type": "code",
   "execution_count": null,
   "metadata": {},
   "outputs": [],
   "source": [
    "3 !==  3  // false\n",
    "3 !== '3' // true\n",
    "4 !==  3  // true"
   ]
  },
  {
   "cell_type": "markdown",
   "metadata": {},
   "source": [
    "Add the strict inequality operator to the if statement so the function will return the string Not Equal when val is not strictly equal to 17"
   ]
  },
  {
   "cell_type": "code",
   "execution_count": null,
   "metadata": {},
   "outputs": [],
   "source": [
    "// Setup\n",
    "function testStrictNotEqual(val) {\n",
    "    if (val) { // Change this line\n",
    "      return \"Not Equal\";\n",
    "    }\n",
    "    return \"Equal\";\n",
    "  }\n",
    "  \n",
    "  testStrictNotEqual(10);"
   ]
  },
  {
   "cell_type": "code",
   "execution_count": null,
   "metadata": {},
   "outputs": [],
   "source": [
    "// Setup\n",
    "function testStrictNotEqual(val) {\n",
    "    if (val !== 17) { // Change this line\n",
    "      return \"Not Equal\";\n",
    "    }\n",
    "    return \"Equal\";\n",
    "  }\n",
    "  \n",
    "  testStrictNotEqual(10);"
   ]
  },
  {
   "cell_type": "markdown",
   "metadata": {},
   "source": [
    "65 Comparison with the Greater Than Operator\n",
    "\n",
    "The greater than operator (>) compares the values of two numbers. If the number to the left is greater than the number to the right, it returns true. Otherwise, it returns false.\n",
    "\n",
    "Like the equality operator, the greater than operator will convert data types of values while comparing.\n",
    "\n",
    "Examples"
   ]
  },
  {
   "cell_type": "code",
   "execution_count": null,
   "metadata": {},
   "outputs": [],
   "source": [
    "5   >  3  // true\n",
    "7   > '3' // true\n",
    "2   >  3  // false\n",
    "'1' >  9  // false"
   ]
  },
  {
   "cell_type": "markdown",
   "metadata": {},
   "source": [
    "Add the greater than operator to the indicated lines so that the return statements make sense."
   ]
  },
  {
   "cell_type": "code",
   "execution_count": null,
   "metadata": {},
   "outputs": [],
   "source": [
    "function testGreaterThan(val) {\n",
    "    if (val) {  // Change this line\n",
    "      return \"Over 100\";\n",
    "    }\n",
    "  \n",
    "    if (val) {  // Change this line\n",
    "      return \"Over 10\";\n",
    "    }\n",
    "  \n",
    "    return \"10 or Under\";\n",
    "  }\n",
    "  \n",
    "  testGreaterThan(10);"
   ]
  },
  {
   "cell_type": "code",
   "execution_count": null,
   "metadata": {},
   "outputs": [],
   "source": [
    "function testGreaterThan(val) {\n",
    "    if (val > 100) {  // Change this line\n",
    "      return \"Over 100\";\n",
    "    }\n",
    "  \n",
    "    if (val > 10) {  // Change this line\n",
    "      return \"Over 10\";\n",
    "    }\n",
    "  \n",
    "    return \"10 or Under\";\n",
    "  }\n",
    "  \n",
    "  testGreaterThan(10);"
   ]
  },
  {
   "cell_type": "markdown",
   "metadata": {},
   "source": [
    "66 Comparison with the Greater Than Or Equal To Operator\n",
    "\n",
    "The greater than or equal to operator (>=) compares the values of two numbers. If the number to the left is greater than or equal to the number to the right, it returns true. Otherwise, it returns false.\n",
    "\n",
    "Like the equality operator, the greater than or equal to operator will convert data types while comparing.\n",
    "\n",
    "Examples"
   ]
  },
  {
   "cell_type": "code",
   "execution_count": null,
   "metadata": {},
   "outputs": [],
   "source": [
    "6   >=  6  // true\n",
    "7   >= '3' // true\n",
    "2   >=  3  // false\n",
    "'7' >=  9  // false"
   ]
  },
  {
   "cell_type": "markdown",
   "metadata": {},
   "source": [
    "Add the greater than or equal to operator to the indicated lines so that the return statements make sense."
   ]
  },
  {
   "cell_type": "code",
   "execution_count": null,
   "metadata": {},
   "outputs": [],
   "source": [
    "function testGreaterOrEqual(val) {\n",
    "    if (val) {  // Change this line\n",
    "      return \"20 or Over\";\n",
    "    }\n",
    "  \n",
    "    if (val) {  // Change this line\n",
    "      return \"10 or Over\";\n",
    "    }\n",
    "  \n",
    "    return \"Less than 10\";\n",
    "  }\n",
    "  \n",
    "  testGreaterOrEqual(10);"
   ]
  },
  {
   "cell_type": "code",
   "execution_count": null,
   "metadata": {},
   "outputs": [],
   "source": [
    "function testGreaterOrEqual(val) {\n",
    "  if (val >= 20) {  // Change this line\n",
    "    return \"20 or Over\";\n",
    "  }\n",
    "\n",
    "  if (val >= 10) {  // Change this line\n",
    "    return \"10 or Over\";\n",
    "  }\n",
    "\n",
    "  return \"Less than 10\";\n",
    "}\n",
    "\n",
    "testGreaterOrEqual(10);"
   ]
  },
  {
   "cell_type": "markdown",
   "metadata": {},
   "source": [
    "67 Comparison with the Less Than Operator\n",
    "\n",
    "The less than operator (<) compares the values of two numbers. If the number to the left is less than the number to the right, it returns true. Otherwise, it returns false. Like the equality operator, the less than operator converts data types while comparing.\n",
    "\n",
    "Examples"
   ]
  },
  {
   "cell_type": "code",
   "execution_count": null,
   "metadata": {},
   "outputs": [],
   "source": [
    "2   < 5 // true\n",
    "'3' < 7 // true\n",
    "5   < 5 // false\n",
    "3   < 2 // false\n",
    "'8' < 4 // false"
   ]
  },
  {
   "cell_type": "markdown",
   "metadata": {},
   "source": [
    "Add the less than operator to the indicated lines so that the return statements make sense."
   ]
  },
  {
   "cell_type": "code",
   "execution_count": null,
   "metadata": {},
   "outputs": [],
   "source": [
    "function testLessThan(val) {\n",
    "    if (val) {  // Change this line\n",
    "      return \"Under 25\";\n",
    "    }\n",
    "  \n",
    "    if (val) {  // Change this line\n",
    "      return \"Under 55\";\n",
    "    }\n",
    "  \n",
    "    return \"55 or Over\";\n",
    "  }\n",
    "  \n",
    "  testLessThan(10);"
   ]
  },
  {
   "cell_type": "code",
   "execution_count": null,
   "metadata": {},
   "outputs": [],
   "source": [
    "function testLessThan(val) {\n",
    "    if (val < 25) {  // Change this line\n",
    "      return \"Under 25\";\n",
    "    }\n",
    "  \n",
    "    if (val < 55) {  // Change this line\n",
    "      return \"Under 55\";\n",
    "    }\n",
    "  \n",
    "    return \"55 or Over\";\n",
    "  }\n",
    "  \n",
    "  testLessThan(10);"
   ]
  },
  {
   "cell_type": "markdown",
   "metadata": {},
   "source": [
    "68 Comparison with the Less Than Or Equal To Operator\n",
    "\n",
    "The less than or equal to operator (<=) compares the values of two numbers. If the number to the left is less than or equal to the number to the right, it returns true. If the number on the left is greater than the number on the right, it returns false. Like the equality operator, the less than or equal to operator converts data types.\n",
    "\n",
    "Examples"
   ]
  },
  {
   "cell_type": "code",
   "execution_count": null,
   "metadata": {},
   "outputs": [],
   "source": [
    "4   <= 5 // true\n",
    "'7' <= 7 // true\n",
    "5   <= 5 // true\n",
    "3   <= 2 // false\n",
    "'8' <= 4 // false"
   ]
  },
  {
   "cell_type": "markdown",
   "metadata": {},
   "source": [
    "Add the less than or equal to operator to the indicated lines so that the return statements make sense."
   ]
  },
  {
   "cell_type": "code",
   "execution_count": null,
   "metadata": {},
   "outputs": [],
   "source": [
    "function testLessOrEqual(val) {\n",
    "    if (val) {  // Change this line\n",
    "      return \"Smaller Than or Equal to 12\";\n",
    "    }\n",
    "  \n",
    "    if (val) {  // Change this line\n",
    "      return \"Smaller Than or Equal to 24\";\n",
    "    }\n",
    "  \n",
    "    return \"More Than 24\";\n",
    "  }\n",
    "  \n",
    "  testLessOrEqual(10);"
   ]
  },
  {
   "cell_type": "code",
   "execution_count": null,
   "metadata": {},
   "outputs": [],
   "source": [
    "function testLessOrEqual(val) {\n",
    "    if (val <= 12) {  // Change this line\n",
    "      return \"Smaller Than or Equal to 12\";\n",
    "    }\n",
    "  \n",
    "    if (val <= 24) {  // Change this line\n",
    "      return \"Smaller Than or Equal to 24\";\n",
    "    }\n",
    "  \n",
    "    return \"More Than 24\";\n",
    "  }\n",
    "  \n",
    "  testLessOrEqual(10);"
   ]
  },
  {
   "cell_type": "markdown",
   "metadata": {},
   "source": [
    "69 Comparisons with the Logical And Operator\n",
    "\n",
    "Sometimes you will need to test more than one thing at a time. The logical and operator (&&) returns true if and only if the operands to the left and right of it are true.\n",
    "\n",
    "The same effect could be achieved by nesting an if statement inside another if:\n",
    "\n"
   ]
  },
  {
   "cell_type": "code",
   "execution_count": null,
   "metadata": {},
   "outputs": [],
   "source": [
    "if (num > 5) {\n",
    "    if (num < 10) {\n",
    "      return \"Yes\";\n",
    "    }\n",
    "  }\n",
    "  return \"No\";"
   ]
  },
  {
   "cell_type": "markdown",
   "metadata": {},
   "source": [
    "will only return Yes if num is greater than 5 and less than 10. The same logic can be written as:"
   ]
  },
  {
   "cell_type": "code",
   "execution_count": null,
   "metadata": {},
   "outputs": [],
   "source": [
    "if (num > 5 && num < 10) {\n",
    "    return \"Yes\";\n",
    "  }\n",
    "  return \"No\";"
   ]
  },
  {
   "cell_type": "markdown",
   "metadata": {},
   "source": [
    "Replace the two if statements with one statement, using the && operator, which will return the string Yes if val is less than or equal to 50 and greater than or equal to 25. Otherwise, will return the string No."
   ]
  },
  {
   "cell_type": "code",
   "execution_count": null,
   "metadata": {},
   "outputs": [],
   "source": [
    "function testLogicalAnd(val) {\n",
    "    // Only change code below this line\n",
    "  \n",
    "    if (val) {\n",
    "      if (val) {\n",
    "        return \"Yes\";\n",
    "      }\n",
    "    }\n",
    "    \n",
    "    // Only change code above this line\n",
    "    return \"No\";\n",
    "  }\n",
    "  \n",
    "  testLogicalAnd(10);"
   ]
  },
  {
   "cell_type": "code",
   "execution_count": null,
   "metadata": {},
   "outputs": [],
   "source": [
    "function testLogicalAnd(val) {\n",
    "    // Only change code below this line\n",
    "\n",
    "    if (val >= 25 && val <= 50) {\n",
    "      return \"Yes\";\n",
    "    }\n",
    "    \n",
    "    // Only change code above this line\n",
    "    return \"No\";\n",
    "  }\n",
    "  \n",
    "  testLogicalAnd(10);"
   ]
  },
  {
   "cell_type": "markdown",
   "metadata": {},
   "source": [
    "70 Comparisons with the Logical Or Operator\n",
    "\n",
    "The logical or operator (||) returns true if either of the operands is true. Otherwise, it returns false.\n",
    "\n",
    "The logical or operator is composed of two pipe symbols: (||). This can typically be found between your Backspace and Enter keys.\n",
    "\n",
    "The pattern below should look familiar from prior waypoints:"
   ]
  },
  {
   "cell_type": "code",
   "execution_count": null,
   "metadata": {},
   "outputs": [],
   "source": [
    "if (num > 10) {\n",
    "    return \"No\";\n",
    "  }\n",
    "  if (num < 5) {\n",
    "    return \"No\";\n",
    "  }\n",
    "  return \"Yes\";"
   ]
  },
  {
   "cell_type": "markdown",
   "metadata": {},
   "source": [
    "will return Yes only if num is between 5 and 10 (5 and 10 included). The same logic can be written as:"
   ]
  },
  {
   "cell_type": "code",
   "execution_count": null,
   "metadata": {},
   "outputs": [],
   "source": [
    "if (num > 10 || num < 5) {\n",
    "    return \"No\";\n",
    "  }\n",
    "  return \"Yes\";"
   ]
  },
  {
   "cell_type": "markdown",
   "metadata": {},
   "source": [
    "Combine the two if statements into one statement which returns the string Outside if val is not between 10 and 20, inclusive. Otherwise, return the string Inside."
   ]
  },
  {
   "cell_type": "code",
   "execution_count": null,
   "metadata": {},
   "outputs": [],
   "source": [
    "function testLogicalOr(val) {\n",
    "    // Only change code below this line\n",
    "  \n",
    "    if (val) {\n",
    "      return \"Outside\";\n",
    "    }\n",
    "  \n",
    "    if (val) {\n",
    "      return \"Outside\";\n",
    "    }\n",
    "  \n",
    "    // Only change code above this line\n",
    "    return \"Inside\";\n",
    "  }\n",
    "  \n",
    "  testLogicalOr(15);"
   ]
  },
  {
   "cell_type": "code",
   "execution_count": null,
   "metadata": {},
   "outputs": [],
   "source": [
    "function testLogicalOr(val) {\n",
    "    // Only change code below this line\n",
    "\n",
    "    if (val > 20 || val < 10) {\n",
    "      return \"Outside\";\n",
    "    }\n",
    "\n",
    "    // Only change code above this line\n",
    "    return \"Inside\";\n",
    "  }\n",
    "  \n",
    "  testLogicalOr(15);"
   ]
  },
  {
   "cell_type": "markdown",
   "metadata": {},
   "source": [
    "71 Introducing Else Statements\n",
    "\n",
    "When a condition for an if statement is true, the block of code following it is executed. What about when that condition is false? Normally nothing would happen. With an else statement, an alternate block of code can be executed."
   ]
  },
  {
   "cell_type": "code",
   "execution_count": null,
   "metadata": {},
   "outputs": [],
   "source": [
    "if (num > 10) {\n",
    "    return \"Bigger than 10\";\n",
    "  } else {\n",
    "    return \"10 or Less\";\n",
    "  }"
   ]
  },
  {
   "cell_type": "markdown",
   "metadata": {},
   "source": [
    "Combine the if statements into a single if/else statement."
   ]
  },
  {
   "cell_type": "code",
   "execution_count": null,
   "metadata": {},
   "outputs": [],
   "source": [
    "function testElse(val) {\n",
    "    let result = \"\";\n",
    "    // Only change code below this line\n",
    "  \n",
    "    if (val > 5) {\n",
    "      result = \"Bigger than 5\";\n",
    "    }\n",
    "  \n",
    "    if (val <= 5) {\n",
    "      result = \"5 or Smaller\";\n",
    "    }\n",
    "  \n",
    "    // Only change code above this line\n",
    "    return result;\n",
    "  }\n",
    "  \n",
    "  testElse(4);"
   ]
  },
  {
   "cell_type": "code",
   "execution_count": null,
   "metadata": {},
   "outputs": [],
   "source": [
    "function testElse(val) {\n",
    "    let result = \"\";\n",
    "    // Only change code below this line\n",
    "  \n",
    "    if (val > 5) {\n",
    "      result = \"Bigger than 5\";\n",
    "    }\n",
    "  \n",
    "      else {\n",
    "        result = \"5 or Smaller\";\n",
    "      }\n",
    "  \n",
    "    // Only change code above this line\n",
    "    return result;\n",
    "  }\n",
    "  \n",
    "  testElse(4);"
   ]
  },
  {
   "cell_type": "markdown",
   "metadata": {},
   "source": [
    "72 Introducing Else If Statements\n",
    "\n",
    "If you have multiple conditions that need to be addressed, you can chain if statements together with else if statements."
   ]
  },
  {
   "cell_type": "code",
   "execution_count": null,
   "metadata": {},
   "outputs": [],
   "source": [
    "if (num > 15) {\n",
    "    return \"Bigger than 15\";\n",
    "  } else if (num < 5) {\n",
    "    return \"Smaller than 5\";\n",
    "  } else {\n",
    "    return \"Between 5 and 15\";\n",
    "  }"
   ]
  },
  {
   "cell_type": "markdown",
   "metadata": {},
   "source": [
    "Convert the logic to use else if statements."
   ]
  },
  {
   "cell_type": "code",
   "execution_count": null,
   "metadata": {},
   "outputs": [],
   "source": [
    "function testElseIf(val) {\n",
    "    if (val > 10) {\n",
    "      return \"Greater than 10\";\n",
    "    }\n",
    "  \n",
    "    if (val < 5) {\n",
    "      return \"Smaller than 5\";\n",
    "    }\n",
    "  \n",
    "    return \"Between 5 and 10\";\n",
    "  }\n",
    "  \n",
    "  testElseIf(7);"
   ]
  },
  {
   "cell_type": "code",
   "execution_count": null,
   "metadata": {},
   "outputs": [],
   "source": [
    "function testElseIf(val) {\n",
    "    if (val > 10) {\n",
    "      return \"Greater than 10\";\n",
    "    }\n",
    "  \n",
    "      else if (val < 5) {\n",
    "        return \"Smaller than 5\";\n",
    "      }\n",
    "    \n",
    "      else {\n",
    "        return \"Between 5 and 10\";\n",
    "      }  \n",
    "  }\n",
    "  \n",
    "  testElseIf(7);"
   ]
  },
  {
   "cell_type": "markdown",
   "metadata": {},
   "source": [
    "73 Logical Order in If Else Statements\n",
    "\n",
    "Order is important in if, else if statements.\n",
    "\n",
    "The function is executed from top to bottom so you will want to be careful of what statement comes first.\n",
    "\n",
    "Take these two functions as an example.\n",
    "\n",
    "Here's the first:"
   ]
  },
  {
   "cell_type": "code",
   "execution_count": null,
   "metadata": {},
   "outputs": [],
   "source": [
    "function foo(x) {\n",
    "    if (x < 1) {\n",
    "      return \"Less than one\";\n",
    "    } else if (x < 2) {\n",
    "      return \"Less than two\";\n",
    "    } else {\n",
    "      return \"Greater than or equal to two\";\n",
    "    }\n",
    "  }"
   ]
  },
  {
   "cell_type": "markdown",
   "metadata": {},
   "source": [
    "And the second just switches the order of the statements:"
   ]
  },
  {
   "cell_type": "code",
   "execution_count": null,
   "metadata": {},
   "outputs": [],
   "source": [
    "function bar(x) {\n",
    "    if (x < 2) {\n",
    "      return \"Less than two\";\n",
    "    } else if (x < 1) {\n",
    "      return \"Less than one\";\n",
    "    } else {\n",
    "      return \"Greater than or equal to two\";\n",
    "    }\n",
    "  }"
   ]
  },
  {
   "cell_type": "markdown",
   "metadata": {},
   "source": [
    "While these two functions look nearly identical if we pass a number to both we get different outputs."
   ]
  },
  {
   "cell_type": "code",
   "execution_count": null,
   "metadata": {},
   "outputs": [],
   "source": [
    "foo(0)\n",
    "bar(0)"
   ]
  },
  {
   "cell_type": "markdown",
   "metadata": {},
   "source": [
    "foo(0) will return the string Less than one, and bar(0) will return the string Less than two.\n",
    "\n",
    "Change the order of logic in the function so that it will return the correct statements in all cases."
   ]
  },
  {
   "cell_type": "code",
   "execution_count": null,
   "metadata": {},
   "outputs": [],
   "source": [
    "function orderMyLogic(val) {\n",
    "    if (val < 10) {\n",
    "      return \"Less than 10\";\n",
    "    } else if (val < 5) {\n",
    "      return \"Less than 5\";\n",
    "    } else {\n",
    "      return \"Greater than or equal to 10\";\n",
    "    }\n",
    "  }\n",
    "  \n",
    "  orderMyLogic(7);"
   ]
  },
  {
   "cell_type": "code",
   "execution_count": null,
   "metadata": {},
   "outputs": [],
   "source": [
    "function orderMyLogic(val) {\n",
    "    if (val >= 10) {\n",
    "      return \"Greater than or equal to 10\";\n",
    "    } \n",
    "      else if (val < 10 && val > 5) {\n",
    "      return \"Less than 10\";\n",
    "    } \n",
    "      else {\n",
    "      return \"Less than 5\";\n",
    "    }\n",
    "  }\n",
    "  \n",
    "  orderMyLogic(2);"
   ]
  },
  {
   "cell_type": "markdown",
   "metadata": {},
   "source": [
    "74 Chaining If Else Statements\n",
    "\n",
    "if/else statements can be chained together for complex logic. Here is pseudocode of multiple chained if / else if statements:"
   ]
  },
  {
   "cell_type": "code",
   "execution_count": null,
   "metadata": {},
   "outputs": [],
   "source": [
    "if (condition1) {\n",
    "    statement1\n",
    "  } else if (condition2) {\n",
    "    statement2\n",
    "  } else if (condition3) {\n",
    "    statement3\n",
    "\n",
    "// ....\n",
    "\n",
    "\n",
    "  } else {\n",
    "    statementN\n",
    "  }"
   ]
  },
  {
   "cell_type": "markdown",
   "metadata": {},
   "source": [
    "Write chained if/else if statements to fulfill the following conditions:\n",
    "\n",
    "num < 5 - return Tiny\n",
    "\n",
    "num < 10 - return Small\n",
    "\n",
    "num < 15 - return Medium\n",
    "\n",
    "num < 20 - return Large\n",
    "\n",
    "num >= 20 - return Huge"
   ]
  },
  {
   "cell_type": "code",
   "execution_count": null,
   "metadata": {},
   "outputs": [],
   "source": [
    "function testSize(num) {\n",
    "    // Only change code below this line\n",
    "  \n",
    "  \n",
    "    return \"Change Me\";\n",
    "    // Only change code above this line\n",
    "  }\n",
    "  \n",
    "  testSize(7);"
   ]
  },
  {
   "cell_type": "code",
   "execution_count": null,
   "metadata": {},
   "outputs": [],
   "source": [
    "function testSize(num) {\n",
    "    // Only change code below this line\n",
    "  if (num >= 20) {\n",
    "    return \"Huge\";\n",
    "  } \n",
    "    else if (num < 20 && num >= 15) {\n",
    "      return \"Large\";\n",
    "    }\n",
    "    else if (num < 15 && num >= 10) {\n",
    "      return \"Medium\";\n",
    "    }\n",
    "    else if (num < 10 && num >= 5) {\n",
    "      return \"Small\";\n",
    "    }\n",
    "    else {\n",
    "      return \"Tiny\";\n",
    "    }\n",
    "    // Only change code above this line\n",
    "  }\n",
    "  \n",
    "  testSize(7);"
   ]
  },
  {
   "cell_type": "markdown",
   "metadata": {},
   "source": [
    "75 Golf Code\n",
    "\n",
    "In the game of Golf, each hole has a par, meaning, the average number of strokes a golfer is expected to make in order to sink the ball in the hole to complete the play. Depending on how far above or below par your strokes are, there is a different nickname.\n",
    "\n",
    "Your function will be passed par and strokes arguments. Return the correct string according to this table which lists the strokes in order of priority; top (highest) to bottom (lowest):\n",
    "\n",
    "Strokes / Return\n",
    "\n",
    "1\t/ \"Hole-in-one!\"\n",
    "\n",
    "( < = ) par - 2\t/ \"Eagle\"\n",
    "\n",
    "par - 1\t/ \"Birdie\"\n",
    "\n",
    "par\t/ \"Par\"\n",
    "\n",
    "par + 1 / \"Bogey\"\n",
    "\n",
    "par + 2\t/ \"Double Bogey\"\n",
    "\n",
    "( > = ) par + 3\t/ \"Go Home!\"\n",
    "\n",
    "par and strokes will always be numeric and positive. We have added an array of all the names for your convenience.\n",
    "\n"
   ]
  },
  {
   "cell_type": "code",
   "execution_count": null,
   "metadata": {},
   "outputs": [],
   "source": [
    "const names = [\"Hole-in-one!\", \"Eagle\", \"Birdie\", \"Par\", \"Bogey\", \"Double Bogey\", \"Go Home!\"];\n",
    "\n",
    "function golfScore(par, strokes) {\n",
    "  // Only change code below this line\n",
    "\n",
    "\n",
    "  return \"Change Me\";\n",
    "  // Only change code above this line\n",
    "}\n",
    "\n",
    "golfScore(5, 4);"
   ]
  },
  {
   "cell_type": "code",
   "execution_count": null,
   "metadata": {},
   "outputs": [],
   "source": [
    "const names = [\"Hole-in-one!\", \"Eagle\", \"Birdie\", \"Par\", \"Bogey\", \"Double Bogey\", \"Go Home!\"];\n",
    "\n",
    "function golfScore(par, strokes) {\n",
    "  // Only change code below this line\n",
    "    if (strokes === 1) {\n",
    "        return names[0];\n",
    "    }\n",
    "        else if (strokes === 2) {\n",
    "            return names[1];\n",
    "        }\n",
    "        else if (par - strokes == 1) {\n",
    "            return names[2];\n",
    "        }\n",
    "        else if (strokes == par) {\n",
    "            return names[3];\n",
    "        }\n",
    "        else if (strokes - par == 1) {\n",
    "            return names[4];\n",
    "        }\n",
    "        else if (strokes - par == 2) {\n",
    "            return names[5];\n",
    "        }\n",
    "        else if (strokes >= 7) {\n",
    "            return names[6];\n",
    "        }\n",
    "  // Only change code above this line\n",
    "}\n",
    "\n",
    "golfScore(5, 4);"
   ]
  },
  {
   "cell_type": "markdown",
   "metadata": {},
   "source": [
    "76 Selecting from Many Options with Switch Statements\n",
    "\n",
    "If you have many options to choose from, use a switch statement. A switch statement tests a value and can have many case statements which define various possible values. Statements are executed from the first matched case value until a break is encountered.\n",
    "\n",
    "Here is an example of a switch statement:"
   ]
  },
  {
   "cell_type": "code",
   "execution_count": null,
   "metadata": {},
   "outputs": [],
   "source": [
    "switch (lowercaseLetter) {\n",
    "    case \"a\":\n",
    "      console.log(\"A\");\n",
    "      break;\n",
    "    case \"b\":\n",
    "      console.log(\"B\");\n",
    "      break;\n",
    "  }"
   ]
  },
  {
   "cell_type": "markdown",
   "metadata": {},
   "source": [
    "case values are tested with strict equality (===). The break tells JavaScript to stop executing statements. If the break is omitted, the next statement will be executed.\n",
    "\n",
    "Write a switch statement which tests val and sets answer for the following conditions:\n",
    "\n",
    "1 - alpha\n",
    "\n",
    "2 - beta\n",
    "\n",
    "3 - gamma\n",
    "\n",
    "4 - delta"
   ]
  },
  {
   "cell_type": "code",
   "execution_count": null,
   "metadata": {},
   "outputs": [],
   "source": [
    "function caseInSwitch(val) {\n",
    "  let answer = \"\";\n",
    "  // Only change code below this line\n",
    "\n",
    "\n",
    "\n",
    "  // Only change code above this line\n",
    "  return answer;\n",
    "}\n",
    "\n",
    "caseInSwitch(1);\n"
   ]
  },
  {
   "cell_type": "code",
   "execution_count": null,
   "metadata": {},
   "outputs": [],
   "source": [
    "  function caseInSwitch(val) {\n",
    "    let answer = \"\";\n",
    "    // Only change code below this line\n",
    "    switch (val) {\n",
    "      case 1:\n",
    "        answer = \"alpha\";\n",
    "        break;\n",
    "      case 2:\n",
    "        answer = \"beta\";\n",
    "        break;\n",
    "      case 3:\n",
    "        answer = \"gamma\";\n",
    "        break;\n",
    "      case 4:\n",
    "        answer = \"delta\";\n",
    "        break;\n",
    "    }\n",
    "  \n",
    "    // Only change code above this line\n",
    "    return answer;\n",
    "  }\n",
    "  \n",
    "  caseInSwitch(3);\n"
   ]
  },
  {
   "cell_type": "markdown",
   "metadata": {},
   "source": [
    "77 Adding a Default Option in Switch Statements\n",
    "\n",
    "In a switch statement you may not be able to specify all possible values as case statements. Instead, you can add the default statement which will be executed if no matching case statements are found. Think of it like the final else statement in an if/else chain.\n",
    "\n",
    "A default statement should be the last case."
   ]
  },
  {
   "cell_type": "code",
   "execution_count": null,
   "metadata": {},
   "outputs": [],
   "source": [
    "switch (num) {\n",
    "    case value1:\n",
    "      statement1;\n",
    "      break;\n",
    "    case value2:\n",
    "      statement2;\n",
    "      break;\n",
    "  //...\n",
    "    default:\n",
    "      defaultStatement;\n",
    "      break;\n",
    "  }"
   ]
  },
  {
   "cell_type": "markdown",
   "metadata": {},
   "source": [
    "\n",
    "Write a switch statement to set answer for the following conditions:\n",
    "\n",
    "a - apple\n",
    "\n",
    "b - bird\n",
    "\n",
    "c - cat\n",
    "\n",
    "default - stuff"
   ]
  },
  {
   "cell_type": "code",
   "execution_count": null,
   "metadata": {},
   "outputs": [],
   "source": [
    "function switchOfStuff(val) {\n",
    "    let answer = \"\";\n",
    "    // Only change code below this line\n",
    "  \n",
    "  \n",
    "  \n",
    "    // Only change code above this line\n",
    "    return answer;\n",
    "  }\n",
    "  \n",
    "  switchOfStuff(1);"
   ]
  },
  {
   "cell_type": "code",
   "execution_count": null,
   "metadata": {},
   "outputs": [],
   "source": [
    "  function switchOfStuff(val) {\n",
    "    let answer = \"\";\n",
    "    // Only change code below this line\n",
    "    switch (val) {\n",
    "        case \"a\":\n",
    "            answer = \"apple\";\n",
    "            break;\n",
    "        case \"b\":\n",
    "            answer = \"bird\";\n",
    "            break\n",
    "        case \"c\":\n",
    "            answer = \"cat\";\n",
    "            break;\n",
    "        default:\n",
    "            answer = \"stuff\";\n",
    "            break;\n",
    "    }\n",
    "    // Only change code above this line\n",
    "    return answer;\n",
    "  }\n",
    "  \n",
    "  switchOfStuff(1);"
   ]
  },
  {
   "cell_type": "markdown",
   "metadata": {},
   "source": [
    "78 Multiple Identical Options in Switch Statements\n",
    "\n",
    "If the break statement is omitted from a switch statement's case, the following case statement(s) are executed until a break is encountered. If you have multiple inputs with the same output, you can represent them in a switch statement like this:"
   ]
  },
  {
   "cell_type": "code",
   "execution_count": null,
   "metadata": {},
   "outputs": [],
   "source": [
    "let result = \"\";\n",
    "switch (val) {\n",
    "  case 1:\n",
    "  case 2:\n",
    "  case 3:\n",
    "    result = \"1, 2, or 3\";\n",
    "    break;\n",
    "  case 4:\n",
    "    result = \"4 alone\";\n",
    "}"
   ]
  },
  {
   "cell_type": "markdown",
   "metadata": {},
   "source": [
    "Cases for 1, 2, and 3 will all produce the same result.\n",
    "\n",
    "Write a switch statement to set answer for the following ranges:\n",
    "\n",
    "1-3 - Low\n",
    "\n",
    "4-6 - Mid\n",
    "\n",
    "7-9 - High\n",
    "\n",
    "Note: You will need to have a case statement for each number in the range."
   ]
  },
  {
   "cell_type": "code",
   "execution_count": null,
   "metadata": {},
   "outputs": [],
   "source": [
    "function sequentialSizes(val) {\n",
    "  let answer = \"\";\n",
    "  // Only change code below this line\n",
    "\n",
    "\n",
    "\n",
    "  // Only change code above this line\n",
    "  return answer;\n",
    "}\n",
    "\n",
    "sequentialSizes(1);"
   ]
  },
  {
   "cell_type": "code",
   "execution_count": null,
   "metadata": {},
   "outputs": [],
   "source": [
    "function sequentialSizes(val) {\n",
    "  let answer = \"\";\n",
    "  // Only change code below this line\n",
    "  switch (val) {\n",
    "    case 1:\n",
    "    case 2:\n",
    "    case 3:\n",
    "      answer = \"Low\";\n",
    "      break;\n",
    "    case 4:\n",
    "    case 5:\n",
    "    case 6:\n",
    "      answer = \"Mid\";\n",
    "      break;\n",
    "    case 7:\n",
    "    case 8:\n",
    "    case 9:\n",
    "      answer = \"High\";\n",
    "      break;\n",
    "  }\n",
    "  // Only change code above this line\n",
    "  return answer;\n",
    "}\n",
    "\n",
    "sequentialSizes(1);"
   ]
  },
  {
   "cell_type": "markdown",
   "metadata": {},
   "source": [
    "79 Replacing If Else Chains with Switch\n",
    "\n",
    "If you have many options to choose from, a switch statement can be easier to write than many chained if/else if statements. The following:"
   ]
  },
  {
   "cell_type": "code",
   "execution_count": null,
   "metadata": {},
   "outputs": [],
   "source": [
    "if (val === 1) {\n",
    "    answer = \"a\";\n",
    "  } else if (val === 2) {\n",
    "    answer = \"b\";\n",
    "  } else {\n",
    "    answer = \"c\";\n",
    "  }"
   ]
  },
  {
   "cell_type": "markdown",
   "metadata": {},
   "source": [
    "can be replaced with:"
   ]
  },
  {
   "cell_type": "code",
   "execution_count": null,
   "metadata": {},
   "outputs": [],
   "source": [
    "switch (val) {\n",
    "    case 1:\n",
    "      answer = \"a\";\n",
    "      break;\n",
    "    case 2:\n",
    "      answer = \"b\";\n",
    "      break;\n",
    "    default:\n",
    "      answer = \"c\";\n",
    "  }"
   ]
  },
  {
   "cell_type": "markdown",
   "metadata": {},
   "source": [
    "Change the chained if/else if statements into a switch statement."
   ]
  },
  {
   "cell_type": "code",
   "execution_count": null,
   "metadata": {},
   "outputs": [],
   "source": [
    "function chainToSwitch(val) {\n",
    "    let answer = \"\";\n",
    "    // Only change code below this line\n",
    "  \n",
    "    if (val === \"bob\") {\n",
    "      answer = \"Marley\";\n",
    "    } else if (val === 42) {\n",
    "      answer = \"The Answer\";\n",
    "    } else if (val === 1) {\n",
    "      answer = \"There is no #1\";\n",
    "    } else if (val === 99) {\n",
    "      answer = \"Missed me by this much!\";\n",
    "    } else if (val === 7) {\n",
    "      answer = \"Ate Nine\";\n",
    "    }\n",
    "  \n",
    "    // Only change code above this line\n",
    "    return answer;\n",
    "  }\n",
    "  \n",
    "  chainToSwitch(7);"
   ]
  },
  {
   "cell_type": "code",
   "execution_count": null,
   "metadata": {},
   "outputs": [],
   "source": [
    "function chainToSwitch(val) {\n",
    "    let answer = \"\";\n",
    "    // Only change code below this line\n",
    "    switch (val) {\n",
    "      case \"bob\":\n",
    "        answer = \"Marley\";\n",
    "        break;\n",
    "      case 42:\n",
    "        answer = \"The Answer\";\n",
    "        break;\n",
    "      case 1:\n",
    "        answer = \"There is no #1\";\n",
    "        break;\n",
    "      case 99:\n",
    "        answer = \"Missed me by this much!\";\n",
    "        break;\n",
    "      case 7:\n",
    "        answer = \"Ate Nine\";\n",
    "        break;\n",
    "    }\n",
    "    // Only change code above this line\n",
    "    return answer;\n",
    "  }\n",
    "  \n",
    "  chainToSwitch(7);"
   ]
  },
  {
   "cell_type": "markdown",
   "metadata": {},
   "source": [
    "80 Returning Boolean Values from Functions\n",
    "\n",
    "You may recall from Comparison with the Equality Operator that all comparison operators return a boolean true or false value.\n",
    "\n",
    "Sometimes people use an if/else statement to do a comparison, like this:"
   ]
  },
  {
   "cell_type": "code",
   "execution_count": null,
   "metadata": {},
   "outputs": [],
   "source": [
    "function isEqual(a, b) {\n",
    "    if (a === b) {\n",
    "      return true;\n",
    "    } else {\n",
    "      return false;\n",
    "    }\n",
    "  }"
   ]
  },
  {
   "cell_type": "markdown",
   "metadata": {},
   "source": [
    "But there's a better way to do this. Since === returns true or false, we can return the result of the comparison:"
   ]
  },
  {
   "cell_type": "code",
   "execution_count": null,
   "metadata": {},
   "outputs": [],
   "source": [
    "function isEqual(a, b) {\n",
    "    return a === b;\n",
    "  }"
   ]
  },
  {
   "cell_type": "markdown",
   "metadata": {},
   "source": [
    "Fix the function isLess to remove the if/else statements."
   ]
  },
  {
   "cell_type": "code",
   "execution_count": null,
   "metadata": {},
   "outputs": [],
   "source": [
    "function isLess(a, b) {\n",
    "    // Only change code below this line\n",
    "    return a < b;\n",
    "    // Only change code above this line\n",
    "  }\n",
    "  \n",
    "  isLess(10, 15);"
   ]
  },
  {
   "cell_type": "code",
   "execution_count": null,
   "metadata": {},
   "outputs": [],
   "source": [
    "function isLess(a, b) {\n",
    "    // Only change code below this line\n",
    "    if (a < b) {\n",
    "      return true;\n",
    "    } else {\n",
    "      return false;\n",
    "    }\n",
    "    // Only change code above this line\n",
    "  }\n",
    "  \n",
    "  isLess(10, 15);"
   ]
  },
  {
   "cell_type": "markdown",
   "metadata": {},
   "source": [
    "81 Return Early Pattern for Functions\n",
    "\n",
    "When a return statement is reached, the execution of the current function stops and control returns to the calling location.\n",
    "\n",
    "Example"
   ]
  },
  {
   "cell_type": "code",
   "execution_count": null,
   "metadata": {},
   "outputs": [],
   "source": [
    "function myFun() {\n",
    "    console.log(\"Hello\");\n",
    "    return \"World\";\n",
    "    console.log(\"byebye\")\n",
    "  }\n",
    "  myFun();"
   ]
  },
  {
   "cell_type": "markdown",
   "metadata": {},
   "source": [
    "The above will display the string Hello in the console, and return the string World. The string byebye will never display in the console, because the function exits at the return statement.\n",
    "\n",
    "Modify the function abTest so that if a or b are less than 0 the function will immediately exit with a value of undefined.\n",
    "\n",
    "Hint\n",
    "Remember that undefined is a keyword, not a string.\n",
    "\n"
   ]
  },
  {
   "cell_type": "code",
   "execution_count": null,
   "metadata": {},
   "outputs": [],
   "source": [
    "// Setup\n",
    "function abTest(a, b) {\n",
    "  // Only change code below this line\n",
    "\n",
    "\n",
    "\n",
    "  // Only change code above this line\n",
    "\n",
    "  return Math.round(Math.pow(Math.sqrt(a) + Math.sqrt(b), 2));\n",
    "}\n",
    "\n",
    "abTest(2,2);"
   ]
  },
  {
   "cell_type": "code",
   "execution_count": null,
   "metadata": {},
   "outputs": [],
   "source": [
    "  // Setup\n",
    "function abTest(a, b) {\n",
    "  // Only change code below this line\n",
    "  if (a < 0) {\n",
    "    return undefined;\n",
    "  }\n",
    "    else if (b < 0) {\n",
    "      return undefined;\n",
    "    }\n",
    "\n",
    "  // Only change code above this line\n",
    "\n",
    "  return Math.round(Math.pow(Math.sqrt(a) + Math.sqrt(b), 2));\n",
    "}\n",
    "\n",
    "abTest(2,2);"
   ]
  },
  {
   "cell_type": "markdown",
   "metadata": {},
   "source": [
    "82 Counting Cards\n",
    "\n",
    "In the casino game Blackjack, a player can determine whether they have an advantage on the next hand over the house by keeping track of the relative number of high and low cards remaining in the deck. This is called Card Counting.\n",
    "\n",
    "Having more high cards remaining in the deck favors the player. Each card is assigned a value according to the table below. When the count is positive, the player should bet high. When the count is zero or negative, the player should bet low.\n",
    "\n",
    "Count Change / Cards\n",
    "\n",
    "+1 / 2, 3, 4, 5, 6\n",
    "\n",
    "0 / 7, 8, 9\n",
    "\n",
    "-1 / 10, 'J', 'Q', 'K', 'A'\n",
    "\n",
    "You will write a card counting function. It will receive a card parameter, which can be a number or a string, and increment or decrement the global count variable according to the card's value (see table). The function will then return a string with the current count and the string Bet if the count is positive, or Hold if the count is zero or negative. The current count and the player's decision (Bet or Hold) should be separated by a single space.\n",
    "\n",
    "Example Outputs: -3 Hold or 5 Bet\n",
    "\n",
    "Hint\n",
    "\n",
    "Do NOT reset count to 0 when value is 7, 8, or 9.\n",
    "\n",
    "Do NOT return an array.\n",
    "\n",
    "Do NOT include quotes (single or double) in the output."
   ]
  },
  {
   "cell_type": "code",
   "execution_count": null,
   "metadata": {},
   "outputs": [],
   "source": [
    "let count = 0;\n",
    "\n",
    "function cc(card) {\n",
    "  // Only change code below this line\n",
    "   \n",
    "\n",
    "  // Only change code above this line\n",
    "}\n",
    "\n",
    "cc(2); cc(3); cc(7); cc('K'); cc('A');"
   ]
  },
  {
   "cell_type": "code",
   "execution_count": null,
   "metadata": {},
   "outputs": [],
   "source": [
    "let count = 0;\n",
    "\n",
    "function cc(card) {\n",
    "  // Only change code below this line\n",
    "\n",
    "  let betOrHold = \"\";\n",
    "\n",
    "  if (card === 2) {\n",
    "    count = count + 1;\n",
    "  }\n",
    "    else if (card === 3) {\n",
    "      count = count + 1;\n",
    "    }\n",
    "    else if (card === 4) {\n",
    "      count = count + 1;\n",
    "    }\n",
    "    else if (card === 5) {\n",
    "      count = count + 1;\n",
    "    }\n",
    "    else if (card === 6) {\n",
    "      count = count + 1;\n",
    "    }\n",
    "    else if (card === 7) {\n",
    "      count = count + 0;\n",
    "    }\n",
    "    else if (card === 8) {\n",
    "      count = count + 0;\n",
    "    }\n",
    "    else if (card === 9) {\n",
    "      count = count + 0;\n",
    "    }\n",
    "    else if (card === 10) {\n",
    "      count = count - 1;\n",
    "    }\n",
    "    else if (card === 10) {\n",
    "      count = count - 1;\n",
    "    }\n",
    "    else if (card === \"J\") {\n",
    "      count = count - 1;\n",
    "    }\n",
    "    else if (card === \"Q\") {\n",
    "      count = count - 1;\n",
    "    }\n",
    "    else if (card === \"K\") {\n",
    "      count = count - 1;\n",
    "    }\n",
    "    else if (card === \"A\") {\n",
    "      count = count - 1;\n",
    "    }\n",
    "\n",
    "  if (count <= 0) {\n",
    "    betOrHold = \"Hold\";\n",
    "  }\n",
    "    else {\n",
    "      betOrHold = \"Bet\";\n",
    "    }\n",
    "\n",
    "  return count + \" \" + betOrHold;\n",
    "  // Only change code above this line\n",
    "}\n",
    "\n",
    "cc(\"K\"); cc(3); cc(7); cc('K'); cc('A');"
   ]
  },
  {
   "cell_type": "markdown",
   "metadata": {},
   "source": [
    "83 Build JavaScript Objects\n",
    "\n",
    "You may have heard the term object before.\n",
    "\n",
    "Objects are similar to arrays, except that instead of using indexes to access and modify their data, you access the data in objects through what are called properties.\n",
    "\n",
    "Objects are useful for storing data in a structured way, and can represent real world objects, like a cat.\n",
    "\n",
    "Here's a sample cat object:"
   ]
  },
  {
   "cell_type": "code",
   "execution_count": null,
   "metadata": {},
   "outputs": [],
   "source": [
    "const cat = {\n",
    "    \"name\": \"Whiskers\",\n",
    "    \"legs\": 4,\n",
    "    \"tails\": 1,\n",
    "    \"enemies\": [\"Water\", \"Dogs\"]\n",
    "  };"
   ]
  },
  {
   "cell_type": "markdown",
   "metadata": {},
   "source": [
    "In this example, all the properties are stored as strings, such as name, legs, and tails. However, you can also use numbers as properties. You can even omit the quotes for single-word string properties, as follows:\n"
   ]
  },
  {
   "cell_type": "code",
   "execution_count": null,
   "metadata": {},
   "outputs": [],
   "source": [
    "const anotherObject = {\n",
    "    make: \"Ford\",\n",
    "    5: \"five\",\n",
    "    \"model\": \"focus\"\n",
    "  };"
   ]
  },
  {
   "cell_type": "markdown",
   "metadata": {},
   "source": [
    "However, if your object has any non-string properties, JavaScript will automatically typecast them as strings.\n",
    "\n",
    "Make an object that represents a dog called myDog which contains the properties name (a string), legs, tails and friends.\n",
    "\n",
    "You can set these object properties to whatever values you want, as long as name is a string, legs and tails are numbers, and friends is an array."
   ]
  },
  {
   "cell_type": "code",
   "execution_count": null,
   "metadata": {},
   "outputs": [],
   "source": [
    "const myDog = {\n",
    "    // Only change code below this line\n",
    "    \"name\": \"dog\",\n",
    "    \"legs\": 1,\n",
    "    \"tails\": 4,\n",
    "    \"friends\": [\"Other Mutant Dogs\", \"Mutant Cats\"]\n",
    "    // Only change code above this line\n",
    "  };"
   ]
  },
  {
   "cell_type": "code",
   "execution_count": null,
   "metadata": {},
   "outputs": [],
   "source": [
    "const myDog = {\n",
    "    // Only change code below this line\n",
    "  \n",
    "  \n",
    "    // Only change code above this line\n",
    "  };"
   ]
  },
  {
   "cell_type": "markdown",
   "metadata": {},
   "source": [
    "84 Accessing Object Properties with Dot Notation\n",
    "\n",
    "There are two ways to access the properties of an object: dot notation (.) and bracket notation ([]), similar to an array.\n",
    "\n",
    "Dot notation is what you use when you know the name of the property you're trying to access ahead of time.\n",
    "\n",
    "Here is a sample of using dot notation (.) to read an object's property:"
   ]
  },
  {
   "cell_type": "code",
   "execution_count": null,
   "metadata": {},
   "outputs": [],
   "source": [
    "const myObj = {\n",
    "    prop1: \"val1\",\n",
    "    prop2: \"val2\"\n",
    "  };\n",
    "  \n",
    "  const prop1val = myObj.prop1;\n",
    "  const prop2val = myObj.prop2;"
   ]
  },
  {
   "cell_type": "markdown",
   "metadata": {},
   "source": [
    "\n",
    "prop1val would have a value of the string val1, and prop2val would have a value of the string val2.\n",
    "\n",
    "Read in the property values of testObj using dot notation. Set the variable hatValue equal to the object's property hat and set the variable shirtValue equal to the object's property shirt."
   ]
  },
  {
   "cell_type": "code",
   "execution_count": null,
   "metadata": {},
   "outputs": [],
   "source": [
    "// Setup\n",
    "const testObj = {\n",
    "    \"hat\": \"ballcap\",\n",
    "    \"shirt\": \"jersey\",\n",
    "    \"shoes\": \"cleats\"\n",
    "  };\n",
    "  \n",
    "  // Only change code below this line\n",
    "  const hatValue = testObj.hat;      // Change this line\n",
    "  const shirtValue = testObj.shirt;    // Change this line"
   ]
  },
  {
   "cell_type": "code",
   "execution_count": null,
   "metadata": {},
   "outputs": [],
   "source": [
    "// Setup\n",
    "const testObj = {\n",
    "    \"hat\": \"ballcap\",\n",
    "    \"shirt\": \"jersey\",\n",
    "    \"shoes\": \"cleats\"\n",
    "  };\n",
    "  \n",
    "  // Only change code below this line\n",
    "  const hatValue = testObj;      // Change this line\n",
    "  const shirtValue = testObj;    // Change this line"
   ]
  },
  {
   "cell_type": "markdown",
   "metadata": {},
   "source": [
    "85 Accessing Object Properties with Bracket Notation\n",
    "\n",
    "The second way to access the properties of an object is bracket notation ([]). If the property of the object you are trying to access has a space in its name, you will need to use bracket notation.\n",
    "\n",
    "However, you can still use bracket notation on object properties without spaces.\n",
    "\n",
    "Here is a sample of using bracket notation to read an object's property:"
   ]
  },
  {
   "cell_type": "code",
   "execution_count": null,
   "metadata": {},
   "outputs": [],
   "source": [
    "const myObj = {\n",
    "    \"Space Name\": \"Kirk\",\n",
    "    \"More Space\": \"Spock\",\n",
    "    \"NoSpace\": \"USS Enterprise\"\n",
    "  };\n",
    "  \n",
    "  myObj[\"Space Name\"];\n",
    "  myObj['More Space'];\n",
    "  myObj[\"NoSpace\"];"
   ]
  },
  {
   "cell_type": "markdown",
   "metadata": {},
   "source": [
    "myObj[\"Space Name\"] would be the string Kirk, myObj['More Space'] would be the string Spock, and myObj[ \"NoSpace\" ] would be the string USS Enterprise.\n",
    "\n",
    "Note that property names with spaces in them must be in quotes (single or double).\n",
    "\n",
    "Read the values of the properties an entree and the drink of testObj using bracket notation and assign them to entreeValue and drinkValue respectively."
   ]
  },
  {
   "cell_type": "code",
   "execution_count": null,
   "metadata": {},
   "outputs": [],
   "source": [
    "// Setup\n",
    "const testObj = {\n",
    "    \"an entree\": \"hamburger\",\n",
    "    \"my side\": \"veggies\",\n",
    "    \"the drink\": \"water\"\n",
    "  };\n",
    "  \n",
    "  // Only change code below this line\n",
    "  const entreeValue = testObj[\"an entree\"];   // Change this line\n",
    "  const drinkValue = testObj[\"the drink\"];    // Change this line"
   ]
  },
  {
   "cell_type": "code",
   "execution_count": null,
   "metadata": {},
   "outputs": [],
   "source": [
    "// Setup\n",
    "const testObj = {\n",
    "    \"an entree\": \"hamburger\",\n",
    "    \"my side\": \"veggies\",\n",
    "    \"the drink\": \"water\"\n",
    "  };\n",
    "  \n",
    "  // Only change code below this line\n",
    "  const entreeValue = testObj;   // Change this line\n",
    "  const drinkValue = testObj;    // Change this line"
   ]
  },
  {
   "cell_type": "markdown",
   "metadata": {},
   "source": [
    "86 Accessing Object Properties with Variables\n",
    "\n",
    "Another use of bracket notation on objects is to access a property which is stored as the value of a variable. This can be very useful for iterating through an object's properties or when accessing a lookup table.\n",
    "\n",
    "Here is an example of using a variable to access a property:"
   ]
  },
  {
   "cell_type": "code",
   "execution_count": null,
   "metadata": {},
   "outputs": [],
   "source": [
    "const dogs = {\n",
    "    Fido: \"Mutt\",\n",
    "    Hunter: \"Doberman\",\n",
    "    Snoopie: \"Beagle\"\n",
    "  };\n",
    "  \n",
    "  const myDog = \"Hunter\";\n",
    "  const myBreed = dogs[myDog];\n",
    "  console.log(myBreed);"
   ]
  },
  {
   "cell_type": "markdown",
   "metadata": {},
   "source": [
    "The string Doberman would be displayed in the console.\n",
    "\n",
    "Note that we do not use quotes around the variable name when using it to access the property because we are using the value of the variable, not the name.\n",
    "\n",
    "Set the playerNumber variable to 16. Then, use the variable to look up the player's name and assign it to player."
   ]
  },
  {
   "cell_type": "code",
   "execution_count": null,
   "metadata": {},
   "outputs": [],
   "source": [
    "// Setup\n",
    "const testObj = {\n",
    "    12: \"Namath\",\n",
    "    16: \"Montana\",\n",
    "    19: \"Unitas\"\n",
    "  };\n",
    "  \n",
    "  // Only change code below this line\n",
    "  const playerNumber = 16;  // Change this line\n",
    "  const player = testObj[playerNumber];   // Change this line"
   ]
  },
  {
   "cell_type": "code",
   "execution_count": null,
   "metadata": {},
   "outputs": [],
   "source": [
    "// Setup\n",
    "const testObj = {\n",
    "    12: \"Namath\",\n",
    "    16: \"Montana\",\n",
    "    19: \"Unitas\"\n",
    "  };\n",
    "  \n",
    "  // Only change code below this line\n",
    "  const playerNumber = 42;  // Change this line\n",
    "  const player = testObj;   // Change this line"
   ]
  },
  {
   "cell_type": "markdown",
   "metadata": {},
   "source": [
    "87 Updating Object Properties\n",
    "\n",
    "After you've created a JavaScript object, you can update its properties at any time just like you would update any other variable. You can use either dot or bracket notation to update.\n",
    "\n",
    "For example, let's look at ourDog:"
   ]
  },
  {
   "cell_type": "code",
   "execution_count": null,
   "metadata": {},
   "outputs": [],
   "source": [
    "const ourDog = {\n",
    "    \"name\": \"Camper\",\n",
    "    \"legs\": 4,\n",
    "    \"tails\": 1,\n",
    "    \"friends\": [\"everything!\"]\n",
    "  };"
   ]
  },
  {
   "cell_type": "markdown",
   "metadata": {},
   "source": [
    "Since he's a particularly happy dog, let's change his name to the string Happy Camper. Here's how we update his object's name property: ourDog.name = \"Happy Camper\"; or ourDog[\"name\"] = \"Happy Camper\"; Now when we evaluate ourDog.name, instead of getting Camper, we'll get his new name, Happy Camper.\n",
    "\n",
    "Update the myDog object's name property. Let's change her name from Coder to Happy Coder. You can use either dot or bracket notation."
   ]
  },
  {
   "cell_type": "code",
   "execution_count": null,
   "metadata": {},
   "outputs": [],
   "source": [
    "// Setup\n",
    "const myDog = {\n",
    "    \"name\": \"Coder\",\n",
    "    \"legs\": 4,\n",
    "    \"tails\": 1,\n",
    "    \"friends\": [\"freeCodeCamp Campers\"]\n",
    "  };\n",
    "  \n",
    "  // Only change code below this line\n",
    "myDog[\"name\"] = \"Happy Coder\";"
   ]
  },
  {
   "cell_type": "code",
   "execution_count": null,
   "metadata": {},
   "outputs": [],
   "source": [
    "// Setup\n",
    "const myDog = {\n",
    "    \"name\": \"Coder\",\n",
    "    \"legs\": 4,\n",
    "    \"tails\": 1,\n",
    "    \"friends\": [\"freeCodeCamp Campers\"]\n",
    "  };\n",
    "  \n",
    "  // Only change code below this line\n",
    "  "
   ]
  },
  {
   "cell_type": "markdown",
   "metadata": {},
   "source": [
    "88 Add New Properties to a JavaScript Object\n",
    "\n",
    "You can add new properties to existing JavaScript objects the same way you would modify them.\n",
    "\n",
    "Here's how we would add a bark property to ourDog:"
   ]
  },
  {
   "cell_type": "code",
   "execution_count": null,
   "metadata": {},
   "outputs": [],
   "source": [
    "ourDog.bark = \"bow-wow\";"
   ]
  },
  {
   "cell_type": "markdown",
   "metadata": {},
   "source": [
    "or"
   ]
  },
  {
   "cell_type": "code",
   "execution_count": null,
   "metadata": {},
   "outputs": [],
   "source": [
    "ourDog[\"bark\"] = \"bow-wow\";"
   ]
  },
  {
   "cell_type": "markdown",
   "metadata": {},
   "source": [
    "Now when we evaluate ourDog.bark, we'll get his bark, bow-wow.\n",
    "\n",
    "Example:"
   ]
  },
  {
   "cell_type": "code",
   "execution_count": null,
   "metadata": {},
   "outputs": [],
   "source": [
    "const ourDog = {\n",
    "    \"name\": \"Camper\",\n",
    "    \"legs\": 4,\n",
    "    \"tails\": 1,\n",
    "    \"friends\": [\"everything!\"]\n",
    "  };\n",
    "  \n",
    "  ourDog.bark = \"bow-wow\";"
   ]
  },
  {
   "cell_type": "markdown",
   "metadata": {},
   "source": [
    "Add a bark property to myDog and set it to a dog sound, such as \"woof\". You may use either dot or bracket notation."
   ]
  },
  {
   "cell_type": "code",
   "execution_count": null,
   "metadata": {},
   "outputs": [],
   "source": [
    "const myDog = {\n",
    "    \"name\": \"Happy Coder\",\n",
    "    \"legs\": 4,\n",
    "    \"tails\": 1,\n",
    "    \"friends\": [\"freeCodeCamp Campers\"]\n",
    "  };\n",
    "  "
   ]
  },
  {
   "cell_type": "code",
   "execution_count": null,
   "metadata": {},
   "outputs": [],
   "source": [
    "const myDog = {\n",
    "    \"name\": \"Happy Coder\",\n",
    "    \"legs\": 4,\n",
    "    \"tails\": 1,\n",
    "    \"friends\": [\"freeCodeCamp Campers\"]\n",
    "  };\n",
    "  \n",
    "  myDog[\"bark\"] = \"reeee\";"
   ]
  },
  {
   "cell_type": "markdown",
   "metadata": {},
   "source": [
    "89 Delete Properties from a JavaScript Object\n",
    "\n",
    "We can also delete properties from objects like this:"
   ]
  },
  {
   "cell_type": "code",
   "execution_count": null,
   "metadata": {},
   "outputs": [],
   "source": [
    "delete ourDog.bark;"
   ]
  },
  {
   "cell_type": "markdown",
   "metadata": {},
   "source": [
    "Example:"
   ]
  },
  {
   "cell_type": "code",
   "execution_count": null,
   "metadata": {},
   "outputs": [],
   "source": [
    "const ourDog = {\n",
    "    \"name\": \"Camper\",\n",
    "    \"legs\": 4,\n",
    "    \"tails\": 1,\n",
    "    \"friends\": [\"everything!\"],\n",
    "    \"bark\": \"bow-wow\"\n",
    "  };\n",
    "  \n",
    "  delete ourDog.bark;"
   ]
  },
  {
   "cell_type": "markdown",
   "metadata": {},
   "source": [
    "After the last line shown above, ourDog looks like:"
   ]
  },
  {
   "cell_type": "code",
   "execution_count": null,
   "metadata": {},
   "outputs": [],
   "source": [
    "// {\n",
    "//     \"name\": \"Camper\",\n",
    "//     \"legs\": 4,\n",
    "//     \"tails\": 1,\n",
    "//     \"friends\": [\"everything!\"]\n",
    "//   }"
   ]
  },
  {
   "cell_type": "markdown",
   "metadata": {},
   "source": [
    "Delete the tails property from myDog. You may use either dot or bracket notation."
   ]
  },
  {
   "cell_type": "code",
   "execution_count": null,
   "metadata": {},
   "outputs": [],
   "source": [
    "// Setup\n",
    "const myDog = {\n",
    "    \"name\": \"Happy Coder\",\n",
    "    \"legs\": 4,\n",
    "    \"tails\": 1,\n",
    "    \"friends\": [\"freeCodeCamp Campers\"],\n",
    "    \"bark\": \"woof\"\n",
    "  };\n",
    "  \n",
    "  // Only change code below this line\n",
    "  "
   ]
  },
  {
   "cell_type": "code",
   "execution_count": null,
   "metadata": {},
   "outputs": [],
   "source": [
    "// Setup\n",
    "const myDog = {\n",
    "    \"name\": \"Happy Coder\",\n",
    "    \"legs\": 4,\n",
    "    \"tails\": 1,\n",
    "    \"friends\": [\"freeCodeCamp Campers\"],\n",
    "    \"bark\": \"woof\"\n",
    "  };\n",
    "  \n",
    "  // Only change code below this line\n",
    "  delete myDog[\"tails\"];"
   ]
  },
  {
   "cell_type": "markdown",
   "metadata": {},
   "source": [
    "90 Using Objects for Lookups\n",
    "\n",
    "Objects can be thought of as a key/value storage, like a dictionary. If you have tabular data, you can use an object to lookup values rather than a switch statement or an if/else chain. This is most useful when you know that your input data is limited to a certain range.\n",
    "\n",
    "Here is an example of a simple reverse alphabet lookup:"
   ]
  },
  {
   "cell_type": "code",
   "execution_count": null,
   "metadata": {},
   "outputs": [],
   "source": [
    "const alpha = {\n",
    "    1:\"Z\",\n",
    "    2:\"Y\",\n",
    "    3:\"X\",\n",
    "    4:\"W\",\n",
    "    //...\n",
    "    24:\"C\",\n",
    "    25:\"B\",\n",
    "    26:\"A\"\n",
    "  };\n",
    "  \n",
    "  const thirdLetter = alpha[2];\n",
    "  const lastLetter = alpha[24];\n",
    "  \n",
    "  const value = 2;\n",
    "  const valueLookup = alpha[value];"
   ]
  },
  {
   "cell_type": "markdown",
   "metadata": {},
   "source": [
    "thirdLetter is the string Y, lastLetter is the string C, and valueLookup is the string Y.\n",
    "\n",
    "Convert the switch statement into an object called lookup. Use it to look up val and assign the associated string to the result variable."
   ]
  },
  {
   "cell_type": "code",
   "execution_count": null,
   "metadata": {},
   "outputs": [],
   "source": [
    "// Setup\n",
    "function phoneticLookup(val) {\n",
    "    let result = \"\";\n",
    "  \n",
    "    // Only change code below this line\n",
    "    switch(val) {\n",
    "      case \"alpha\":\n",
    "        result = \"Adams\";\n",
    "        break;\n",
    "      case \"bravo\":\n",
    "        result = \"Boston\";\n",
    "        break;\n",
    "      case \"charlie\":\n",
    "        result = \"Chicago\";\n",
    "        break;\n",
    "      case \"delta\":\n",
    "        result = \"Denver\";\n",
    "        break;\n",
    "      case \"echo\":\n",
    "        result = \"Easy\";\n",
    "        break;\n",
    "      case \"foxtrot\":\n",
    "        result = \"Frank\";\n",
    "    }\n",
    "  \n",
    "    // Only change code above this line\n",
    "    return result;\n",
    "  }\n",
    "  \n",
    "  phoneticLookup(\"charlie\");"
   ]
  },
  {
   "cell_type": "code",
   "execution_count": null,
   "metadata": {},
   "outputs": [],
   "source": [
    "// Setup\n",
    "function phoneticLookup(val) {\n",
    "    let result = \"\";\n",
    "  \n",
    "    // Only change code below this line\n",
    "    const lookup = {\n",
    "      \"alpha\": \"Adams\",\n",
    "      \"bravo\": \"Boston\",\n",
    "      \"charlie\": \"Chicago\",\n",
    "      \"delta\": \"Denver\",\n",
    "      \"echo\": \"Easy\",\n",
    "      \"foxtrot\": \"Frank\"\n",
    "      //\"\": undefined\n",
    "    };\n",
    "\n",
    "    result = lookup[val];\n",
    "    // Only change code above this line\n",
    "    return result;\n",
    "  }\n",
    "  \n",
    "  phoneticLookup(\"charlie\");"
   ]
  },
  {
   "cell_type": "markdown",
   "metadata": {},
   "source": [
    "91 Testing Objects for Properties\n",
    "\n",
    "Sometimes it is useful to check if the property of a given object exists or not. We can use the .hasOwnProperty(propname) method of objects to determine if that object has the given property name. .hasOwnProperty() returns true or false if the property is found or not.\n",
    "\n",
    "Example"
   ]
  },
  {
   "cell_type": "code",
   "execution_count": null,
   "metadata": {},
   "outputs": [],
   "source": [
    "const myObj = {\n",
    "    top: \"hat\",\n",
    "    bottom: \"pants\"\n",
    "  };\n",
    "  \n",
    "  myObj.hasOwnProperty(\"top\");\n",
    "  myObj.hasOwnProperty(\"middle\");"
   ]
  },
  {
   "cell_type": "markdown",
   "metadata": {},
   "source": [
    "The first hasOwnProperty returns true, while the second returns false.\n",
    "\n",
    "Modify the function checkObj to test if an object passed to the function (obj) contains a specific property (checkProp). If the property is found, return that property's value. If not, return \"Not Found\"."
   ]
  },
  {
   "cell_type": "code",
   "execution_count": null,
   "metadata": {},
   "outputs": [],
   "source": [
    "function checkObj(obj, checkProp) {\n",
    "    // Only change code below this line\n",
    "    return \"Change Me!\";\n",
    "    // Only change code above this line\n",
    "  }"
   ]
  },
  {
   "cell_type": "code",
   "execution_count": null,
   "metadata": {},
   "outputs": [],
   "source": [
    "function checkObj(obj, checkProp) {\n",
    "    // Only change code below this line\n",
    "    if (obj.hasOwnProperty(checkProp)) {\n",
    "        return obj[checkProp];\n",
    "    }\n",
    "        else {\n",
    "            return \"Not Found\";\n",
    "        }\n",
    "    // Only change code above this line\n",
    "  }\n",
    "\n",
    "checkObj({gift: \"pony\", pet: \"kitten\", bed: \"sleigh\"}, \"gift\")"
   ]
  },
  {
   "cell_type": "markdown",
   "metadata": {},
   "source": [
    "92 Manipulating Complex Objects\n",
    "\n",
    "Sometimes you may want to store data in a flexible Data Structure. A JavaScript object is one way to handle flexible data. They allow for arbitrary combinations of strings, numbers, booleans, arrays, functions, and objects.\n",
    "\n",
    "Here's an example of a complex data structure:"
   ]
  },
  {
   "cell_type": "code",
   "execution_count": null,
   "metadata": {},
   "outputs": [],
   "source": [
    "const ourMusic = [\n",
    "    {\n",
    "      \"artist\": \"Daft Punk\",\n",
    "      \"title\": \"Homework\",\n",
    "      \"release_year\": 1997,\n",
    "      \"formats\": [ \n",
    "        \"CD\", \n",
    "        \"Cassette\", \n",
    "        \"LP\"\n",
    "      ],\n",
    "      \"gold\": true\n",
    "    }\n",
    "  ];"
   ]
  },
  {
   "cell_type": "markdown",
   "metadata": {},
   "source": [
    "This is an array which contains one object inside. The object has various pieces of metadata about an album. It also has a nested formats array. If you want to add more album records, you can do this by adding records to the top level array. Objects hold data in a property, which has a key-value format. In the example above, \"artist\": \"Daft Punk\" is a property that has a key of artist and a value of Daft Punk.\n",
    "\n",
    "Note: You will need to place a comma after every object in the array, unless it is the last object in the array.\n",
    "\n",
    "Add a new album to the myMusic array. Add artist and title strings, release_year number, and a formats array of strings."
   ]
  },
  {
   "cell_type": "code",
   "execution_count": null,
   "metadata": {},
   "outputs": [],
   "source": [
    "const myMusic = [\n",
    "    {\n",
    "      \"artist\": \"Billy Joel\",\n",
    "      \"title\": \"Piano Man\",\n",
    "      \"release_year\": 1973,\n",
    "      \"formats\": [\n",
    "        \"CD\",\n",
    "        \"8T\",\n",
    "        \"LP\"\n",
    "      ],\n",
    "      \"gold\": true\n",
    "    }\n",
    "  ];"
   ]
  },
  {
   "cell_type": "code",
   "execution_count": null,
   "metadata": {},
   "outputs": [],
   "source": [
    "const myMusic = [\n",
    "    {\n",
    "      \"artist\": \"Billy Joel\",\n",
    "      \"title\": \"Piano Man\",\n",
    "      \"release_year\": 1973,\n",
    "      \"formats\": [\n",
    "        \"CD\",\n",
    "        \"8T\",\n",
    "        \"LP\"\n",
    "      ],\n",
    "      \"gold\": true\n",
    "    },\n",
    "    {\n",
    "      \"artist\": \"Joep Beving\",\n",
    "      \"title\": \"sleeping lotus\",\n",
    "      \"release_year\": 2019,\n",
    "      \"formats\": [\n",
    "        \"spotify\",\n",
    "        \"youtube\",\n",
    "        \"vinyl\"\n",
    "      ]\n",
    "    }\n",
    "  ];"
   ]
  },
  {
   "cell_type": "markdown",
   "metadata": {},
   "source": [
    "93 Accessing Nested Objects\n",
    "\n",
    "The sub-properties of objects can be accessed by chaining together the dot or bracket notation.\n",
    "\n",
    "Here is a nested object:"
   ]
  },
  {
   "cell_type": "code",
   "execution_count": null,
   "metadata": {},
   "outputs": [],
   "source": [
    "const ourStorage = {\n",
    "    \"desk\": {\n",
    "      \"drawer\": \"stapler\"\n",
    "    },\n",
    "    \"cabinet\": {\n",
    "      \"top drawer\": { \n",
    "        \"folder1\": \"a file\",\n",
    "        \"folder2\": \"secrets\"\n",
    "      },\n",
    "      \"bottom drawer\": \"soda\"\n",
    "    }\n",
    "  };\n",
    "  \n",
    "  ourStorage.cabinet[\"top drawer\"].folder2;\n",
    "  ourStorage.desk.drawer;"
   ]
  },
  {
   "cell_type": "markdown",
   "metadata": {},
   "source": [
    "ourStorage.cabinet[\"top drawer\"].folder2 would be the string secrets, and ourStorage.desk.drawer would be the string stapler.\n",
    "\n",
    "Access the myStorage object and assign the contents of the glove box property to the gloveBoxContents variable. Use dot notation for all properties where possible, otherwise use bracket notation."
   ]
  },
  {
   "cell_type": "code",
   "execution_count": null,
   "metadata": {},
   "outputs": [],
   "source": [
    "const myStorage = {\n",
    "    \"car\": {\n",
    "      \"inside\": {\n",
    "        \"glove box\": \"maps\",\n",
    "        \"passenger seat\": \"crumbs\"\n",
    "       },\n",
    "      \"outside\": {\n",
    "        \"trunk\": \"jack\"\n",
    "      }\n",
    "    }\n",
    "  };\n",
    "  \n",
    "  const gloveBoxContents = myStorage.car.inside[\"glove box\"];"
   ]
  },
  {
   "cell_type": "code",
   "execution_count": null,
   "metadata": {},
   "outputs": [],
   "source": [
    "const myStorage = {\n",
    "    \"car\": {\n",
    "      \"inside\": {\n",
    "        \"glove box\": \"maps\",\n",
    "        \"passenger seat\": \"crumbs\"\n",
    "       },\n",
    "      \"outside\": {\n",
    "        \"trunk\": \"jack\"\n",
    "      }\n",
    "    }\n",
    "  };\n",
    "  \n",
    "  const gloveBoxContents = undefined;"
   ]
  },
  {
   "cell_type": "markdown",
   "metadata": {},
   "source": [
    "94 Accessing Nested Arrays\n",
    "\n",
    "As we have seen in earlier examples, objects can contain both nested objects and nested arrays. Similar to accessing nested objects, array bracket notation can be chained to access nested arrays.\n",
    "\n",
    "Here is an example of how to access a nested array:"
   ]
  },
  {
   "cell_type": "code",
   "execution_count": null,
   "metadata": {},
   "outputs": [],
   "source": [
    "const ourPets = [\n",
    "    {\n",
    "      animalType: \"cat\",\n",
    "      names: [\n",
    "        \"Meowzer\",\n",
    "        \"Fluffy\",\n",
    "        \"Kit-Cat\"\n",
    "      ]\n",
    "    },\n",
    "    {\n",
    "      animalType: \"dog\",\n",
    "      names: [\n",
    "        \"Spot\",\n",
    "        \"Bowser\",\n",
    "        \"Frankie\"\n",
    "      ]\n",
    "    }\n",
    "  ];\n",
    "  \n",
    "  ourPets[0].names[1];\n",
    "  ourPets[1].names[0];"
   ]
  },
  {
   "cell_type": "markdown",
   "metadata": {},
   "source": [
    "ourPets[ 0 ].names[ 1 ] would be the string Fluffy, and ourPets[ 1 ].names[ 0 ] would be the string Spot.\n",
    "\n",
    "Using dot and bracket notation, set the variable secondTree to the second item in the trees list from the myPlants object."
   ]
  },
  {
   "cell_type": "code",
   "execution_count": null,
   "metadata": {},
   "outputs": [],
   "source": [
    "const myPlants = [\n",
    "    {\n",
    "      type: \"flowers\",\n",
    "      list: [\n",
    "        \"rose\",\n",
    "        \"tulip\",\n",
    "        \"dandelion\"\n",
    "      ]\n",
    "    },\n",
    "    {\n",
    "      type: \"trees\",\n",
    "      list: [\n",
    "        \"fir\",\n",
    "        \"pine\",\n",
    "        \"birch\"\n",
    "      ]\n",
    "    }\n",
    "  ];\n",
    "  \n",
    "  const secondTree = \"\";"
   ]
  },
  {
   "cell_type": "code",
   "execution_count": null,
   "metadata": {},
   "outputs": [],
   "source": [
    "const myPlants = [\n",
    "    {\n",
    "      type: \"flowers\",\n",
    "      list: [\n",
    "        \"rose\",\n",
    "        \"tulip\",\n",
    "        \"dandelion\"\n",
    "      ]\n",
    "    },\n",
    "    {\n",
    "      type: \"trees\",\n",
    "      list: [\n",
    "        \"fir\",\n",
    "        \"pine\",\n",
    "        \"birch\"\n",
    "      ]\n",
    "    }\n",
    "  ];\n",
    "  \n",
    "  const secondTree = myPlants[1].list[1];"
   ]
  },
  {
   "cell_type": "markdown",
   "metadata": {},
   "source": [
    "95 Record Collection\n",
    "\n",
    "You are given an object literal representing a part of your musical album collection. Each album has a unique id number as its key and several other properties. Not all albums have complete information.\n",
    "\n",
    "You start with an updateRecords function that takes an object literal, records, containing the musical album collection, an id, a prop (like artist or tracks), and a value. Complete the function using the rules below to modify the object passed to the function.\n",
    "\n",
    "\n",
    "Your function must always return the entire record collection object.\n",
    "\n",
    "If prop isn't tracks and value isn't an empty string, update or set that album's prop to value.\n",
    "\n",
    "If prop is tracks but the album doesn't have a tracks property, create an empty array and add value to it.\n",
    "\n",
    "If prop is tracks and value isn't an empty string, add value to the end of the album's existing tracks array.\n",
    "\n",
    "If value is an empty string, delete the given prop property from the album.\n",
    "\n",
    "\n",
    "Note: A copy of the recordCollection object is used for the tests."
   ]
  },
  {
   "cell_type": "code",
   "execution_count": null,
   "metadata": {},
   "outputs": [],
   "source": [
    "// Setup\n",
    "const recordCollection = {\n",
    "    2548: {\n",
    "      albumTitle: 'Slippery When Wet',\n",
    "      artist: 'Bon Jovi',\n",
    "      tracks: ['Let It Rock', 'You Give Love a Bad Name']\n",
    "    },\n",
    "    2468: {\n",
    "      albumTitle: '1999',\n",
    "      artist: 'Prince',\n",
    "      tracks: ['1999', 'Little Red Corvette']\n",
    "    },\n",
    "    1245: {\n",
    "      artist: 'Robert Palmer',\n",
    "      tracks: []\n",
    "    },\n",
    "    5439: {\n",
    "      albumTitle: 'ABBA Gold'\n",
    "    }  \n",
    "  }\n",
    "  \n",
    "  // Only change code below this line\n",
    "  function updateRecords(records, id, prop, value) {\n",
    "    if (prop != \"tracks\" && value != \"\") {\n",
    "      records[id][prop] = value;\n",
    "      // If prop isn't tracks and value isn't an empty string, update or set that album's prop to value.\n",
    "    }\n",
    "      else if (prop == \"tracks\" && !records[id].hasOwnProperty(prop)) {\n",
    "        records[id][prop] = [];\n",
    "        records[id][prop].push(value);\n",
    "        // If prop is tracks but the album doesn't have a tracks property, create an empty array and add value to it. \n",
    "        console.log(records[id]);\n",
    "      }\n",
    "      else if (prop == \"tracks\" && value != \"\") {\n",
    "        records[id][prop].push(value);\n",
    "        // If prop is tracks and value isn't an empty string, add value to the end of the album's existing tracks array.\n",
    "      }\n",
    "      else if (value == \"\") {\n",
    "        delete records[id][prop];\n",
    "        // If value is an empty string, delete the given prop property from the album.       \n",
    "      }\n",
    "    return records;\n",
    "  }\n",
    "  \n",
    "  // updateRecords(recordCollection, 5439, 'artist', 'ABBA');\n",
    "  updateRecords(recordCollection, 2468, \"tracks\", \"Free\")"
   ]
  },
  {
   "cell_type": "code",
   "execution_count": null,
   "metadata": {},
   "outputs": [],
   "source": [
    "// Setup\n",
    "const recordCollection = {\n",
    "    2548: {\n",
    "      albumTitle: 'Slippery When Wet',\n",
    "      artist: 'Bon Jovi',\n",
    "      tracks: ['Let It Rock', 'You Give Love a Bad Name']\n",
    "    },\n",
    "    2468: {\n",
    "      albumTitle: '1999',\n",
    "      artist: 'Prince',\n",
    "      tracks: ['1999', 'Little Red Corvette']\n",
    "    },\n",
    "    1245: {\n",
    "      artist: 'Robert Palmer',\n",
    "      tracks: []\n",
    "    },\n",
    "    5439: {\n",
    "      albumTitle: 'ABBA Gold'\n",
    "    }\n",
    "  };\n",
    "  \n",
    "  // Only change code below this line\n",
    "  function updateRecords(records, id, prop, value) {\n",
    "    return records;\n",
    "  }\n",
    "  \n",
    "  updateRecords(recordCollection, 5439, 'artist', 'ABBA');"
   ]
  },
  {
   "cell_type": "markdown",
   "metadata": {},
   "source": [
    "96 Iterate with JavaScript While Loops\n",
    "\n",
    "You can run the same code multiple times by using a loop.\n",
    "\n",
    "The first type of loop we will learn is called a while loop because it runs while a specified condition is true and stops once that condition is no longer true."
   ]
  },
  {
   "cell_type": "code",
   "execution_count": null,
   "metadata": {},
   "outputs": [],
   "source": [
    "const ourArray = [];\n",
    "let i = 0;\n",
    "\n",
    "while (i < 5) {\n",
    "  ourArray.push(i);\n",
    "  i++;\n",
    "}"
   ]
  },
  {
   "cell_type": "markdown",
   "metadata": {},
   "source": [
    "In the code example above, the while loop will execute 5 times and append the numbers 0 through 4 to ourArray.\n",
    "\n",
    "Let's try getting a while loop to work by pushing values to an array.\n",
    "\n",
    "Add the numbers 5 through 0 (inclusive) in descending order to myArray using a while loop."
   ]
  },
  {
   "cell_type": "code",
   "execution_count": null,
   "metadata": {},
   "outputs": [],
   "source": [
    "// Setup\n",
    "const myArray = [];\n",
    "\n",
    "// Only change code below this line\n",
    "let num = 0;\n",
    "\n",
    "while (num < 6) {\n",
    "    myArray.unshift(num);\n",
    "    num++;\n",
    "}\n",
    "\n",
    "console.log(myArray)"
   ]
  },
  {
   "cell_type": "code",
   "execution_count": null,
   "metadata": {},
   "outputs": [],
   "source": [
    "// Setup\n",
    "const myArray = [];\n",
    "\n",
    "// Only change code below this line"
   ]
  },
  {
   "cell_type": "markdown",
   "metadata": {},
   "source": [
    "97 Iterate with JavaScript For Loops\n",
    "\n",
    "You can run the same code multiple times by using a loop.\n",
    "\n",
    "The most common type of JavaScript loop is called a for loop because it runs for a specific number of times.\n",
    "\n",
    "For loops are declared with three optional expressions separated by semicolons:\n",
    "\n",
    "for (a; b; c), where a is the initialization statement, b is the condition statement, and c is the final expression.\n",
    "\n",
    "The initialization statement is executed one time only before the loop starts. It is typically used to define and setup your loop variable.\n",
    "\n",
    "The condition statement is evaluated at the beginning of every loop iteration and will continue as long as it evaluates to true. When the condition is false at the start of the iteration, the loop will stop executing. This means if the condition starts as false, your loop will never execute.\n",
    "\n",
    "The final expression is executed at the end of each loop iteration, prior to the next condition check and is usually used to increment or decrement your loop counter.\n",
    "\n",
    "In the following example we initialize with i = 0 and iterate while our condition i < 5 is true. We'll increment i by 1 in each loop iteration with i++ as our final expression."
   ]
  },
  {
   "cell_type": "code",
   "execution_count": null,
   "metadata": {},
   "outputs": [],
   "source": [
    "const ourArray = [];\n",
    "\n",
    "for (let i = 0; i < 5; i++) {\n",
    "  ourArray.push(i);\n",
    "}"
   ]
  },
  {
   "cell_type": "markdown",
   "metadata": {},
   "source": [
    "ourArray will now have the value [0, 1, 2, 3, 4].\n",
    "\n",
    "Use a for loop to push the values 1 through 5 onto myArray."
   ]
  },
  {
   "cell_type": "code",
   "execution_count": null,
   "metadata": {},
   "outputs": [],
   "source": [
    "// Setup\n",
    "const myArray = [];\n",
    "\n",
    "// Only change code below this line\n",
    "for (\n",
    "    let i = 1; i < 6; i++) {\n",
    "    myArray.push(i);\n",
    "}"
   ]
  },
  {
   "cell_type": "code",
   "execution_count": null,
   "metadata": {},
   "outputs": [],
   "source": [
    "// Setup\n",
    "const myArray = [];\n",
    "\n",
    "// Only change code below this line\n"
   ]
  },
  {
   "cell_type": "markdown",
   "metadata": {},
   "source": [
    "98 Iterate Odd Numbers With a For Loop\n",
    "\n",
    "For loops don't have to iterate one at a time. By changing our final-expression, we can count by even numbers.\n",
    "\n",
    "We'll start at i = 0 and loop while i < 10. We'll increment i by 2 each loop with i += 2."
   ]
  },
  {
   "cell_type": "code",
   "execution_count": null,
   "metadata": {},
   "outputs": [],
   "source": [
    "const ourArray = [];\n",
    "\n",
    "for (let i = 0; i < 10; i += 2) {\n",
    "  ourArray.push(i);\n",
    "}"
   ]
  },
  {
   "cell_type": "markdown",
   "metadata": {},
   "source": [
    "ourArray will now contain [0, 2, 4, 6, 8]. Let's change our initialization so we can count by odd numbers.\n",
    "\n",
    "Push the odd numbers from 1 through 9 to myArray using a for loop."
   ]
  },
  {
   "cell_type": "code",
   "execution_count": null,
   "metadata": {},
   "outputs": [],
   "source": [
    "// Setup\n",
    "const myArray = [];\n",
    "\n",
    "// Only change code below this line\n",
    "for (let i = 1; i < 10; i += 2) {\n",
    "    myArray.push(i);\n",
    "}\n",
    "\n",
    "console.log(myArray);"
   ]
  },
  {
   "cell_type": "code",
   "execution_count": null,
   "metadata": {},
   "outputs": [],
   "source": [
    "// Setup\n",
    "const myArray = [];\n",
    "\n",
    "// Only change code below this line"
   ]
  },
  {
   "cell_type": "markdown",
   "metadata": {},
   "source": [
    "99 Count Backwards With a For Loop\n",
    "\n",
    "A for loop can also count backwards, so long as we can define the right conditions.\n",
    "\n",
    "In order to decrement by two each iteration, we'll need to change our initialization, condition, and final expression.\n",
    "\n",
    "We'll start at i = 10 and loop while i > 0. We'll decrement i by 2 each loop with i -= 2."
   ]
  },
  {
   "cell_type": "code",
   "execution_count": null,
   "metadata": {},
   "outputs": [],
   "source": [
    "const ourArray = [];\n",
    "\n",
    "for (let i = 10; i > 0; i -= 2) {\n",
    "  ourArray.push(i);\n",
    "}"
   ]
  },
  {
   "cell_type": "markdown",
   "metadata": {},
   "source": [
    "ourArray will now contain [10, 8, 6, 4, 2]. Let's change our initialization and final expression so we can count backwards by twos to create an array of descending odd numbers.\n",
    "\n",
    "Push the odd numbers from 9 through 1 to myArray using a for loop."
   ]
  },
  {
   "cell_type": "code",
   "execution_count": null,
   "metadata": {},
   "outputs": [],
   "source": [
    "// Setup\n",
    "const myArray = [];\n",
    "\n",
    "// Only change code below this line"
   ]
  },
  {
   "cell_type": "code",
   "execution_count": null,
   "metadata": {},
   "outputs": [],
   "source": [
    "// Setup\n",
    "const myArray = [];\n",
    "\n",
    "// Only change code below this line\n",
    "for (let i = 9; i > 0; i -= 2) {\n",
    "    myArray.push(i)\n",
    "}\n",
    "\n",
    "console.log(myArray)"
   ]
  },
  {
   "cell_type": "markdown",
   "metadata": {},
   "source": [
    "100 Iterate Through an Array with a For Loop\n",
    "\n",
    "A common task in JavaScript is to iterate through the contents of an array. One way to do that is with a for loop. This code will output each element of the array arr to the console:"
   ]
  },
  {
   "cell_type": "code",
   "execution_count": null,
   "metadata": {},
   "outputs": [],
   "source": [
    "const arr = [10, 9, 8, 7, 6];\n",
    "\n",
    "for (let i = 0; i < arr.length; i++) {\n",
    "   console.log(arr[i]);\n",
    "}"
   ]
  },
  {
   "cell_type": "markdown",
   "metadata": {},
   "source": [
    "Remember that arrays have zero-based indexing, which means the last index of the array is length - 1. Our condition for this loop is i < arr.length, which stops the loop when i is equal to length. In this case the last iteration is i === 4 i.e. when i becomes equal to arr.length - 1 and outputs 6 to the console. Then i increases to 5, and the loop terminates because i < arr.length is false.\n",
    "\n",
    "Declare and initialize a variable total to 0. Use a for loop to add the value of each element of the myArr array to total."
   ]
  },
  {
   "cell_type": "code",
   "execution_count": null,
   "metadata": {},
   "outputs": [],
   "source": [
    "const myArr = [2, 3, 4, 5, 6];\n",
    "\n",
    "// Only change code below this line\n",
    "let total = 0;\n",
    "for (let i = 0; i < myArr.length; i++) {\n",
    "    total += myArr[i];\n",
    "}\n",
    "\n",
    "console.log(total);"
   ]
  },
  {
   "cell_type": "code",
   "execution_count": null,
   "metadata": {},
   "outputs": [],
   "source": [
    "const myArr = [2, 3, 4, 5, 6];\n",
    "\n",
    "// Only change code below this line"
   ]
  },
  {
   "cell_type": "markdown",
   "metadata": {},
   "source": [
    "101 Nesting For Loops\n",
    "\n",
    "If you have a multi-dimensional array, you can use the same logic as the prior waypoint to loop through both the array and any sub-arrays. Here is an example:"
   ]
  },
  {
   "cell_type": "code",
   "execution_count": null,
   "metadata": {},
   "outputs": [],
   "source": [
    "const arr = [\n",
    "    [1, 2], [3, 4], [5, 6]\n",
    "  ];\n",
    "  \n",
    "  for (let i = 0; i < arr.length; i++) {\n",
    "    for (let j = 0; j < arr[i].length; j++) {\n",
    "      console.log(arr[i][j]);\n",
    "    }\n",
    "  }"
   ]
  },
  {
   "cell_type": "markdown",
   "metadata": {},
   "source": [
    "This outputs each sub-element in arr one at a time. Note that for the inner loop, we are checking the .length of arr[i], since arr[i] is itself an array.\n",
    "\n",
    "Modify function multiplyAll so that it returns the product of all the numbers in the sub-arrays of arr."
   ]
  },
  {
   "cell_type": "code",
   "execution_count": null,
   "metadata": {},
   "outputs": [],
   "source": [
    "function multiplyAll(arr) {\n",
    "    let product = 1;\n",
    "    // Only change code below this line\n",
    "  \n",
    "    // Only change code above this line\n",
    "    return product;\n",
    "  }\n",
    "  \n",
    "  multiplyAll([[1, 2], [3, 4], [5, 6, 7]]);"
   ]
  },
  {
   "cell_type": "code",
   "execution_count": null,
   "metadata": {},
   "outputs": [],
   "source": [
    "function multiplyAll(arr) {\n",
    "    let product = 1;\n",
    "    // Only change code below this line\n",
    "    for (let i = 0; i < arr.length; i++) {\n",
    "        for (let j = 0; j < arr[i].length; j++) {\n",
    "            product *= arr[i][j];\n",
    "            //product *= arr[i];\n",
    "        }\n",
    "    }\n",
    "    // Only change code above this line\n",
    "    return product;\n",
    "  }\n",
    "  \n",
    "  multiplyAll([[1, 2], [3, 4], [5, 6, 7]]);"
   ]
  },
  {
   "cell_type": "markdown",
   "metadata": {},
   "source": [
    "102 Iterate with JavaScript Do...While Loops\n",
    "\n",
    "The next type of loop you will learn is called a do...while loop. It is called a do...while loop because it will first do one pass of the code inside the loop no matter what, and then continue to run the loop while the specified condition evaluates to true."
   ]
  },
  {
   "cell_type": "code",
   "execution_count": null,
   "metadata": {},
   "outputs": [],
   "source": [
    "const ourArray = [];\n",
    "let i = 0;\n",
    "\n",
    "do {\n",
    "  ourArray.push(i);\n",
    "  i++;\n",
    "} while (i < 5);"
   ]
  },
  {
   "cell_type": "markdown",
   "metadata": {},
   "source": [
    "The example above behaves similar to other types of loops, and the resulting array will look like [0, 1, 2, 3, 4]. However, what makes the do...while different from other loops is how it behaves when the condition fails on the first check. Let's see this in action. Here is a regular while loop that will run the code in the loop as long as i < 5:"
   ]
  },
  {
   "cell_type": "code",
   "execution_count": null,
   "metadata": {},
   "outputs": [],
   "source": [
    "const ourArray = []; \n",
    "let i = 5;\n",
    "\n",
    "while (i < 5) {\n",
    "  ourArray.push(i);\n",
    "  i++;\n",
    "}"
   ]
  },
  {
   "cell_type": "markdown",
   "metadata": {},
   "source": [
    "In this example, we initialize the value of ourArray to an empty array and the value of i to 5. When we execute the while loop, the condition evaluates to false because i is not less than 5, so we do not execute the code inside the loop. The result is that ourArray will end up with no values added to it, and it will still look like [] when all of the code in the example above has completed running. Now, take a look at a do...while loop:"
   ]
  },
  {
   "cell_type": "code",
   "execution_count": null,
   "metadata": {},
   "outputs": [],
   "source": [
    "const ourArray = []; \n",
    "let i = 5;\n",
    "\n",
    "do {\n",
    "  ourArray.push(i);\n",
    "  i++;\n",
    "} while (i < 5);"
   ]
  },
  {
   "cell_type": "markdown",
   "metadata": {},
   "source": [
    "In this case, we initialize the value of i to 5, just like we did with the while loop. When we get to the next line, there is no condition to evaluate, so we go to the code inside the curly braces and execute it. We will add a single element to the array and then increment i before we get to the condition check. When we finally evaluate the condition i < 5 on the last line, we see that i is now 6, which fails the conditional check, so we exit the loop and are done. At the end of the above example, the value of ourArray is [5]. Essentially, a do...while loop ensures that the code inside the loop will run at least once. Let's try getting a do...while loop to work by pushing values to an array.\n",
    "\n",
    "Change the while loop in the code to a do...while loop so the loop will push only the number 10 to myArray, and i will be equal to 11 when your code has finished running."
   ]
  },
  {
   "cell_type": "code",
   "execution_count": null,
   "metadata": {},
   "outputs": [],
   "source": [
    "// Setup\n",
    "const myArray = [];\n",
    "let i = 10;\n",
    "\n",
    "// Only change code below this line\n",
    "do {\n",
    "  myArray.push(i);\n",
    "  i++;\n",
    "} while (i < 10);\n",
    "\n",
    "console.log(i);"
   ]
  },
  {
   "cell_type": "code",
   "execution_count": null,
   "metadata": {},
   "outputs": [],
   "source": [
    "// Setup\n",
    "const myArray = [];\n",
    "let i = 10;\n",
    "\n",
    "// Only change code below this line\n",
    "while (i < 5) {\n",
    "  myArray.push(i);\n",
    "  i++;\n",
    "}"
   ]
  },
  {
   "cell_type": "markdown",
   "metadata": {},
   "source": [
    "103 Replace Loops using Recursion\n",
    "\n",
    "Recursion is the concept that a function can be expressed in terms of itself. To help understand this, start by thinking about the following task: multiply the first n elements of an array to create the product of those elements. Using a for loop, you could do this:"
   ]
  },
  {
   "cell_type": "code",
   "execution_count": null,
   "metadata": {},
   "outputs": [],
   "source": [
    "function multiply(arr, n) {\n",
    "    let product = 1;\n",
    "    for (let i = 0; i < n; i++) {\n",
    "      product *= arr[i];\n",
    "    }\n",
    "    return product;\n",
    "  }"
   ]
  },
  {
   "cell_type": "markdown",
   "metadata": {},
   "source": [
    "However, notice that multiply(arr, n) == multiply(arr, n - 1) * arr[n - 1]. That means you can rewrite multiply in terms of itself and never need to use a loop."
   ]
  },
  {
   "cell_type": "code",
   "execution_count": null,
   "metadata": {},
   "outputs": [],
   "source": [
    "function multiply(arr, n) {\n",
    "    if (n <= 0) {\n",
    "      return 1;\n",
    "    } else {\n",
    "      return multiply(arr, n - 1) * arr[n - 1];\n",
    "    }\n",
    "  }"
   ]
  },
  {
   "cell_type": "markdown",
   "metadata": {},
   "source": [
    "The recursive version of multiply breaks down like this. In the base case, where n <= 0, it returns 1. For larger values of n, it calls itself, but with n - 1. That function call is evaluated in the same way, calling multiply again until n <= 0. At this point, all the functions can return and the original multiply returns the answer.\n",
    "\n",
    "Note: Recursive functions must have a base case when they return without calling the function again (in this example, when n <= 0), otherwise they can never finish executing.\n",
    "\n",
    "Write a recursive function, sum(arr, n), that returns the sum of the first n elements of an array arr."
   ]
  },
  {
   "cell_type": "code",
   "execution_count": null,
   "metadata": {},
   "outputs": [],
   "source": [
    "function sum(arr, n) {\n",
    "    // Only change code below this line\n",
    "    if (n <= 0) {\n",
    "      return 0;\n",
    "    } else {\n",
    "      return sum(arr, n - 1) + arr[n - 1];\n",
    "    }\n",
    "    // Only change code above this line\n",
    "  }\n",
    "  // sum([1], 0)\n",
    "  // sum([2, 3, 4], 1)\n",
    "  sum([2, 3, 4, 5], 3)"
   ]
  },
  {
   "cell_type": "code",
   "execution_count": null,
   "metadata": {},
   "outputs": [],
   "source": [
    "function sum(arr, n) {\n",
    "    // Only change code below this line\n",
    "  \n",
    "    // Only change code above this line\n",
    "  }"
   ]
  },
  {
   "cell_type": "markdown",
   "metadata": {},
   "source": [
    "104 Profile Lookup\n",
    "\n",
    "We have an array of objects representing different people in our contacts lists.\n",
    "\n",
    "A lookUpProfile function that takes name and a property (prop) as arguments has been pre-written for you.\n",
    "\n",
    "The function should check if name is an actual contact's firstName and the given property (prop) is a property of that contact.\n",
    "\n",
    "If both are true, then return the \"value\" of that property.\n",
    "\n",
    "If name does not correspond to any contacts then return the string No such contact.\n",
    "\n",
    "If prop does not correspond to any valid properties of a contact found to match name then return the string No such property."
   ]
  },
  {
   "cell_type": "code",
   "execution_count": null,
   "metadata": {},
   "outputs": [],
   "source": [
    "// Setup\n",
    "const contacts = [\n",
    "    {\n",
    "      firstName: \"Akira\",\n",
    "      lastName: \"Laine\",\n",
    "      number: \"0543236543\",\n",
    "      likes: [\"Pizza\", \"Coding\", \"Brownie Points\"],\n",
    "    },\n",
    "    {\n",
    "      firstName: \"Harry\",\n",
    "      lastName: \"Potter\",\n",
    "      number: \"0994372684\",\n",
    "      likes: [\"Hogwarts\", \"Magic\", \"Hagrid\"],\n",
    "    },\n",
    "    {\n",
    "      firstName: \"Sherlock\",\n",
    "      lastName: \"Holmes\",\n",
    "      number: \"0487345643\",\n",
    "      likes: [\"Intriguing Cases\", \"Violin\"],\n",
    "    },\n",
    "    {\n",
    "      firstName: \"Kristian\",\n",
    "      lastName: \"Vos\",\n",
    "      number: \"unknown\",\n",
    "      likes: [\"JavaScript\", \"Gaming\", \"Foxes\"],\n",
    "    },\n",
    "  ];\n",
    "  \n",
    "  function lookUpProfile(name, prop) {\n",
    "    for (let i = 0; i < contacts.length; i++) {\n",
    "      if (contacts[i].firstName === name) {\n",
    "        if (contacts[i].hasOwnProperty(prop)) {\n",
    "          return contacts[i][prop];\n",
    "        } else {\n",
    "          return \"No such property\";\n",
    "        }\n",
    "      }\n",
    "    }\n",
    "    return \"No such contact\";\n",
    "  }\n",
    "  \n",
    "  lookUpProfile(\"Bob\", \"number\");\n",
    "  //lookUpProfile(\"Kristian\", \"lastName\")\n",
    "  //lookUpProfile(\"Sherlock\", \"likes\")"
   ]
  },
  {
   "cell_type": "code",
   "execution_count": null,
   "metadata": {},
   "outputs": [],
   "source": [
    "// Setup\n",
    "const contacts = [\n",
    "    {\n",
    "      firstName: \"Akira\",\n",
    "      lastName: \"Laine\",\n",
    "      number: \"0543236543\",\n",
    "      likes: [\"Pizza\", \"Coding\", \"Brownie Points\"],\n",
    "    },\n",
    "    {\n",
    "      firstName: \"Harry\",\n",
    "      lastName: \"Potter\",\n",
    "      number: \"0994372684\",\n",
    "      likes: [\"Hogwarts\", \"Magic\", \"Hagrid\"],\n",
    "    },\n",
    "    {\n",
    "      firstName: \"Sherlock\",\n",
    "      lastName: \"Holmes\",\n",
    "      number: \"0487345643\",\n",
    "      likes: [\"Intriguing Cases\", \"Violin\"],\n",
    "    },\n",
    "    {\n",
    "      firstName: \"Kristian\",\n",
    "      lastName: \"Vos\",\n",
    "      number: \"unknown\",\n",
    "      likes: [\"JavaScript\", \"Gaming\", \"Foxes\"],\n",
    "    },\n",
    "  ];\n",
    "  \n",
    "  function lookUpProfile(name, prop) {\n",
    "    // Only change code below this line\n",
    "  \n",
    "    // Only change code above this line\n",
    "  }\n",
    "  \n",
    " // lookUpProfile(\"Akira\", \"likes\");"
   ]
  }
 ],
 "metadata": {
  "kernelspec": {
   "display_name": "JavaScript (Node.js)",
   "language": "javascript",
   "name": "javascript"
  },
  "language_info": {
   "file_extension": ".js",
   "mimetype": "application/javascript",
   "name": "javascript",
   "version": "16.17.0"
  },
  "orig_nbformat": 4,
  "vscode": {
   "interpreter": {
    "hash": "916dbcbb3f70747c44a77c7bcd40155683ae19c65e1c03b4aa3499c5328201f1"
   }
  }
 },
 "nbformat": 4,
 "nbformat_minor": 2
}
